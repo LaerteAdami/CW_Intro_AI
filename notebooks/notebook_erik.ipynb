{
 "cells": [
  {
   "cell_type": "markdown",
   "metadata": {},
   "source": [
    "# Layout\n",
    "\n",
    "   - We do a preliminary analysis of our data and find: \n",
    "\n",
    "    - **problem 1**: one of the classes is more significant than the rest. \n",
    "\n",
    "    - **problem 2**: we have many outliers\n",
    "    \n",
    "\n",
    "   - We will apply the **supervised learning models** seen in class: \n",
    "\n",
    "    - Decision Trees + Random Forest (related)\n",
    "    - SVM  \n",
    "    - k-Nearest Neighbours \n",
    "    - Naïve Bayes \n",
    "    - Linear Regression \n",
    "    - *NOT* perceptron since we are going to use NN later\n",
    "    \n",
    "   - We will apply the **unsupervised learning models** seen in class: \n",
    "\n",
    "    - K-means \n",
    "    - GMM\n",
    "\n",
    "   - After we have optimized our models, we compare these models' performances with a **Neural Network**: \n",
    "\n",
    "    **Premise**: Neural Networks should allow a higher accuracy score than the supervised and unsupervised learning models. \n",
    "\n",
    "\n",
    "   - Ways of cleaning data: \n",
    "\n",
    "    - PCA\n",
    "    - standardisation \n",
    "    - normalisation\n",
    "\n",
    "\n",
    "   - Ways of evaluating models: \n",
    "\n",
    "    - confusion matrices\n",
    "    - accuracy score\n",
    "    - associated plots "
   ]
  },
  {
   "cell_type": "markdown",
   "metadata": {},
   "source": [
    "# Data"
   ]
  },
  {
   "cell_type": "markdown",
   "metadata": {},
   "source": [
    "We import useful packages"
   ]
  },
  {
   "cell_type": "code",
   "execution_count": 2,
   "metadata": {},
   "outputs": [],
   "source": [
    "#basics\n",
    "import pandas as pd\n",
    "import matplotlib.pyplot as plt\n",
    "import numpy as np\n",
    "import math\n",
    "from scipy.stats import mode\n",
    "import base64\n",
    "import io\n",
    "import os\n",
    "import requests\n",
    "\n",
    "#sklearn\n",
    "from sklearn.preprocessing import StandardScaler\n",
    "from sklearn.model_selection import train_test_split, GridSearchCV\n",
    "from sklearn.metrics import confusion_matrix, ConfusionMatrixDisplay, accuracy_score, mean_squared_error, recall_score\n",
    "from sklearn.decomposition import PCA\n",
    "from sklearn.mixture import GaussianMixture\n",
    "from sklearn.svm import SVC\n",
    "from sklearn.neighbors import KNeighborsClassifier\n",
    "from sklearn.naive_bayes import GaussianNB\n",
    "from sklearn.cluster import KMeans\n",
    "from sklearn.tree import DecisionTreeClassifier \n",
    "from sklearn.ensemble import RandomForestClassifier\n",
    "\n",
    "\n",
    "# tensorflow\n",
    "import tensorflow as tf\n",
    "from tensorflow import keras\n",
    "from tensorflow.keras.models import Sequential\n",
    "from tensorflow.keras.layers import Dense\n",
    "from tensorflow.keras.utils import to_categorical\n"
   ]
  },
  {
   "cell_type": "markdown",
   "metadata": {},
   "source": [
    "We import the data "
   ]
  },
  {
   "cell_type": "code",
   "execution_count": 11,
   "metadata": {},
   "outputs": [
    {
     "data": {
      "text/html": [
       "<div>\n",
       "<style scoped>\n",
       "    .dataframe tbody tr th:only-of-type {\n",
       "        vertical-align: middle;\n",
       "    }\n",
       "\n",
       "    .dataframe tbody tr th {\n",
       "        vertical-align: top;\n",
       "    }\n",
       "\n",
       "    .dataframe thead th {\n",
       "        text-align: right;\n",
       "    }\n",
       "</style>\n",
       "<table border=\"1\" class=\"dataframe\">\n",
       "  <thead>\n",
       "    <tr style=\"text-align: right;\">\n",
       "      <th></th>\n",
       "      <th>b</th>\n",
       "      <th>e</th>\n",
       "      <th>AC</th>\n",
       "      <th>FM</th>\n",
       "      <th>UC</th>\n",
       "      <th>DL</th>\n",
       "      <th>DS</th>\n",
       "      <th>DP</th>\n",
       "      <th>DR</th>\n",
       "      <th>Unnamed: 9</th>\n",
       "      <th>...</th>\n",
       "      <th>E</th>\n",
       "      <th>AD</th>\n",
       "      <th>DE</th>\n",
       "      <th>LD</th>\n",
       "      <th>FS</th>\n",
       "      <th>SUSP</th>\n",
       "      <th>Unnamed: 42</th>\n",
       "      <th>CLASS</th>\n",
       "      <th>Unnamed: 44</th>\n",
       "      <th>NSP</th>\n",
       "    </tr>\n",
       "  </thead>\n",
       "  <tbody>\n",
       "    <tr>\n",
       "      <th>182</th>\n",
       "      <td>916</td>\n",
       "      <td>1182</td>\n",
       "      <td>0</td>\n",
       "      <td>0</td>\n",
       "      <td>0</td>\n",
       "      <td>2</td>\n",
       "      <td>0</td>\n",
       "      <td>0</td>\n",
       "      <td>0</td>\n",
       "      <td>NaN</td>\n",
       "      <td>...</td>\n",
       "      <td>-1</td>\n",
       "      <td>-1</td>\n",
       "      <td>1</td>\n",
       "      <td>-1</td>\n",
       "      <td>-1</td>\n",
       "      <td>-1</td>\n",
       "      <td>NaN</td>\n",
       "      <td>7</td>\n",
       "      <td>NaN</td>\n",
       "      <td>1</td>\n",
       "    </tr>\n",
       "    <tr>\n",
       "      <th>985</th>\n",
       "      <td>928</td>\n",
       "      <td>1649</td>\n",
       "      <td>6</td>\n",
       "      <td>0</td>\n",
       "      <td>4</td>\n",
       "      <td>0</td>\n",
       "      <td>0</td>\n",
       "      <td>0</td>\n",
       "      <td>0</td>\n",
       "      <td>NaN</td>\n",
       "      <td>...</td>\n",
       "      <td>-1</td>\n",
       "      <td>-1</td>\n",
       "      <td>-1</td>\n",
       "      <td>-1</td>\n",
       "      <td>-1</td>\n",
       "      <td>-1</td>\n",
       "      <td>NaN</td>\n",
       "      <td>2</td>\n",
       "      <td>NaN</td>\n",
       "      <td>1</td>\n",
       "    </tr>\n",
       "    <tr>\n",
       "      <th>549</th>\n",
       "      <td>388</td>\n",
       "      <td>1171</td>\n",
       "      <td>0</td>\n",
       "      <td>0</td>\n",
       "      <td>2</td>\n",
       "      <td>0</td>\n",
       "      <td>0</td>\n",
       "      <td>0</td>\n",
       "      <td>0</td>\n",
       "      <td>NaN</td>\n",
       "      <td>...</td>\n",
       "      <td>-1</td>\n",
       "      <td>-1</td>\n",
       "      <td>-1</td>\n",
       "      <td>-1</td>\n",
       "      <td>-1</td>\n",
       "      <td>1</td>\n",
       "      <td>NaN</td>\n",
       "      <td>10</td>\n",
       "      <td>NaN</td>\n",
       "      <td>2</td>\n",
       "    </tr>\n",
       "    <tr>\n",
       "      <th>712</th>\n",
       "      <td>12</td>\n",
       "      <td>592</td>\n",
       "      <td>3</td>\n",
       "      <td>2</td>\n",
       "      <td>3</td>\n",
       "      <td>0</td>\n",
       "      <td>0</td>\n",
       "      <td>0</td>\n",
       "      <td>0</td>\n",
       "      <td>NaN</td>\n",
       "      <td>...</td>\n",
       "      <td>-1</td>\n",
       "      <td>-1</td>\n",
       "      <td>-1</td>\n",
       "      <td>-1</td>\n",
       "      <td>-1</td>\n",
       "      <td>-1</td>\n",
       "      <td>NaN</td>\n",
       "      <td>2</td>\n",
       "      <td>NaN</td>\n",
       "      <td>1</td>\n",
       "    </tr>\n",
       "    <tr>\n",
       "      <th>366</th>\n",
       "      <td>350</td>\n",
       "      <td>779</td>\n",
       "      <td>0</td>\n",
       "      <td>8</td>\n",
       "      <td>1</td>\n",
       "      <td>0</td>\n",
       "      <td>0</td>\n",
       "      <td>0</td>\n",
       "      <td>0</td>\n",
       "      <td>NaN</td>\n",
       "      <td>...</td>\n",
       "      <td>-1</td>\n",
       "      <td>-1</td>\n",
       "      <td>-1</td>\n",
       "      <td>-1</td>\n",
       "      <td>-1</td>\n",
       "      <td>1</td>\n",
       "      <td>NaN</td>\n",
       "      <td>10</td>\n",
       "      <td>NaN</td>\n",
       "      <td>2</td>\n",
       "    </tr>\n",
       "  </tbody>\n",
       "</table>\n",
       "<p>5 rows × 46 columns</p>\n",
       "</div>"
      ],
      "text/plain": [
       "       b     e  AC  FM  UC  DL  DS  DP  DR  Unnamed: 9  ...  E  AD  DE  LD  \\\n",
       "182  916  1182   0   0   0   2   0   0   0         NaN  ... -1  -1   1  -1   \n",
       "985  928  1649   6   0   4   0   0   0   0         NaN  ... -1  -1  -1  -1   \n",
       "549  388  1171   0   0   2   0   0   0   0         NaN  ... -1  -1  -1  -1   \n",
       "712   12   592   3   2   3   0   0   0   0         NaN  ... -1  -1  -1  -1   \n",
       "366  350   779   0   8   1   0   0   0   0         NaN  ... -1  -1  -1  -1   \n",
       "\n",
       "     FS  SUSP  Unnamed: 42  CLASS  Unnamed: 44  NSP  \n",
       "182  -1    -1          NaN      7          NaN    1  \n",
       "985  -1    -1          NaN      2          NaN    1  \n",
       "549  -1     1          NaN     10          NaN    2  \n",
       "712  -1    -1          NaN      2          NaN    1  \n",
       "366  -1     1          NaN     10          NaN    2  \n",
       "\n",
       "[5 rows x 46 columns]"
      ]
     },
     "execution_count": 11,
     "metadata": {},
     "output_type": "execute_result"
    }
   ],
   "source": [
    "path = \"/Users/erikgutierrezduthiers/Desktop/CW_Intro_AI/data/\"\n",
    "filename = \"CTG.xls\"\n",
    "\n",
    "df = pd.read_excel(path+filename, sheet_name = \"Data\",header=1)\n",
    "df = df.reindex(np.random.permutation(df.index))\n",
    "df.head()\n",
    "# shape: (891, 12) assdsd"
   ]
  },
  {
   "cell_type": "markdown",
   "metadata": {},
   "source": [
    "**Data description**:\n",
    "\n",
    "* 2126 fetal cardiotocograms (CTGs).\n",
    "* CTGs classified by: \n",
    "    * morphologic pattern (A, B, C....) - 10-class experiment\n",
    "    * fetal state (N, S, P) - 3-class experiment"
   ]
  },
  {
   "cell_type": "code",
   "execution_count": 12,
   "metadata": {},
   "outputs": [
    {
     "data": {
      "text/html": [
       "<div>\n",
       "<style scoped>\n",
       "    .dataframe tbody tr th:only-of-type {\n",
       "        vertical-align: middle;\n",
       "    }\n",
       "\n",
       "    .dataframe tbody tr th {\n",
       "        vertical-align: top;\n",
       "    }\n",
       "\n",
       "    .dataframe thead th {\n",
       "        text-align: right;\n",
       "    }\n",
       "</style>\n",
       "<table border=\"1\" class=\"dataframe\">\n",
       "  <thead>\n",
       "    <tr style=\"text-align: right;\">\n",
       "      <th></th>\n",
       "      <th>LB</th>\n",
       "      <th>AC</th>\n",
       "      <th>FM</th>\n",
       "      <th>UC</th>\n",
       "      <th>DL</th>\n",
       "      <th>DS</th>\n",
       "      <th>DP</th>\n",
       "      <th>ASTV</th>\n",
       "      <th>MSTV</th>\n",
       "      <th>ALTV</th>\n",
       "      <th>...</th>\n",
       "      <th>Width</th>\n",
       "      <th>Min</th>\n",
       "      <th>Max</th>\n",
       "      <th>Nmax</th>\n",
       "      <th>Nzeros</th>\n",
       "      <th>Mode</th>\n",
       "      <th>Mean</th>\n",
       "      <th>Median</th>\n",
       "      <th>Variance</th>\n",
       "      <th>Tendency</th>\n",
       "    </tr>\n",
       "  </thead>\n",
       "  <tbody>\n",
       "    <tr>\n",
       "      <th>182</th>\n",
       "      <td>131</td>\n",
       "      <td>0</td>\n",
       "      <td>0</td>\n",
       "      <td>0</td>\n",
       "      <td>2</td>\n",
       "      <td>0</td>\n",
       "      <td>0</td>\n",
       "      <td>37</td>\n",
       "      <td>1.9</td>\n",
       "      <td>0</td>\n",
       "      <td>...</td>\n",
       "      <td>90</td>\n",
       "      <td>58</td>\n",
       "      <td>148</td>\n",
       "      <td>4</td>\n",
       "      <td>1</td>\n",
       "      <td>127</td>\n",
       "      <td>121</td>\n",
       "      <td>126</td>\n",
       "      <td>21</td>\n",
       "      <td>1</td>\n",
       "    </tr>\n",
       "    <tr>\n",
       "      <th>985</th>\n",
       "      <td>131</td>\n",
       "      <td>6</td>\n",
       "      <td>0</td>\n",
       "      <td>4</td>\n",
       "      <td>0</td>\n",
       "      <td>0</td>\n",
       "      <td>0</td>\n",
       "      <td>25</td>\n",
       "      <td>1.3</td>\n",
       "      <td>0</td>\n",
       "      <td>...</td>\n",
       "      <td>42</td>\n",
       "      <td>117</td>\n",
       "      <td>159</td>\n",
       "      <td>1</td>\n",
       "      <td>0</td>\n",
       "      <td>136</td>\n",
       "      <td>138</td>\n",
       "      <td>139</td>\n",
       "      <td>5</td>\n",
       "      <td>0</td>\n",
       "    </tr>\n",
       "    <tr>\n",
       "      <th>549</th>\n",
       "      <td>141</td>\n",
       "      <td>0</td>\n",
       "      <td>0</td>\n",
       "      <td>2</td>\n",
       "      <td>0</td>\n",
       "      <td>0</td>\n",
       "      <td>0</td>\n",
       "      <td>61</td>\n",
       "      <td>0.4</td>\n",
       "      <td>22</td>\n",
       "      <td>...</td>\n",
       "      <td>19</td>\n",
       "      <td>133</td>\n",
       "      <td>152</td>\n",
       "      <td>1</td>\n",
       "      <td>0</td>\n",
       "      <td>144</td>\n",
       "      <td>143</td>\n",
       "      <td>145</td>\n",
       "      <td>0</td>\n",
       "      <td>0</td>\n",
       "    </tr>\n",
       "    <tr>\n",
       "      <th>712</th>\n",
       "      <td>126</td>\n",
       "      <td>3</td>\n",
       "      <td>2</td>\n",
       "      <td>3</td>\n",
       "      <td>0</td>\n",
       "      <td>0</td>\n",
       "      <td>0</td>\n",
       "      <td>41</td>\n",
       "      <td>1.7</td>\n",
       "      <td>0</td>\n",
       "      <td>...</td>\n",
       "      <td>100</td>\n",
       "      <td>50</td>\n",
       "      <td>150</td>\n",
       "      <td>4</td>\n",
       "      <td>0</td>\n",
       "      <td>133</td>\n",
       "      <td>130</td>\n",
       "      <td>132</td>\n",
       "      <td>10</td>\n",
       "      <td>1</td>\n",
       "    </tr>\n",
       "    <tr>\n",
       "      <th>366</th>\n",
       "      <td>135</td>\n",
       "      <td>0</td>\n",
       "      <td>8</td>\n",
       "      <td>1</td>\n",
       "      <td>0</td>\n",
       "      <td>0</td>\n",
       "      <td>0</td>\n",
       "      <td>63</td>\n",
       "      <td>0.4</td>\n",
       "      <td>60</td>\n",
       "      <td>...</td>\n",
       "      <td>8</td>\n",
       "      <td>133</td>\n",
       "      <td>141</td>\n",
       "      <td>1</td>\n",
       "      <td>0</td>\n",
       "      <td>136</td>\n",
       "      <td>136</td>\n",
       "      <td>137</td>\n",
       "      <td>0</td>\n",
       "      <td>0</td>\n",
       "    </tr>\n",
       "  </tbody>\n",
       "</table>\n",
       "<p>5 rows × 21 columns</p>\n",
       "</div>"
      ],
      "text/plain": [
       "      LB  AC  FM  UC  DL  DS  DP  ASTV  MSTV  ALTV  ...  Width  Min  Max  \\\n",
       "182  131   0   0   0   2   0   0    37   1.9     0  ...     90   58  148   \n",
       "985  131   6   0   4   0   0   0    25   1.3     0  ...     42  117  159   \n",
       "549  141   0   0   2   0   0   0    61   0.4    22  ...     19  133  152   \n",
       "712  126   3   2   3   0   0   0    41   1.7     0  ...    100   50  150   \n",
       "366  135   0   8   1   0   0   0    63   0.4    60  ...      8  133  141   \n",
       "\n",
       "     Nmax  Nzeros  Mode  Mean  Median  Variance  Tendency  \n",
       "182     4       1   127   121     126        21         1  \n",
       "985     1       0   136   138     139         5         0  \n",
       "549     1       0   144   143     145         0         0  \n",
       "712     4       0   133   130     132        10         1  \n",
       "366     1       0   136   136     137         0         0  \n",
       "\n",
       "[5 rows x 21 columns]"
      ]
     },
     "execution_count": 12,
     "metadata": {},
     "output_type": "execute_result"
    }
   ],
   "source": [
    "# Columns to be considered in the dataset\n",
    "columns = [\"LB\", \"AC\", \"FM\", \"UC\", \"DL\", \"DS\", \"DP\", \n",
    "           \"ASTV\", \"MSTV\", \"ALTV\", \"MLTV\", \"Width\", \"Min\", \n",
    "           \"Max\", \"Nmax\", \"Nzeros\", \"Mode\", \"Mean\", \"Median\", \"Variance\", \"Tendency\"]\n",
    "\n",
    "#Prepare X and y\n",
    "X = df[columns]\n",
    "y1 = df[\"NSP\"]\n",
    "y2 = df[\"CLASS\"]\n",
    "X.head()\n",
    "\n"
   ]
  },
  {
   "cell_type": "code",
   "execution_count": 13,
   "metadata": {},
   "outputs": [
    {
     "name": "stdout",
     "output_type": "stream",
     "text": [
      "(2126, 21)\n",
      "(2126,)\n"
     ]
    }
   ],
   "source": [
    "print(X.shape)\n",
    "print(y1.shape)\n"
   ]
  },
  {
   "cell_type": "markdown",
   "metadata": {},
   "source": [
    "# Standardization \n"
   ]
  },
  {
   "cell_type": "code",
   "execution_count": 14,
   "metadata": {},
   "outputs": [
    {
     "data": {
      "text/html": [
       "<div>\n",
       "<style scoped>\n",
       "    .dataframe tbody tr th:only-of-type {\n",
       "        vertical-align: middle;\n",
       "    }\n",
       "\n",
       "    .dataframe tbody tr th {\n",
       "        vertical-align: top;\n",
       "    }\n",
       "\n",
       "    .dataframe thead th {\n",
       "        text-align: right;\n",
       "    }\n",
       "</style>\n",
       "<table border=\"1\" class=\"dataframe\">\n",
       "  <thead>\n",
       "    <tr style=\"text-align: right;\">\n",
       "      <th></th>\n",
       "      <th>LB</th>\n",
       "      <th>AC</th>\n",
       "      <th>FM</th>\n",
       "      <th>UC</th>\n",
       "      <th>DL</th>\n",
       "      <th>DS</th>\n",
       "      <th>DP</th>\n",
       "      <th>ASTV</th>\n",
       "      <th>MSTV</th>\n",
       "      <th>ALTV</th>\n",
       "      <th>...</th>\n",
       "      <th>Width</th>\n",
       "      <th>Min</th>\n",
       "      <th>Max</th>\n",
       "      <th>Nmax</th>\n",
       "      <th>Nzeros</th>\n",
       "      <th>Mode</th>\n",
       "      <th>Mean</th>\n",
       "      <th>Median</th>\n",
       "      <th>Variance</th>\n",
       "      <th>Tendency</th>\n",
       "    </tr>\n",
       "  </thead>\n",
       "  <tbody>\n",
       "    <tr>\n",
       "      <th>0</th>\n",
       "      <td>-0.234167</td>\n",
       "      <td>-0.764740</td>\n",
       "      <td>-0.195096</td>\n",
       "      <td>-1.285798</td>\n",
       "      <td>0.172060</td>\n",
       "      <td>-0.057476</td>\n",
       "      <td>-0.27153</td>\n",
       "      <td>-0.581201</td>\n",
       "      <td>0.642349</td>\n",
       "      <td>-0.535361</td>\n",
       "      <td>...</td>\n",
       "      <td>0.502075</td>\n",
       "      <td>-1.203911</td>\n",
       "      <td>-0.893279</td>\n",
       "      <td>-0.02313</td>\n",
       "      <td>0.958201</td>\n",
       "      <td>-0.638197</td>\n",
       "      <td>-0.873034</td>\n",
       "      <td>-0.835937</td>\n",
       "      <td>0.075659</td>\n",
       "      <td>1.112980</td>\n",
       "    </tr>\n",
       "    <tr>\n",
       "      <th>1</th>\n",
       "      <td>-0.234167</td>\n",
       "      <td>0.920647</td>\n",
       "      <td>-0.195096</td>\n",
       "      <td>0.119475</td>\n",
       "      <td>-0.628375</td>\n",
       "      <td>-0.057476</td>\n",
       "      <td>-0.27153</td>\n",
       "      <td>-1.279331</td>\n",
       "      <td>-0.037127</td>\n",
       "      <td>-0.535361</td>\n",
       "      <td>...</td>\n",
       "      <td>-0.730384</td>\n",
       "      <td>0.792485</td>\n",
       "      <td>-0.280123</td>\n",
       "      <td>-1.04053</td>\n",
       "      <td>-0.458444</td>\n",
       "      <td>-0.088660</td>\n",
       "      <td>0.217414</td>\n",
       "      <td>0.062897</td>\n",
       "      <td>-0.476621</td>\n",
       "      <td>-0.524526</td>\n",
       "    </tr>\n",
       "    <tr>\n",
       "      <th>2</th>\n",
       "      <td>0.782245</td>\n",
       "      <td>-0.764740</td>\n",
       "      <td>-0.195096</td>\n",
       "      <td>-0.583161</td>\n",
       "      <td>-0.628375</td>\n",
       "      <td>-0.057476</td>\n",
       "      <td>-0.27153</td>\n",
       "      <td>0.815060</td>\n",
       "      <td>-1.056341</td>\n",
       "      <td>0.660775</td>\n",
       "      <td>...</td>\n",
       "      <td>-1.320937</td>\n",
       "      <td>1.333880</td>\n",
       "      <td>-0.670314</td>\n",
       "      <td>-1.04053</td>\n",
       "      <td>-0.458444</td>\n",
       "      <td>0.399817</td>\n",
       "      <td>0.538134</td>\n",
       "      <td>0.477743</td>\n",
       "      <td>-0.649208</td>\n",
       "      <td>-0.524526</td>\n",
       "    </tr>\n",
       "    <tr>\n",
       "      <th>3</th>\n",
       "      <td>-0.742373</td>\n",
       "      <td>0.077954</td>\n",
       "      <td>-0.141212</td>\n",
       "      <td>-0.231843</td>\n",
       "      <td>-0.628375</td>\n",
       "      <td>-0.057476</td>\n",
       "      <td>-0.27153</td>\n",
       "      <td>-0.348490</td>\n",
       "      <td>0.415857</td>\n",
       "      <td>-0.535361</td>\n",
       "      <td>...</td>\n",
       "      <td>0.758838</td>\n",
       "      <td>-1.474609</td>\n",
       "      <td>-0.781796</td>\n",
       "      <td>-0.02313</td>\n",
       "      <td>-0.458444</td>\n",
       "      <td>-0.271839</td>\n",
       "      <td>-0.295738</td>\n",
       "      <td>-0.421091</td>\n",
       "      <td>-0.304033</td>\n",
       "      <td>1.112980</td>\n",
       "    </tr>\n",
       "    <tr>\n",
       "      <th>4</th>\n",
       "      <td>0.172398</td>\n",
       "      <td>-0.764740</td>\n",
       "      <td>0.020441</td>\n",
       "      <td>-0.934480</td>\n",
       "      <td>-0.628375</td>\n",
       "      <td>-0.057476</td>\n",
       "      <td>-0.27153</td>\n",
       "      <td>0.931415</td>\n",
       "      <td>-1.056341</td>\n",
       "      <td>2.726829</td>\n",
       "      <td>...</td>\n",
       "      <td>-1.603375</td>\n",
       "      <td>1.333880</td>\n",
       "      <td>-1.283470</td>\n",
       "      <td>-1.04053</td>\n",
       "      <td>-0.458444</td>\n",
       "      <td>-0.088660</td>\n",
       "      <td>0.089126</td>\n",
       "      <td>-0.075385</td>\n",
       "      <td>-0.649208</td>\n",
       "      <td>-0.524526</td>\n",
       "    </tr>\n",
       "  </tbody>\n",
       "</table>\n",
       "<p>5 rows × 21 columns</p>\n",
       "</div>"
      ],
      "text/plain": [
       "         LB        AC        FM        UC        DL        DS       DP  \\\n",
       "0 -0.234167 -0.764740 -0.195096 -1.285798  0.172060 -0.057476 -0.27153   \n",
       "1 -0.234167  0.920647 -0.195096  0.119475 -0.628375 -0.057476 -0.27153   \n",
       "2  0.782245 -0.764740 -0.195096 -0.583161 -0.628375 -0.057476 -0.27153   \n",
       "3 -0.742373  0.077954 -0.141212 -0.231843 -0.628375 -0.057476 -0.27153   \n",
       "4  0.172398 -0.764740  0.020441 -0.934480 -0.628375 -0.057476 -0.27153   \n",
       "\n",
       "       ASTV      MSTV      ALTV  ...     Width       Min       Max     Nmax  \\\n",
       "0 -0.581201  0.642349 -0.535361  ...  0.502075 -1.203911 -0.893279 -0.02313   \n",
       "1 -1.279331 -0.037127 -0.535361  ... -0.730384  0.792485 -0.280123 -1.04053   \n",
       "2  0.815060 -1.056341  0.660775  ... -1.320937  1.333880 -0.670314 -1.04053   \n",
       "3 -0.348490  0.415857 -0.535361  ...  0.758838 -1.474609 -0.781796 -0.02313   \n",
       "4  0.931415 -1.056341  2.726829  ... -1.603375  1.333880 -1.283470 -1.04053   \n",
       "\n",
       "     Nzeros      Mode      Mean    Median  Variance  Tendency  \n",
       "0  0.958201 -0.638197 -0.873034 -0.835937  0.075659  1.112980  \n",
       "1 -0.458444 -0.088660  0.217414  0.062897 -0.476621 -0.524526  \n",
       "2 -0.458444  0.399817  0.538134  0.477743 -0.649208 -0.524526  \n",
       "3 -0.458444 -0.271839 -0.295738 -0.421091 -0.304033  1.112980  \n",
       "4 -0.458444 -0.088660  0.089126 -0.075385 -0.649208 -0.524526  \n",
       "\n",
       "[5 rows x 21 columns]"
      ]
     },
     "execution_count": 14,
     "metadata": {},
     "output_type": "execute_result"
    }
   ],
   "source": [
    "# Apply the standar scaler to features\n",
    "sc = StandardScaler()\n",
    "sc.fit(X)\n",
    "X_std = pd.DataFrame(sc.transform(X),columns=columns)\n",
    "X_std.head()"
   ]
  },
  {
   "cell_type": "markdown",
   "metadata": {},
   "source": [
    "Data standardization is used to minimize the difference in the ranges of the features, ensuring the gradient descent moves smoothly towards the minima and that the steps for gradient descent are updated at the same rate for all the features. However, scaling does not significantly affect our accuracy in our case because our features are within the same range (i.e., 0 - 200).  "
   ]
  },
  {
   "cell_type": "markdown",
   "metadata": {},
   "source": [
    "# Outliers"
   ]
  },
  {
   "cell_type": "markdown",
   "metadata": {},
   "source": [
    "We visualize the scaled data using boxplot: "
   ]
  },
  {
   "cell_type": "code",
   "execution_count": 15,
   "metadata": {},
   "outputs": [
    {
     "data": {
      "image/png": "[encoded data removed]",
      "text/plain": [
       "<Figure size 1000x1000 with 1 Axes>"
      ]
     },
     "metadata": {},
     "output_type": "display_data"
    }
   ],
   "source": [
    "fig, ax = plt.subplots(figsize=(10,10))\n",
    "\n",
    "bp = plt.boxplot(X_std,labels=columns,vert=0,patch_artist = True)\n",
    "\n",
    "ax.axvline(3, c = \"red\", linestyle=\"--\", alpha = 0.5)\n",
    "ax.axvline(-3, c = \"red\", linestyle=\"--\", alpha = 0.5)\n",
    "\n",
    "\n",
    "plt.gca().xaxis.grid(True)\n",
    "\n",
    "# source for aestetic improvements: https://www.geeksforgeeks.org/box-plot-in-python-using-matplotlib/\n",
    "for dot in bp['fliers']:\n",
    "    dot.set(marker ='o',\n",
    "              color ='lightgrey',\n",
    "              alpha = 0.5)\n",
    "    "
   ]
  },
  {
   "cell_type": "markdown",
   "metadata": {},
   "source": [
    "Let us take out the outiliers and see how that affects the accuracy score of our models"
   ]
  },
  {
   "cell_type": "code",
   "execution_count": 16,
   "metadata": {},
   "outputs": [],
   "source": [
    "df= pd.concat((X_std,y1),axis=1)\n",
    "df_nout = df[(np.abs(df[columns]) < 3).all(axis=1)]\n",
    "df_nout.head()\n",
    "\n",
    "X_nout = df_nout[columns]\n",
    "y1_nout = df_nout[\"NSP\"]"
   ]
  },
  {
   "cell_type": "code",
   "execution_count": 17,
   "metadata": {},
   "outputs": [
    {
     "data": {
      "image/png": "[encoded data removed]",
      "text/plain": [
       "<Figure size 700x700 with 1 Axes>"
      ]
     },
     "metadata": {},
     "output_type": "display_data"
    }
   ],
   "source": [
    "fig, ax = plt.subplots(figsize=(7,7))\n",
    "\n",
    "\n",
    "bp = plt.boxplot(X_nout, labels=columns,vert=0,patch_artist = True)\n",
    "ax.axvline(3, c = \"red\", linestyle=\"--\", alpha = 0.5)\n",
    "ax.axvline(-3, c = \"red\", linestyle=\"--\", alpha = 0.5)\n",
    "ax.set_xlim(-5,20)\n",
    "plt.xlabel(r'$\\frac{x-\\mu}{\\sigma}$', fontsize=18)\n",
    "plt.gca().xaxis.grid(True)\n",
    "\n",
    "# source for aestetic improvements: https://www.geeksforgeeks.org/box-plot-in-python-using-matplotlib/\n",
    "for dot in bp['fliers']:\n",
    "    dot.set(marker ='o',\n",
    "              color ='lightgrey',\n",
    "              alpha = 0.5)"
   ]
  },
  {
   "cell_type": "markdown",
   "metadata": {},
   "source": [
    "We have a lot of outliers deviating the mean of our features. This is a problem we must consider. "
   ]
  },
  {
   "cell_type": "code",
   "execution_count": 18,
   "metadata": {},
   "outputs": [
    {
     "ename": "KeyError",
     "evalue": "'CLASS'",
     "output_type": "error",
     "traceback": [
      "\u001b[0;31m---------------------------------------------------------------------------\u001b[0m",
      "\u001b[0;31mKeyError\u001b[0m                                  Traceback (most recent call last)",
      "\u001b[0;32m~/opt/anaconda3/lib/python3.9/site-packages/pandas/core/indexes/base.py\u001b[0m in \u001b[0;36mget_loc\u001b[0;34m(self, key, method, tolerance)\u001b[0m\n\u001b[1;32m   3628\u001b[0m             \u001b[0;32mtry\u001b[0m\u001b[0;34m:\u001b[0m\u001b[0;34m\u001b[0m\u001b[0;34m\u001b[0m\u001b[0m\n\u001b[0;32m-> 3629\u001b[0;31m                 \u001b[0;32mreturn\u001b[0m \u001b[0mself\u001b[0m\u001b[0;34m.\u001b[0m\u001b[0m_engine\u001b[0m\u001b[0;34m.\u001b[0m\u001b[0mget_loc\u001b[0m\u001b[0;34m(\u001b[0m\u001b[0mcasted_key\u001b[0m\u001b[0;34m)\u001b[0m\u001b[0;34m\u001b[0m\u001b[0;34m\u001b[0m\u001b[0m\n\u001b[0m\u001b[1;32m   3630\u001b[0m             \u001b[0;32mexcept\u001b[0m \u001b[0mKeyError\u001b[0m \u001b[0;32mas\u001b[0m \u001b[0merr\u001b[0m\u001b[0;34m:\u001b[0m\u001b[0;34m\u001b[0m\u001b[0;34m\u001b[0m\u001b[0m\n",
      "\u001b[0;32m~/opt/anaconda3/lib/python3.9/site-packages/pandas/_libs/index.pyx\u001b[0m in \u001b[0;36mpandas._libs.index.IndexEngine.get_loc\u001b[0;34m()\u001b[0m\n",
      "\u001b[0;32m~/opt/anaconda3/lib/python3.9/site-packages/pandas/_libs/index.pyx\u001b[0m in \u001b[0;36mpandas._libs.index.IndexEngine.get_loc\u001b[0;34m()\u001b[0m\n",
      "\u001b[0;32mpandas/_libs/hashtable_class_helper.pxi\u001b[0m in \u001b[0;36mpandas._libs.hashtable.PyObjectHashTable.get_item\u001b[0;34m()\u001b[0m\n",
      "\u001b[0;32mpandas/_libs/hashtable_class_helper.pxi\u001b[0m in \u001b[0;36mpandas._libs.hashtable.PyObjectHashTable.get_item\u001b[0;34m()\u001b[0m\n",
      "\u001b[0;31mKeyError\u001b[0m: 'CLASS'",
      "\nThe above exception was the direct cause of the following exception:\n",
      "\u001b[0;31mKeyError\u001b[0m                                  Traceback (most recent call last)",
      "\u001b[0;32m/var/folders/2l/jlrfpp5j0r56d70c3chnnb6m0000gn/T/ipykernel_7250/1816929628.py\u001b[0m in \u001b[0;36m<module>\u001b[0;34m\u001b[0m\n\u001b[1;32m      6\u001b[0m \u001b[0;34m\u001b[0m\u001b[0m\n\u001b[1;32m      7\u001b[0m \u001b[0max\u001b[0m\u001b[0;34m[\u001b[0m\u001b[0;36m0\u001b[0m\u001b[0;34m]\u001b[0m\u001b[0;34m.\u001b[0m\u001b[0mbar\u001b[0m\u001b[0;34m(\u001b[0m\u001b[0mdf\u001b[0m\u001b[0;34m[\u001b[0m\u001b[0;34m\"NSP\"\u001b[0m\u001b[0;34m]\u001b[0m\u001b[0;34m.\u001b[0m\u001b[0munique\u001b[0m\u001b[0;34m(\u001b[0m\u001b[0;34m)\u001b[0m\u001b[0;34m,\u001b[0m\u001b[0mdf\u001b[0m\u001b[0;34m.\u001b[0m\u001b[0mgroupby\u001b[0m\u001b[0;34m(\u001b[0m\u001b[0mby\u001b[0m\u001b[0;34m=\u001b[0m\u001b[0;34m\"NSP\"\u001b[0m\u001b[0;34m)\u001b[0m\u001b[0;34m.\u001b[0m\u001b[0msize\u001b[0m\u001b[0;34m(\u001b[0m\u001b[0;34m)\u001b[0m\u001b[0;34m,\u001b[0m \u001b[0mcolor\u001b[0m\u001b[0;34m=\u001b[0m\u001b[0mmy_cmap\u001b[0m\u001b[0;34m(\u001b[0m\u001b[0mrescale\u001b[0m\u001b[0;34m(\u001b[0m\u001b[0mdf\u001b[0m\u001b[0;34m[\u001b[0m\u001b[0;34m\"NSP\"\u001b[0m\u001b[0;34m]\u001b[0m\u001b[0;34m.\u001b[0m\u001b[0munique\u001b[0m\u001b[0;34m(\u001b[0m\u001b[0;34m)\u001b[0m\u001b[0;34m)\u001b[0m\u001b[0;34m)\u001b[0m\u001b[0;34m)\u001b[0m\u001b[0;34m\u001b[0m\u001b[0;34m\u001b[0m\u001b[0m\n\u001b[0;32m----> 8\u001b[0;31m \u001b[0max\u001b[0m\u001b[0;34m[\u001b[0m\u001b[0;36m1\u001b[0m\u001b[0;34m]\u001b[0m\u001b[0;34m.\u001b[0m\u001b[0mbar\u001b[0m\u001b[0;34m(\u001b[0m\u001b[0mdf\u001b[0m\u001b[0;34m[\u001b[0m\u001b[0;34m\"CLASS\"\u001b[0m\u001b[0;34m]\u001b[0m\u001b[0;34m.\u001b[0m\u001b[0munique\u001b[0m\u001b[0;34m(\u001b[0m\u001b[0;34m)\u001b[0m\u001b[0;34m,\u001b[0m\u001b[0mdf\u001b[0m\u001b[0;34m.\u001b[0m\u001b[0mgroupby\u001b[0m\u001b[0;34m(\u001b[0m\u001b[0mby\u001b[0m\u001b[0;34m=\u001b[0m\u001b[0;34m\"CLASS\"\u001b[0m\u001b[0;34m)\u001b[0m\u001b[0;34m.\u001b[0m\u001b[0msize\u001b[0m\u001b[0;34m(\u001b[0m\u001b[0;34m)\u001b[0m\u001b[0;34m,\u001b[0m\u001b[0mcolor\u001b[0m\u001b[0;34m=\u001b[0m\u001b[0mmy_cmap\u001b[0m\u001b[0;34m(\u001b[0m\u001b[0mrescale\u001b[0m\u001b[0;34m(\u001b[0m\u001b[0mdf\u001b[0m\u001b[0;34m[\u001b[0m\u001b[0;34m\"CLASS\"\u001b[0m\u001b[0;34m]\u001b[0m\u001b[0;34m.\u001b[0m\u001b[0munique\u001b[0m\u001b[0;34m(\u001b[0m\u001b[0;34m)\u001b[0m\u001b[0;34m)\u001b[0m\u001b[0;34m)\u001b[0m\u001b[0;34m)\u001b[0m\u001b[0;34m\u001b[0m\u001b[0;34m\u001b[0m\u001b[0m\n\u001b[0m\u001b[1;32m      9\u001b[0m \u001b[0;34m\u001b[0m\u001b[0m\n\u001b[1;32m     10\u001b[0m \u001b[0max\u001b[0m\u001b[0;34m[\u001b[0m\u001b[0;36m0\u001b[0m\u001b[0;34m]\u001b[0m\u001b[0;34m.\u001b[0m\u001b[0mset_xticks\u001b[0m\u001b[0;34m(\u001b[0m\u001b[0mnp\u001b[0m\u001b[0;34m.\u001b[0m\u001b[0marange\u001b[0m\u001b[0;34m(\u001b[0m\u001b[0;36m1\u001b[0m\u001b[0;34m,\u001b[0m\u001b[0;36m4\u001b[0m\u001b[0;34m)\u001b[0m\u001b[0;34m)\u001b[0m\u001b[0;34m\u001b[0m\u001b[0;34m\u001b[0m\u001b[0m\n",
      "\u001b[0;32m~/opt/anaconda3/lib/python3.9/site-packages/pandas/core/frame.py\u001b[0m in \u001b[0;36m__getitem__\u001b[0;34m(self, key)\u001b[0m\n\u001b[1;32m   3503\u001b[0m             \u001b[0;32mif\u001b[0m \u001b[0mself\u001b[0m\u001b[0;34m.\u001b[0m\u001b[0mcolumns\u001b[0m\u001b[0;34m.\u001b[0m\u001b[0mnlevels\u001b[0m \u001b[0;34m>\u001b[0m \u001b[0;36m1\u001b[0m\u001b[0;34m:\u001b[0m\u001b[0;34m\u001b[0m\u001b[0;34m\u001b[0m\u001b[0m\n\u001b[1;32m   3504\u001b[0m                 \u001b[0;32mreturn\u001b[0m \u001b[0mself\u001b[0m\u001b[0;34m.\u001b[0m\u001b[0m_getitem_multilevel\u001b[0m\u001b[0;34m(\u001b[0m\u001b[0mkey\u001b[0m\u001b[0;34m)\u001b[0m\u001b[0;34m\u001b[0m\u001b[0;34m\u001b[0m\u001b[0m\n\u001b[0;32m-> 3505\u001b[0;31m             \u001b[0mindexer\u001b[0m \u001b[0;34m=\u001b[0m \u001b[0mself\u001b[0m\u001b[0;34m.\u001b[0m\u001b[0mcolumns\u001b[0m\u001b[0;34m.\u001b[0m\u001b[0mget_loc\u001b[0m\u001b[0;34m(\u001b[0m\u001b[0mkey\u001b[0m\u001b[0;34m)\u001b[0m\u001b[0;34m\u001b[0m\u001b[0;34m\u001b[0m\u001b[0m\n\u001b[0m\u001b[1;32m   3506\u001b[0m             \u001b[0;32mif\u001b[0m \u001b[0mis_integer\u001b[0m\u001b[0;34m(\u001b[0m\u001b[0mindexer\u001b[0m\u001b[0;34m)\u001b[0m\u001b[0;34m:\u001b[0m\u001b[0;34m\u001b[0m\u001b[0;34m\u001b[0m\u001b[0m\n\u001b[1;32m   3507\u001b[0m                 \u001b[0mindexer\u001b[0m \u001b[0;34m=\u001b[0m \u001b[0;34m[\u001b[0m\u001b[0mindexer\u001b[0m\u001b[0;34m]\u001b[0m\u001b[0;34m\u001b[0m\u001b[0;34m\u001b[0m\u001b[0m\n",
      "\u001b[0;32m~/opt/anaconda3/lib/python3.9/site-packages/pandas/core/indexes/base.py\u001b[0m in \u001b[0;36mget_loc\u001b[0;34m(self, key, method, tolerance)\u001b[0m\n\u001b[1;32m   3629\u001b[0m                 \u001b[0;32mreturn\u001b[0m \u001b[0mself\u001b[0m\u001b[0;34m.\u001b[0m\u001b[0m_engine\u001b[0m\u001b[0;34m.\u001b[0m\u001b[0mget_loc\u001b[0m\u001b[0;34m(\u001b[0m\u001b[0mcasted_key\u001b[0m\u001b[0;34m)\u001b[0m\u001b[0;34m\u001b[0m\u001b[0;34m\u001b[0m\u001b[0m\n\u001b[1;32m   3630\u001b[0m             \u001b[0;32mexcept\u001b[0m \u001b[0mKeyError\u001b[0m \u001b[0;32mas\u001b[0m \u001b[0merr\u001b[0m\u001b[0;34m:\u001b[0m\u001b[0;34m\u001b[0m\u001b[0;34m\u001b[0m\u001b[0m\n\u001b[0;32m-> 3631\u001b[0;31m                 \u001b[0;32mraise\u001b[0m \u001b[0mKeyError\u001b[0m\u001b[0;34m(\u001b[0m\u001b[0mkey\u001b[0m\u001b[0;34m)\u001b[0m \u001b[0;32mfrom\u001b[0m \u001b[0merr\u001b[0m\u001b[0;34m\u001b[0m\u001b[0;34m\u001b[0m\u001b[0m\n\u001b[0m\u001b[1;32m   3632\u001b[0m             \u001b[0;32mexcept\u001b[0m \u001b[0mTypeError\u001b[0m\u001b[0;34m:\u001b[0m\u001b[0;34m\u001b[0m\u001b[0;34m\u001b[0m\u001b[0m\n\u001b[1;32m   3633\u001b[0m                 \u001b[0;31m# If we have a listlike key, _check_indexing_error will raise\u001b[0m\u001b[0;34m\u001b[0m\u001b[0;34m\u001b[0m\u001b[0m\n",
      "\u001b[0;31mKeyError\u001b[0m: 'CLASS'"
     ]
    },
    {
     "data": {
      "image/png": "[encoded data removed]",
      "text/plain": [
       "<Figure size 1000x500 with 2 Axes>"
      ]
     },
     "metadata": {},
     "output_type": "display_data"
    }
   ],
   "source": [
    "# colormap source: https://stackoverflow.com/questions/64068659/bar-chart-in-matplotlib-using-a-colormap\n",
    "my_cmap = plt.get_cmap(\"coolwarm\")\n",
    "rescale = lambda y: (y - np.min(y)) / (np.max(y) - np.min(y))\n",
    "\n",
    "fig, ax = plt.subplots(1,2,figsize = (10,5))\n",
    "\n",
    "ax[0].bar(df[\"NSP\"].unique(),df.groupby(by=\"NSP\").size(), color=my_cmap(rescale(df[\"NSP\"].unique())))\n",
    "ax[1].bar(df[\"CLASS\"].unique(),df.groupby(by=\"CLASS\").size(),color=my_cmap(rescale(df[\"CLASS\"].unique())))\n",
    "\n",
    "ax[0].set_xticks(np.arange(1,4)) \n",
    "ax[0].set_xticklabels(np.arange(1,4), fontsize=12)\n",
    "ax[0].set_xlabel(\"NSP\")\n",
    "ax[1].set_xticks(np.arange(1,11)) \n",
    "ax[1].set_xticklabels(np.arange(1,11), fontsize=12)\n",
    "ax[1].set_xlabel(\"CLASS\");"
   ]
  },
  {
   "cell_type": "markdown",
   "metadata": {},
   "source": [
    "# Imbalanced Classification"
   ]
  },
  {
   "cell_type": "markdown",
   "metadata": {},
   "source": [
    "The previous graph shows that there is a class imbalance. A way of fixing this is resampling our data. \n",
    "\n",
    "There are two ways of resampling data: \n",
    "    \n",
    "   - **Under-Sampling**: removing some observations of the majority class.\n",
    "   - **Over-Sampling**: adding more copies to the minority class."
   ]
  },
  {
   "cell_type": "markdown",
   "metadata": {},
   "source": [
    "## Under-Sampling"
   ]
  },
  {
   "cell_type": "code",
   "execution_count": 19,
   "metadata": {},
   "outputs": [
    {
     "name": "stdout",
     "output_type": "stream",
     "text": [
      "1655\n",
      "295\n",
      "176\n",
      "class 1: (1655, 21)\n",
      "class 2: (295, 21)\n",
      "class 3: (176, 21)\n"
     ]
    },
    {
     "name": "stderr",
     "output_type": "stream",
     "text": [
      "/var/folders/2l/jlrfpp5j0r56d70c3chnnb6m0000gn/T/ipykernel_7250/3113694916.py:9: UserWarning: Boolean Series key will be reindexed to match DataFrame index.\n",
      "  class_1 = X[df['NSP'] == 1]\n",
      "/var/folders/2l/jlrfpp5j0r56d70c3chnnb6m0000gn/T/ipykernel_7250/3113694916.py:10: UserWarning: Boolean Series key will be reindexed to match DataFrame index.\n",
      "  class_2 = X[df['NSP'] == 2]\n",
      "/var/folders/2l/jlrfpp5j0r56d70c3chnnb6m0000gn/T/ipykernel_7250/3113694916.py:11: UserWarning: Boolean Series key will be reindexed to match DataFrame index.\n",
      "  class_3 = X[df['NSP'] == 3]\n"
     ]
    }
   ],
   "source": [
    "# class count\n",
    "class_count_1, class_count_2, class_count_3 = df['NSP'].value_counts()\n",
    "\n",
    "print(class_count_1)\n",
    "print(class_count_2)\n",
    "print(class_count_3)\n",
    "\n",
    "# Separate class\n",
    "class_1 = X[df['NSP'] == 1]\n",
    "class_2 = X[df['NSP'] == 2]\n",
    "class_3 = X[df['NSP'] == 3]\n",
    "\n",
    "print('class 1:', class_1.shape)\n",
    "print('class 2:', class_2.shape)\n",
    "print('class 3:', class_3.shape)\n"
   ]
  },
  {
   "cell_type": "code",
   "execution_count": 20,
   "metadata": {},
   "outputs": [
    {
     "name": "stdout",
     "output_type": "stream",
     "text": [
      "class 1: (295, 21)\n",
      "class 2: (295, 21)\n",
      "class 3: (176, 21)\n"
     ]
    }
   ],
   "source": [
    "# random under-sampling\n",
    "\n",
    "class_1_under = class_1.sample(class_count_2)\n",
    "\n",
    "print('class 1:', class_1_under.shape)\n",
    "print('class 2:', class_2.shape)\n",
    "print('class 3:', class_3.shape)\n"
   ]
  },
  {
   "cell_type": "markdown",
   "metadata": {},
   "source": [
    "## Over-Sampling"
   ]
  },
  {
   "cell_type": "code",
   "execution_count": 21,
   "metadata": {},
   "outputs": [
    {
     "name": "stdout",
     "output_type": "stream",
     "text": [
      "class 1: (1655, 21)\n",
      "class 2: (1655, 21)\n",
      "class 3: (1655, 21)\n"
     ]
    }
   ],
   "source": [
    "# random over-sampling\n",
    "class_2_over = class_2.sample(class_count_1, replace=True)\n",
    "class_3_over = class_2.sample(class_count_1, replace=True)\n",
    "\n",
    "print('class 1:', class_1.shape)\n",
    "print('class 2:', class_2_over.shape)\n",
    "print('class 3:', class_3_over.shape)\n",
    "\n"
   ]
  },
  {
   "cell_type": "code",
   "execution_count": 22,
   "metadata": {},
   "outputs": [
    {
     "name": "stdout",
     "output_type": "stream",
     "text": [
      "X:  (2126, 21)\n",
      "Under-sampled X:  (766, 21)\n",
      "Over-sampled X:  (4965, 21)\n"
     ]
    }
   ],
   "source": [
    "print('X: ', X.shape)\n",
    "\n",
    "X_under = np.concatenate((class_1_under, class_2, class_3))\n",
    "print('Under-sampled X: ', X_under.shape)\n",
    "\n",
    "X_over = np.concatenate((class_1, class_2_over, class_3_over))\n",
    "print('Over-sampled X: ', X_over.shape)\n"
   ]
  },
  {
   "cell_type": "code",
   "execution_count": 23,
   "metadata": {},
   "outputs": [
    {
     "name": "stdout",
     "output_type": "stream",
     "text": [
      "Under-sampled y:  (766,)\n",
      "Over-sampled X:  (4965,)\n"
     ]
    }
   ],
   "source": [
    "# do the same for y1\n",
    "\n",
    "class_1 = y1[df['NSP'] == 1]\n",
    "class_2 = y1[df['NSP'] == 2]\n",
    "class_3 = y1[df['NSP'] == 3]\n",
    "\n",
    "# under-sampling\n",
    "class_1_under = class_1.sample(class_count_2)\n",
    "y1_under = np.concatenate((class_1_under, class_2, class_3))\n",
    "print('Under-sampled y: ', y1_under.shape)\n",
    "\n",
    "# over-sampling\n",
    "class_2_over = class_2.sample(class_count_1, replace=True)\n",
    "class_3_over = class_2.sample(class_count_1, replace=True)\n",
    "y1_over = np.concatenate((class_1, class_2_over, class_3_over))\n",
    "print('Over-sampled X: ', y1_over.shape)\n",
    "\n"
   ]
  },
  {
   "cell_type": "markdown",
   "metadata": {},
   "source": [
    "# Preprocessing"
   ]
  },
  {
   "cell_type": "code",
   "execution_count": 25,
   "metadata": {},
   "outputs": [],
   "source": [
    "class Preprocessing(): \n",
    "    \n",
    "    def __init__(self, df): \n",
    "        self.df = df\n",
    "        self.columns = [\"LB\", \"AC\", \"FM\", \"UC\", \"DL\", \"DS\", \"DP\", \n",
    "           \"ASTV\", \"MSTV\", \"ALTV\", \"MLTV\", \"Width\", \"Min\", \n",
    "           \"Max\", \"Nmax\", \"Nzeros\", \"Mode\", \"Mean\", \"Median\", \"Variance\", \"Tendency\"]\n",
    "        self.X = self.df[self.columns]\n",
    "        self.y = self.df[\"NSP\"] \n",
    "\n",
    "    def scale(self):\n",
    "        sc = StandardScaler()\n",
    "        sc.fit(self.X)\n",
    "        self.X = pd.DataFrame(sc.transform(self.X),columns=self.columns)\n",
    "        \n",
    "    \n",
    "    def remove_outliers(self):\n",
    "        df= pd.concat((self.X, self.y), axis=1)\n",
    "        df_nout = df[(np.abs(df[self.columns]) < 3).all(axis=1)]\n",
    "        self.X = df_nout[self.columns]\n",
    "        self.y = df_nout[\"NSP\"]\n",
    "    \n",
    "        \n",
    "    def under_sample(self): \n",
    "        class_count_1, class_count_2, class_count_3 = self.y.value_counts()\n",
    "        \n",
    "        # undersample X\n",
    "        class_1 = self.X[self.y == 1]\n",
    "        class_2 = self.X[self.y == 2]\n",
    "        class_3 = self.X[self.y == 3]\n",
    "        class_1_under = class_1.sample(class_count_2)\n",
    "        self.X = np.concatenate((class_1_under, class_2, class_3))\n",
    "        \n",
    "        # undersample y \n",
    "        class_1 = self.y[self.y == 1]\n",
    "        class_2 = self.y[self.y == 2]\n",
    "        class_3 = self.y[self.y == 3]\n",
    "        class_1_under = class_1.sample(class_count_2)\n",
    "        self.y = np.concatenate((class_1_under, class_2, class_3))\n",
    "    \n",
    "    def over_sample(self): \n",
    "        \n",
    "        f = pd.concat((self.X,self.y),axis=1)\n",
    "        class_count_1, class_count_2, class_count_3 = self.y.value_counts()\n",
    "        \n",
    "        # oversample X\n",
    "        class_1 = self.X[f[\"NSP\"] == 1]\n",
    "        class_2 = self.X[f[\"NSP\"] == 2]\n",
    "        class_3 = self.X[f[\"NSP\"] == 3]\n",
    "        class_2_over = class_2.sample(class_count_1, replace=True)\n",
    "        class_3_over = class_2.sample(class_count_1, replace=True)\n",
    "        self.X = np.concatenate((class_1, class_2_over, class_3_over)) \n",
    "        \n",
    "        # oversample y \n",
    "        class_1 = self.y[f[\"NSP\"] == 1]\n",
    "        class_2 = self.y[f[\"NSP\"] == 2]\n",
    "        class_3 = self.y[f[\"NSP\"] == 3]\n",
    "        class_2_over = class_2.sample(class_count_1, replace=True)\n",
    "        class_3_over = class_2.sample(class_count_1, replace=True)\n",
    "        self.y = np.concatenate((class_1, class_2_over, class_3_over))\n",
    "        \n"
   ]
  },
  {
   "cell_type": "markdown",
   "metadata": {},
   "source": [
    "# Supervised Learning Models \n"
   ]
  },
  {
   "cell_type": "code",
   "execution_count": 51,
   "metadata": {},
   "outputs": [],
   "source": [
    "from sklearn.metrics import confusion_matrix, ConfusionMatrixDisplay, accuracy_score, mean_squared_error\n",
    "\n",
    "class SLClassifiers(): \n",
    "    \n",
    "    \n",
    "    def __init__(self, X, y): \n",
    "        \n",
    "        self.X = X\n",
    "        self.y = y \n",
    "        \n",
    "    \n",
    "    def confusion_matrix(self, y_pred, y_test, target_labels): \n",
    "        \n",
    "        cm = confusion_matrix(y_pred,y_test, normalize=\"all\")\n",
    "        disp = ConfusionMatrixDisplay(confusion_matrix=cm, display_labels=target_labels);\n",
    "        disp.plot();\n",
    "        \n",
    "    \n",
    "    def train_test_split(self): \n",
    "        \n",
    "        X_train, X_test, y_train, y_test = train_test_split(self.X, self.y, train_size=0.8,random_state=35)\n",
    "        \n",
    "        return X_train, X_test, y_train, y_test\n",
    "    \n",
    "        \n",
    "    def decision_tree(self): \n",
    "        \n",
    "        X_train, X_test, y_train, y_test = self.train_test_split()\n",
    "        dt = DecisionTreeClassifier(random_state=35)\n",
    "        dt.fit(X_train, y_train)\n",
    "        y_pred = dt.predict(X_test)\n",
    "        print(\"Decision Tree accuracy: %.2f\" % accuracy_score(y_pred,y_test) )\n",
    "        print(\"Decision Tree recall: %.2f\" % recall_score(y_pred,y_test,average=\"macro\") )\n",
    "        #self.confusion_matrix(y_pred, y_test, dt.classes_)\n",
    "        \n",
    "    \n",
    "    def random_forest(self, n_estimators=10, max_depth=None, criterion=\"entropy\"): \n",
    "        \n",
    "        X_train, X_test, y_train, y_test = self.train_test_split()\n",
    "        rf = RandomForestClassifier(n_estimators=n_estimators, max_depth=max_depth, criterion=criterion)\n",
    "        rf.fit(X_train, y_train)\n",
    "        y_pred = rf.predict(X_test)\n",
    "        \n",
    "        print(\"Random Forest accuracy: %.2f\" % accuracy_score(y_pred,y_test) )\n",
    "        print(\"Random Forest recall: %.2f\" % recall_score(y_pred,y_test,average=\"macro\") )\n",
    "        #self.confusion_matrix(y_pred, y_test, rf.classes_)\n",
    "\n",
    "    \n",
    "    def support_vector_machine(self, kernel = \"linear\", C=10000): \n",
    "       \n",
    "        X_train, X_test, y_train, y_test = self.train_test_split()\n",
    "        svm = SVC(kernel=kernel, C=C)\n",
    "        svm.fit(X_train, y_train)\n",
    "        y_pred = svm.predict(X_test)\n",
    "        print(\"Support Vector Machine accuracy: %.2f\" % accuracy_score(y_test, y_pred))\n",
    "        print(\"Support Vector Machine recall: %.2f\" % recall_score(y_pred,y_test,average=\"macro\") )\n",
    "        \n",
    "        #self.confusion_matrix(y_pred, y_test, rf.classes_)\n",
    "        \n",
    "        \n",
    "    def k_nearest_neighbours(self, n=3): \n",
    "    \n",
    "        X_train, X_test, y_train, y_test = self.train_test_split()\n",
    "        knn = KNeighborsClassifier(n_neighbors=n)\n",
    "        knn.fit(X_train, y_train)\n",
    "        y_pred = knn.predict(X_test)\n",
    "        print(\"K-Nearest Neighbours accuracy: %.2f\" % accuracy_score(y_pred,y_test) )\n",
    "        print(\"K-Nearest Neighbours recall: %.2f\" % recall_score(y_pred,y_test,average=\"macro\") )\n",
    "        \n",
    "        \n",
    "    def gaussian_naive_bayes(self):\n",
    "       \n",
    "        X_train, X_test, y_train, y_test = self.train_test_split()\n",
    "        gnb = GaussianNB()\n",
    "        gnb.fit(X_train, y_train);\n",
    "        y_pred = gnb.predict(X_test)\n",
    "        print(\"Gaussian Naive Bayes accuracy: %.2f\" % accuracy_score(y_pred,y_test) )\n",
    "        print(\"Gaussian Naive Bayes recall: %.2f\" % recall_score(y_pred,y_test,average=\"macro\") )\n",
    "\n",
    "\n",
    "slc = SLClassifiers(X, y1)\n",
    "\n",
    "    "
   ]
  },
  {
   "cell_type": "markdown",
   "metadata": {},
   "source": [
    "Let us apply all the supervised learning models to our raw data to see how well the classifiers perform.   "
   ]
  },
  {
   "cell_type": "code",
   "execution_count": 27,
   "metadata": {},
   "outputs": [
    {
     "name": "stdout",
     "output_type": "stream",
     "text": [
      "Decision Tree accuracy: 0.93\n",
      "Decision Tree recall: 0.87\n",
      "Random Forest accuracy: 0.96\n",
      "Support Vector Machine accuracy: 0.89\n",
      "K-Nearest Neighbours accuracy: 0.92\n",
      "Gaussian Naive Bayes accuracy: 0.81\n"
     ]
    },
    {
     "data": {
      "image/png": "[encoded data removed]",
      "text/plain": [
       "<Figure size 640x480 with 2 Axes>"
      ]
     },
     "metadata": {},
     "output_type": "display_data"
    }
   ],
   "source": [
    "dt = slc.decision_tree()\n",
    "rf = slc.random_forest(n_estimators=100)\n",
    "svm = slc.support_vector_machine()\n",
    "knn = slc.k_nearest_neighbours()\n",
    "gnb = slc.gaussian_naive_bayes()"
   ]
  },
  {
   "cell_type": "code",
   "execution_count": 28,
   "metadata": {},
   "outputs": [
    {
     "name": "stdout",
     "output_type": "stream",
     "text": [
      "Decision Tree accuracy: 0.86\n",
      "Decision Tree recall: 0.86\n",
      "Random Forest accuracy: 0.89\n",
      "Support Vector Machine accuracy: 0.81\n",
      "K-Nearest Neighbours accuracy: 0.80\n",
      "Gaussian Naive Bayes accuracy: 0.74\n"
     ]
    },
    {
     "data": {
      "image/png": "[encoded data removed]",
      "text/plain": [
       "<Figure size 640x480 with 2 Axes>"
      ]
     },
     "metadata": {},
     "output_type": "display_data"
    }
   ],
   "source": [
    "# under-sampled data \n",
    "slc = SLClassifiers(X_under, y1_under)\n",
    "\n",
    "dt = slc.decision_tree()\n",
    "rf = slc.random_forest(n_estimators=100)\n",
    "svm = slc.support_vector_machine()\n",
    "knn = slc.k_nearest_neighbours()\n",
    "gnb = slc.gaussian_naive_bayes()"
   ]
  },
  {
   "cell_type": "code",
   "execution_count": 29,
   "metadata": {},
   "outputs": [
    {
     "name": "stdout",
     "output_type": "stream",
     "text": [
      "Decision Tree accuracy: 0.99\n",
      "Decision Tree recall: 0.99\n",
      "Random Forest accuracy: 0.99\n",
      "Support Vector Machine accuracy: 0.93\n",
      "K-Nearest Neighbours accuracy: 0.97\n",
      "Gaussian Naive Bayes accuracy: 0.89\n"
     ]
    },
    {
     "data": {
      "image/png": "[encoded data removed]",
      "text/plain": [
       "<Figure size 640x480 with 2 Axes>"
      ]
     },
     "metadata": {},
     "output_type": "display_data"
    }
   ],
   "source": [
    "# over-sampled data\n",
    "slc = SLClassifiers(X_over, y1_over)\n",
    "\n",
    "dt = slc.decision_tree()\n",
    "rf = slc.random_forest(n_estimators=100)\n",
    "svm = slc.support_vector_machine()\n",
    "knn = slc.k_nearest_neighbours()\n",
    "gnb = slc.gaussian_naive_bayes()\n"
   ]
  },
  {
   "cell_type": "code",
   "execution_count": 30,
   "metadata": {},
   "outputs": [
    {
     "name": "stdout",
     "output_type": "stream",
     "text": [
      "Decision Tree accuracy: 0.93\n",
      "Decision Tree recall: 0.87\n"
     ]
    },
    {
     "data": {
      "image/png": "[encoded data removed]",
      "text/plain": [
       "<Figure size 640x480 with 2 Axes>"
      ]
     },
     "metadata": {},
     "output_type": "display_data"
    }
   ],
   "source": [
    "slc = SLClassifiers(X, y1)\n",
    "dt = slc.decision_tree()"
   ]
  },
  {
   "cell_type": "markdown",
   "metadata": {},
   "source": [
    "Lets evaluate the accuracy of our models when: \n",
    "1. we scale our data\n",
    "2. remove the outliers\n",
    "3. under-sample and over-sample"
   ]
  },
  {
   "cell_type": "code",
   "execution_count": null,
   "metadata": {},
   "outputs": [],
   "source": [
    "# We scale our data, remove outliers and over/under sample\n",
    "\n",
    "data = Preprocessing(df)\n",
    "data.over_sample()\n",
    "data.scale()\n",
    "data.remove_outliers()\n",
    "data.over_sample()\n",
    "X, y = data.X, data.y\n",
    "print(X.shape)\n",
    "print(y.shape)"
   ]
  },
  {
   "cell_type": "markdown",
   "metadata": {},
   "source": [
    "# Unsupervised Learning Models"
   ]
  },
  {
   "cell_type": "code",
   "execution_count": null,
   "metadata": {},
   "outputs": [],
   "source": [
    "class ULClassifiers():\n",
    "    \n",
    "    def __init__(self, X, y): \n",
    "\n",
    "        self.X = X\n",
    "        self.y = y \n",
    "        \n",
    "        \n",
    "    def mask(self, clusters): \n",
    "        \n",
    "        labels = np.zeros_like(clusters)\n",
    "\n",
    "        for i in range(3): \n",
    "            mask = (clusters == i)\n",
    "            labels[mask] = mode(self.y[mask])[0]\n",
    "        \n",
    "        return labels\n",
    "    \n",
    "    \n",
    "    def PCA(self, n=2): \n",
    "        \n",
    "        pca = PCA(n_components=n)\n",
    "        pca.fit(self.X)\n",
    "        X_pca = pca.transform(self.X)\n",
    "        \n",
    "        return X_pca\n",
    "\n",
    "    \n",
    "    def gaussian_mixture_models(self, n=3):\n",
    "        \n",
    "        gmm = GaussianMixture(n_components=n).fit(self.X)\n",
    "        clusters = gmm.predict(self.X)\n",
    "        labels = self.mask(clusters)\n",
    "        print(\"Gaussian Mixture Models accuracy: %.2f\" % accuracy_score(self.y, labels))\n",
    "        \n",
    "    \n",
    "    def k_means(self, n=3, rs=0):\n",
    "    \n",
    "        km = KMeans(n_clusters=n, random_state=rs)\n",
    "        clusters = km.fit_predict(self.X)\n",
    "        labels = self.mask(clusters)\n",
    "        print(\"k Means accuracy: %.2f\" % accuracy_score(self.y, labels))\n",
    "    "
   ]
  },
  {
   "cell_type": "markdown",
   "metadata": {},
   "source": [
    "Let us apply all the supervised learning models to our raw data to see how well the classifiers perform. "
   ]
  },
  {
   "cell_type": "code",
   "execution_count": null,
   "metadata": {},
   "outputs": [],
   "source": [
    "ulc = ULClassifiers(X, y1)\n",
    "gmm = ulc.gaussian_mixture_models()\n",
    "km = ulc.k_means()"
   ]
  },
  {
   "cell_type": "code",
   "execution_count": null,
   "metadata": {},
   "outputs": [],
   "source": [
    "# under-sampled data \n",
    "ulc = ULClassifiers(X_under, y1_under)\n",
    "\n",
    "gmm = ulc.gaussian_mixture_models()\n",
    "km = ulc.k_means()"
   ]
  },
  {
   "cell_type": "code",
   "execution_count": null,
   "metadata": {},
   "outputs": [],
   "source": [
    "# over-sampled data\n",
    "ulc = ULClassifiers(X_over, y1_over)\n",
    "\n",
    "gmm = ulc.gaussian_mixture_models()\n",
    "km = ulc.k_means()"
   ]
  },
  {
   "cell_type": "markdown",
   "metadata": {},
   "source": [
    "# Hyperparameter tuning"
   ]
  },
  {
   "cell_type": "markdown",
   "metadata": {},
   "source": [
    "We import data "
   ]
  },
  {
   "cell_type": "code",
   "execution_count": 3,
   "metadata": {},
   "outputs": [],
   "source": [
    "path = \"../data/\"\n",
    "filename = \"prep_data.xls\"\n",
    "\n",
    "df = pd.read_csv(path+filename)\n",
    "df = df.reindex(np.random.permutation(df.index))\n",
    "\n",
    "# Columns to be considered in the dataset\n",
    "columns = [\"LB\", \"AC\", \"FM\", \"UC\", \"DL\", \"DP\", \n",
    "           \"ASTV\", \"MSTV\", \"ALTV\", \"MLTV\", \"Width\", \"Min\", \n",
    "           \"Max\", \"Nmax\", \"Nzeros\", \"Mode\", \"Mean\", \"Median\", \"Variance\", \"Tendency\"]\n",
    "\n",
    "#Prepare X and y\n",
    "X = df[columns]\n",
    "y = df[\"NSP\"]\n",
    "\n",
    "X_train, X_test, y_train, y_test = train_test_split(X, y, train_size=0.8,random_state=35)\n"
   ]
  },
  {
   "cell_type": "markdown",
   "metadata": {},
   "source": [
    "We evaluate all models to see which one performs best with our data. "
   ]
  },
  {
   "cell_type": "code",
   "execution_count": 52,
   "metadata": {},
   "outputs": [
    {
     "name": "stdout",
     "output_type": "stream",
     "text": [
      "Decision Tree accuracy: 0.91\n",
      "Decision Tree recall: 0.83\n",
      "Random Forest accuracy: 0.94\n",
      "Random Forest recall: 0.90\n",
      "Support Vector Machine accuracy: 0.89\n",
      "Support Vector Machine recall: 0.82\n",
      "K-Nearest Neighbours accuracy: 0.89\n",
      "K-Nearest Neighbours recall: 0.79\n",
      "Gaussian Naive Bayes accuracy: 0.81\n",
      "Gaussian Naive Bayes recall: 0.63\n"
     ]
    }
   ],
   "source": [
    "slc = SLClassifiers(X, y)\n",
    "\n",
    "dt = slc.decision_tree()\n",
    "rf = slc.random_forest()\n",
    "svm = slc.support_vector_machine()\n",
    "knn = slc.k_nearest_neighbours()\n",
    "gnb = slc.gaussian_naive_bayes()"
   ]
  },
  {
   "cell_type": "markdown",
   "metadata": {},
   "source": [
    "The results show that random forest is the best one. Now we will perform hyperparmeter tuning to find to optimize it even further. "
   ]
  },
  {
   "cell_type": "code",
   "execution_count": 4,
   "metadata": {},
   "outputs": [],
   "source": [
    "rf = RandomForestClassifier(random_state=6) \n",
    "#If we don't give a random_state, it will vary in every iteration"
   ]
  },
  {
   "cell_type": "markdown",
   "metadata": {},
   "source": [
    "**Random Forest hyperparameters**:\n",
    "\n",
    "1. `max_dept`: longest path between the root node and the leaf node.\n",
    "2. `min_sample_split`: minimum required number of observations in any given node to split it. Default = 2\n",
    "3. `max_leaf_nodes`: restricts the growth of the tree.\n",
    "4. `min_samples_leaf`: minimum number of samples that should be present in the leaf node after splitting a node. Default = 1\n",
    "5. `n_estimators`: Number of trees in the forest.\n",
    "6. `max_sample`: fraction of the original dataset is given to any individual tree.\n",
    "7. `max_features`: number of maximum features provided to each tree in a random forest."
   ]
  },
  {
   "cell_type": "markdown",
   "metadata": {},
   "source": [
    "The computational complexity of a hyperparameter tuning job depends primarily on the number of hyperparameters whose range of values GridSearch has to search through during optimization. That is why, we try to limit our search to the parameters we think will give us better results.\n",
    "\n",
    "These are: \n",
    "\n",
    "- ´n_estimator´: by building forests with a large number of trees (high number of estimators) we can create a more robust model with less variance. at the cost of a greater training time. \n",
    "- ´criterion´: fine tuning the split criteria could lead to different forests. Since there are only two possible values, we will try both measures to see which leads to a smaller error."
   ]
  },
  {
   "cell_type": "markdown",
   "metadata": {},
   "source": [
    "To tune the hyperparmeter, we will use grid search. "
   ]
  },
  {
   "cell_type": "code",
   "execution_count": 5,
   "metadata": {},
   "outputs": [],
   "source": [
    "grid_param = {\n",
    "'n_estimators': [90, 100, 115, 130], \n",
    "'criterion': ['gini', 'entropy'], \n",
    "'max_depth': range(2, 20, 1),\n",
    "'min_samples_split': range(1, 10, 1),\n",
    "'max_features': ['auto', 'log2']\n",
    "}"
   ]
  },
  {
   "cell_type": "code",
   "execution_count": 6,
   "metadata": {},
   "outputs": [],
   "source": [
    "grid_search = GridSearchCV(estimator=rf, param_grid=grid_param, cv=5, n_jobs=-1, verbose=0)\n",
    "\n",
    "#cv = K-folds"
   ]
  },
  {
   "cell_type": "code",
   "execution_count": null,
   "metadata": {},
   "outputs": [],
   "source": [
    "grid_search.fit(X_train, y_train)"
   ]
  },
  {
   "cell_type": "code",
   "execution_count": null,
   "metadata": {},
   "outputs": [],
   "source": [
    "#Let's see the best parameters as per our grid\n",
    "grid_search.best_param_"
   ]
  },
  {
   "cell_type": "code",
   "execution_count": null,
   "metadata": {},
   "outputs": [],
   "source": [
    "rf = RandomForestClassifier(random_state=6, ) "
   ]
  },
  {
   "cell_type": "markdown",
   "metadata": {},
   "source": [
    "# NEURAL NETWORKS"
   ]
  },
  {
   "cell_type": "code",
   "execution_count": null,
   "metadata": {},
   "outputs": [],
   "source": [
    "#helpful functions \n",
    "\n",
    "# Convert a Pandas dataframe to the x,y inputs that TensorFlow needs\n",
    "def to_xy(df, target):\n",
    "    result = []\n",
    "    for x in df.columns:\n",
    "        if x != target:\n",
    "            result.append(x)\n",
    "    # find out the type of the target column.  \n",
    "    target_type = df[target].dtypes\n",
    "    target_type = target_type[0] if hasattr(\n",
    "        target_type, '__iter__') else target_type\n",
    "    # Encode to int for classification, float otherwise. TensorFlow likes 32 bits.\n",
    "    if target_type in (np.int64, np.int32):\n",
    "        # Classification\n",
    "        dummies = pd.get_dummies(df[target])\n",
    "        return df[result].values.astype(np.float32), dummies.values.astype(np.float32)\n",
    "    # Regression\n",
    "    return df[result].values.astype(np.float32), df[[target]].values.astype(np.float32)"
   ]
  },
  {
   "cell_type": "code",
   "execution_count": null,
   "metadata": {},
   "outputs": [],
   "source": [
    "X,y = to_xy(df, 'NSP')\n",
    "\n",
    "print(y.shape)\n",
    "\n",
    "#encode the target labels in binary\n",
    "y_encoded = to_categorical(y, dtype =\"uint8\")\n",
    "print(y_encoded.shape)\n"
   ]
  },
  {
   "cell_type": "code",
   "execution_count": null,
   "metadata": {},
   "outputs": [],
   "source": [
    "X_train, X_test, y_train, y_test = train_test_split(X, y, test_size=0.25, random_state=0)\n",
    "\n",
    "model = Sequential()\n",
    "model.add(Dense(4, input_shape=X[1].shape, activation='sigmoid')) # Hidden 1\n",
    "model.add(Dense(y_encoded.shape[1], activation='softmax')) # Output\n",
    "model.summary() #note, only works if input shape specified, or Input layer given"
   ]
  },
  {
   "cell_type": "code",
   "execution_count": null,
   "metadata": {},
   "outputs": [],
   "source": [
    "# train and test\n",
    "\n",
    "model.compile(loss='categorical_crossentropy', optimizer='adam')\n",
    "model.fit(X_train,y_train,verbose=2,epochs=10)\n",
    "\n",
    "pred = model.predict(X_test)\n",
    "pred = np.argmax(pred,axis=1)\n",
    "y_compare = np.argmax(y_test,axis=1) \n",
    "score = accuracy_score(y_compare, pred)\n",
    "print(\"Accuracy score: {}\".format(score))"
   ]
  },
  {
   "cell_type": "code",
   "execution_count": null,
   "metadata": {},
   "outputs": [],
   "source": []
  }
 ],
 "metadata": {
  "kernelspec": {
   "display_name": "Python 3 (ipykernel)",
   "language": "python",
   "name": "python3"
  },
  "language_info": {
   "codemirror_mode": {
    "name": "ipython",
    "version": 3
   },
   "file_extension": ".py",
   "mimetype": "text/x-python",
   "name": "python",
   "nbconvert_exporter": "python",
   "pygments_lexer": "ipython3",
   "version": "3.10.4"
  },
  "vscode": {
   "interpreter": {
    "hash": "aee8b7b246df8f9039afb4144a1f6fd8d2ca17a180786b69acc140d282b71a49"
   }
  }
 },
 "nbformat": 4,
 "nbformat_minor": 4
}
