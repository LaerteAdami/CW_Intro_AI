{
 "cells": [
  {
   "cell_type": "markdown",
   "metadata": {},
   "source": [
    "# Layout\n",
    "\n",
    "   - We do a preliminary analysis of our data and find: \n",
    "\n",
    "    - **problem 1**: one of the classes is more significant than the rest. \n",
    "\n",
    "    - **problem 2**: we have many outliers\n",
    "    \n",
    "\n",
    "   - To study **problem 1** we will apply the **supervised learning models** seen in class: \n",
    "\n",
    "    - Decision Trees + Random Forest (related)\n",
    "    - SVM  \n",
    "    - k-Nearest Neighbours \n",
    "    - Naïve Bayes \n",
    "    - Linear Regression \n",
    "    - *NOT* perceptron since we are going to use NN later\n",
    "\n",
    "    **Premise**: how does PCA and standardisation affect the accuracy of the classifying models. \n",
    "    \n",
    "\n",
    "   - To study **problem 2** we will apply the **unsupervised learning models** seen in class: \n",
    "\n",
    "    - K-means \n",
    "    - GMM\n",
    "\n",
    "    **Premise**: GMM should a priori fix the problem of the difference in class sizes. \n",
    "\n",
    "\n",
    "\n",
    "   - After we have optimized our models, we compare these models' performances with a **Neural Network**: \n",
    "\n",
    "    **Premise**: Neural Networks should allow a higher accuracy score than the supervised and unsupervised learning models. \n",
    "\n",
    "\n",
    "   - Ways of cleaning data: \n",
    "\n",
    "    - PCA\n",
    "    - standardisation \n",
    "    - normalisation\n",
    "\n",
    "\n",
    "   - Ways of evaluating models: \n",
    "\n",
    "    - confusion matrices\n",
    "    - accuracy score\n",
    "    - associated plots "
   ]
  },
  {
   "cell_type": "markdown",
   "metadata": {},
   "source": [
    "# First analysis"
   ]
  },
  {
   "cell_type": "markdown",
   "metadata": {},
   "source": [
    "We import useful packages"
   ]
  },
  {
   "cell_type": "code",
   "execution_count": 20,
   "metadata": {},
   "outputs": [],
   "source": [
    "#basics\n",
    "import pandas as pd\n",
    "import matplotlib.pyplot as plt\n",
    "import numpy as np\n",
    "import math\n",
    "from scipy.stats import mode\n",
    "\n",
    "#sklearn\n",
    "from sklearn.preprocessing import StandardScaler\n",
    "from sklearn.model_selection import train_test_split\n",
    "from sklearn.metrics import confusion_matrix, ConfusionMatrixDisplay, accuracy_score, mean_squared_error\n",
    "from sklearn.decomposition import PCA\n",
    "from sklearn.mixture import GaussianMixture\n",
    "from sklearn.svm import SVC\n",
    "from sklearn.neighbors import KNeighborsClassifier\n",
    "from sklearn.naive_bayes import GaussianNB\n",
    "\n",
    "#supervised learning \n",
    "from sklearn.tree import DecisionTreeClassifier \n",
    "from sklearn.ensemble import RandomForestClassifier"
   ]
  },
  {
   "cell_type": "markdown",
   "metadata": {},
   "source": [
    "We import the data "
   ]
  },
  {
   "cell_type": "code",
   "execution_count": 2,
   "metadata": {},
   "outputs": [
    {
     "data": {
      "text/html": [
       "<div>\n",
       "<style scoped>\n",
       "    .dataframe tbody tr th:only-of-type {\n",
       "        vertical-align: middle;\n",
       "    }\n",
       "\n",
       "    .dataframe tbody tr th {\n",
       "        vertical-align: top;\n",
       "    }\n",
       "\n",
       "    .dataframe thead th {\n",
       "        text-align: right;\n",
       "    }\n",
       "</style>\n",
       "<table border=\"1\" class=\"dataframe\">\n",
       "  <thead>\n",
       "    <tr style=\"text-align: right;\">\n",
       "      <th></th>\n",
       "      <th>b</th>\n",
       "      <th>e</th>\n",
       "      <th>AC</th>\n",
       "      <th>FM</th>\n",
       "      <th>UC</th>\n",
       "      <th>DL</th>\n",
       "      <th>DS</th>\n",
       "      <th>DP</th>\n",
       "      <th>DR</th>\n",
       "      <th>Unnamed: 9</th>\n",
       "      <th>...</th>\n",
       "      <th>E</th>\n",
       "      <th>AD</th>\n",
       "      <th>DE</th>\n",
       "      <th>LD</th>\n",
       "      <th>FS</th>\n",
       "      <th>SUSP</th>\n",
       "      <th>Unnamed: 42</th>\n",
       "      <th>CLASS</th>\n",
       "      <th>Unnamed: 44</th>\n",
       "      <th>NSP</th>\n",
       "    </tr>\n",
       "  </thead>\n",
       "  <tbody>\n",
       "    <tr>\n",
       "      <th>431</th>\n",
       "      <td>0</td>\n",
       "      <td>1199</td>\n",
       "      <td>10</td>\n",
       "      <td>0</td>\n",
       "      <td>0</td>\n",
       "      <td>0</td>\n",
       "      <td>0</td>\n",
       "      <td>0</td>\n",
       "      <td>0</td>\n",
       "      <td>NaN</td>\n",
       "      <td>...</td>\n",
       "      <td>-1</td>\n",
       "      <td>-1</td>\n",
       "      <td>-1</td>\n",
       "      <td>-1</td>\n",
       "      <td>-1</td>\n",
       "      <td>-1</td>\n",
       "      <td>NaN</td>\n",
       "      <td>2</td>\n",
       "      <td>NaN</td>\n",
       "      <td>1</td>\n",
       "    </tr>\n",
       "    <tr>\n",
       "      <th>1410</th>\n",
       "      <td>2829</td>\n",
       "      <td>3599</td>\n",
       "      <td>3</td>\n",
       "      <td>0</td>\n",
       "      <td>5</td>\n",
       "      <td>0</td>\n",
       "      <td>0</td>\n",
       "      <td>0</td>\n",
       "      <td>0</td>\n",
       "      <td>NaN</td>\n",
       "      <td>...</td>\n",
       "      <td>-1</td>\n",
       "      <td>-1</td>\n",
       "      <td>-1</td>\n",
       "      <td>-1</td>\n",
       "      <td>-1</td>\n",
       "      <td>-1</td>\n",
       "      <td>NaN</td>\n",
       "      <td>2</td>\n",
       "      <td>NaN</td>\n",
       "      <td>1</td>\n",
       "    </tr>\n",
       "    <tr>\n",
       "      <th>59</th>\n",
       "      <td>835</td>\n",
       "      <td>1449</td>\n",
       "      <td>5</td>\n",
       "      <td>0</td>\n",
       "      <td>4</td>\n",
       "      <td>0</td>\n",
       "      <td>0</td>\n",
       "      <td>0</td>\n",
       "      <td>0</td>\n",
       "      <td>NaN</td>\n",
       "      <td>...</td>\n",
       "      <td>-1</td>\n",
       "      <td>-1</td>\n",
       "      <td>-1</td>\n",
       "      <td>-1</td>\n",
       "      <td>-1</td>\n",
       "      <td>-1</td>\n",
       "      <td>NaN</td>\n",
       "      <td>2</td>\n",
       "      <td>NaN</td>\n",
       "      <td>1</td>\n",
       "    </tr>\n",
       "    <tr>\n",
       "      <th>1743</th>\n",
       "      <td>150</td>\n",
       "      <td>1540</td>\n",
       "      <td>13</td>\n",
       "      <td>2</td>\n",
       "      <td>9</td>\n",
       "      <td>7</td>\n",
       "      <td>0</td>\n",
       "      <td>0</td>\n",
       "      <td>0</td>\n",
       "      <td>NaN</td>\n",
       "      <td>...</td>\n",
       "      <td>-1</td>\n",
       "      <td>1</td>\n",
       "      <td>-1</td>\n",
       "      <td>-1</td>\n",
       "      <td>-1</td>\n",
       "      <td>-1</td>\n",
       "      <td>NaN</td>\n",
       "      <td>6</td>\n",
       "      <td>NaN</td>\n",
       "      <td>1</td>\n",
       "    </tr>\n",
       "    <tr>\n",
       "      <th>1301</th>\n",
       "      <td>2304</td>\n",
       "      <td>3374</td>\n",
       "      <td>0</td>\n",
       "      <td>0</td>\n",
       "      <td>5</td>\n",
       "      <td>7</td>\n",
       "      <td>0</td>\n",
       "      <td>1</td>\n",
       "      <td>0</td>\n",
       "      <td>NaN</td>\n",
       "      <td>...</td>\n",
       "      <td>-1</td>\n",
       "      <td>-1</td>\n",
       "      <td>1</td>\n",
       "      <td>-1</td>\n",
       "      <td>-1</td>\n",
       "      <td>-1</td>\n",
       "      <td>NaN</td>\n",
       "      <td>7</td>\n",
       "      <td>NaN</td>\n",
       "      <td>1</td>\n",
       "    </tr>\n",
       "  </tbody>\n",
       "</table>\n",
       "<p>5 rows × 46 columns</p>\n",
       "</div>"
      ],
      "text/plain": [
       "         b     e  AC  FM  UC  DL  DS  DP  DR  Unnamed: 9  ...  E  AD  DE  LD  \\\n",
       "431      0  1199  10   0   0   0   0   0   0         NaN  ... -1  -1  -1  -1   \n",
       "1410  2829  3599   3   0   5   0   0   0   0         NaN  ... -1  -1  -1  -1   \n",
       "59     835  1449   5   0   4   0   0   0   0         NaN  ... -1  -1  -1  -1   \n",
       "1743   150  1540  13   2   9   7   0   0   0         NaN  ... -1   1  -1  -1   \n",
       "1301  2304  3374   0   0   5   7   0   1   0         NaN  ... -1  -1   1  -1   \n",
       "\n",
       "      FS  SUSP  Unnamed: 42  CLASS  Unnamed: 44  NSP  \n",
       "431   -1    -1          NaN      2          NaN    1  \n",
       "1410  -1    -1          NaN      2          NaN    1  \n",
       "59    -1    -1          NaN      2          NaN    1  \n",
       "1743  -1    -1          NaN      6          NaN    1  \n",
       "1301  -1    -1          NaN      7          NaN    1  \n",
       "\n",
       "[5 rows x 46 columns]"
      ]
     },
     "execution_count": 2,
     "metadata": {},
     "output_type": "execute_result"
    }
   ],
   "source": [
    "path = \"/Users/erikgutierrezduthiers/Desktop/MSc AI/CW_Intro_AI/data/\"\n",
    "filename = \"CTG.xls\"\n",
    "\n",
    "df = pd.read_excel(path+filename, sheet_name = \"Data\",header=1)\n",
    "df = df.reindex(np.random.permutation(df.index))\n",
    "df.head()\n",
    "# shape: (891, 12) assdsd"
   ]
  },
  {
   "cell_type": "markdown",
   "metadata": {},
   "source": [
    "**Data description**:\n",
    "\n",
    "* 2126 fetal cardiotocograms (CTGs).\n",
    "* CTGs classified by: \n",
    "    * morphologic pattern (A, B, C....) - 10-class experiment\n",
    "    * fetal state (N, S, P) - 3-class experiment"
   ]
  },
  {
   "cell_type": "code",
   "execution_count": 3,
   "metadata": {},
   "outputs": [
    {
     "data": {
      "text/html": [
       "<div>\n",
       "<style scoped>\n",
       "    .dataframe tbody tr th:only-of-type {\n",
       "        vertical-align: middle;\n",
       "    }\n",
       "\n",
       "    .dataframe tbody tr th {\n",
       "        vertical-align: top;\n",
       "    }\n",
       "\n",
       "    .dataframe thead th {\n",
       "        text-align: right;\n",
       "    }\n",
       "</style>\n",
       "<table border=\"1\" class=\"dataframe\">\n",
       "  <thead>\n",
       "    <tr style=\"text-align: right;\">\n",
       "      <th></th>\n",
       "      <th>LB</th>\n",
       "      <th>AC</th>\n",
       "      <th>FM</th>\n",
       "      <th>UC</th>\n",
       "      <th>DL</th>\n",
       "      <th>DS</th>\n",
       "      <th>DP</th>\n",
       "      <th>ASTV</th>\n",
       "      <th>MSTV</th>\n",
       "      <th>ALTV</th>\n",
       "      <th>...</th>\n",
       "      <th>Width</th>\n",
       "      <th>Min</th>\n",
       "      <th>Max</th>\n",
       "      <th>Nmax</th>\n",
       "      <th>Nzeros</th>\n",
       "      <th>Mode</th>\n",
       "      <th>Mean</th>\n",
       "      <th>Median</th>\n",
       "      <th>Variance</th>\n",
       "      <th>Tendency</th>\n",
       "    </tr>\n",
       "  </thead>\n",
       "  <tbody>\n",
       "    <tr>\n",
       "      <th>431</th>\n",
       "      <td>125</td>\n",
       "      <td>10</td>\n",
       "      <td>0</td>\n",
       "      <td>0</td>\n",
       "      <td>0</td>\n",
       "      <td>0</td>\n",
       "      <td>0</td>\n",
       "      <td>41</td>\n",
       "      <td>1.2</td>\n",
       "      <td>0</td>\n",
       "      <td>...</td>\n",
       "      <td>63</td>\n",
       "      <td>98</td>\n",
       "      <td>161</td>\n",
       "      <td>4</td>\n",
       "      <td>0</td>\n",
       "      <td>138</td>\n",
       "      <td>135</td>\n",
       "      <td>137</td>\n",
       "      <td>6</td>\n",
       "      <td>0</td>\n",
       "    </tr>\n",
       "    <tr>\n",
       "      <th>1410</th>\n",
       "      <td>145</td>\n",
       "      <td>3</td>\n",
       "      <td>0</td>\n",
       "      <td>5</td>\n",
       "      <td>0</td>\n",
       "      <td>0</td>\n",
       "      <td>0</td>\n",
       "      <td>55</td>\n",
       "      <td>0.6</td>\n",
       "      <td>8</td>\n",
       "      <td>...</td>\n",
       "      <td>73</td>\n",
       "      <td>93</td>\n",
       "      <td>166</td>\n",
       "      <td>5</td>\n",
       "      <td>0</td>\n",
       "      <td>149</td>\n",
       "      <td>150</td>\n",
       "      <td>151</td>\n",
       "      <td>1</td>\n",
       "      <td>1</td>\n",
       "    </tr>\n",
       "    <tr>\n",
       "      <th>59</th>\n",
       "      <td>144</td>\n",
       "      <td>5</td>\n",
       "      <td>0</td>\n",
       "      <td>4</td>\n",
       "      <td>0</td>\n",
       "      <td>0</td>\n",
       "      <td>0</td>\n",
       "      <td>33</td>\n",
       "      <td>1.1</td>\n",
       "      <td>0</td>\n",
       "      <td>...</td>\n",
       "      <td>100</td>\n",
       "      <td>78</td>\n",
       "      <td>178</td>\n",
       "      <td>5</td>\n",
       "      <td>0</td>\n",
       "      <td>149</td>\n",
       "      <td>152</td>\n",
       "      <td>152</td>\n",
       "      <td>8</td>\n",
       "      <td>1</td>\n",
       "    </tr>\n",
       "    <tr>\n",
       "      <th>1743</th>\n",
       "      <td>134</td>\n",
       "      <td>13</td>\n",
       "      <td>2</td>\n",
       "      <td>9</td>\n",
       "      <td>7</td>\n",
       "      <td>0</td>\n",
       "      <td>0</td>\n",
       "      <td>59</td>\n",
       "      <td>1.2</td>\n",
       "      <td>0</td>\n",
       "      <td>...</td>\n",
       "      <td>99</td>\n",
       "      <td>88</td>\n",
       "      <td>187</td>\n",
       "      <td>5</td>\n",
       "      <td>0</td>\n",
       "      <td>151</td>\n",
       "      <td>145</td>\n",
       "      <td>151</td>\n",
       "      <td>42</td>\n",
       "      <td>0</td>\n",
       "    </tr>\n",
       "    <tr>\n",
       "      <th>1301</th>\n",
       "      <td>136</td>\n",
       "      <td>0</td>\n",
       "      <td>0</td>\n",
       "      <td>5</td>\n",
       "      <td>7</td>\n",
       "      <td>0</td>\n",
       "      <td>1</td>\n",
       "      <td>25</td>\n",
       "      <td>1.6</td>\n",
       "      <td>0</td>\n",
       "      <td>...</td>\n",
       "      <td>98</td>\n",
       "      <td>60</td>\n",
       "      <td>158</td>\n",
       "      <td>6</td>\n",
       "      <td>0</td>\n",
       "      <td>136</td>\n",
       "      <td>126</td>\n",
       "      <td>134</td>\n",
       "      <td>34</td>\n",
       "      <td>1</td>\n",
       "    </tr>\n",
       "  </tbody>\n",
       "</table>\n",
       "<p>5 rows × 21 columns</p>\n",
       "</div>"
      ],
      "text/plain": [
       "       LB  AC  FM  UC  DL  DS  DP  ASTV  MSTV  ALTV  ...  Width  Min  Max  \\\n",
       "431   125  10   0   0   0   0   0    41   1.2     0  ...     63   98  161   \n",
       "1410  145   3   0   5   0   0   0    55   0.6     8  ...     73   93  166   \n",
       "59    144   5   0   4   0   0   0    33   1.1     0  ...    100   78  178   \n",
       "1743  134  13   2   9   7   0   0    59   1.2     0  ...     99   88  187   \n",
       "1301  136   0   0   5   7   0   1    25   1.6     0  ...     98   60  158   \n",
       "\n",
       "      Nmax  Nzeros  Mode  Mean  Median  Variance  Tendency  \n",
       "431      4       0   138   135     137         6         0  \n",
       "1410     5       0   149   150     151         1         1  \n",
       "59       5       0   149   152     152         8         1  \n",
       "1743     5       0   151   145     151        42         0  \n",
       "1301     6       0   136   126     134        34         1  \n",
       "\n",
       "[5 rows x 21 columns]"
      ]
     },
     "execution_count": 3,
     "metadata": {},
     "output_type": "execute_result"
    }
   ],
   "source": [
    "# Columns to be considered in the dataset\n",
    "columns = [\"LB\", \"AC\", \"FM\", \"UC\", \"DL\", \"DS\", \"DP\", \n",
    "           \"ASTV\", \"MSTV\", \"ALTV\", \"MLTV\", \"Width\", \"Min\", \n",
    "           \"Max\", \"Nmax\", \"Nzeros\", \"Mode\", \"Mean\", \"Median\", \"Variance\", \"Tendency\"]\n",
    "\n",
    "#Prepare X and y\n",
    "X = df[columns]\n",
    "y1 = df[\"NSP\"]\n",
    "target_names = [1,2,3]\n",
    "y2 = df[\"CLASS\"]\n",
    "X.head()\n",
    "\n"
   ]
  },
  {
   "cell_type": "markdown",
   "metadata": {},
   "source": [
    "If the values of the features are closer to each other we improve the algorithm's training and performance. \n",
    "\n",
    "Why? \n",
    "\n",
    "If the difference betwenn the value of the features is high, it will take the model more time to understand the data and the accuracy will be lower.  Larger differences between the data points of input variables increase the uncertainty in the results of the model. \n",
    "\n",
    "We Standardize features by removing the mean and scaling to variance = 1.\n",
    "\n",
    "The standard score of a sample x is calculated as:\n",
    "\n",
    "z = (x - u) / s\n",
    "\n",
    "where: \n",
    "- x: data point \n",
    "- u: mean of our sample data \n",
    "- s: standard variation"
   ]
  },
  {
   "cell_type": "code",
   "execution_count": 4,
   "metadata": {},
   "outputs": [
    {
     "data": {
      "text/html": [
       "<div>\n",
       "<style scoped>\n",
       "    .dataframe tbody tr th:only-of-type {\n",
       "        vertical-align: middle;\n",
       "    }\n",
       "\n",
       "    .dataframe tbody tr th {\n",
       "        vertical-align: top;\n",
       "    }\n",
       "\n",
       "    .dataframe thead th {\n",
       "        text-align: right;\n",
       "    }\n",
       "</style>\n",
       "<table border=\"1\" class=\"dataframe\">\n",
       "  <thead>\n",
       "    <tr style=\"text-align: right;\">\n",
       "      <th></th>\n",
       "      <th>LB</th>\n",
       "      <th>AC</th>\n",
       "      <th>FM</th>\n",
       "      <th>UC</th>\n",
       "      <th>DL</th>\n",
       "      <th>DS</th>\n",
       "      <th>DP</th>\n",
       "      <th>ASTV</th>\n",
       "      <th>MSTV</th>\n",
       "      <th>ALTV</th>\n",
       "      <th>...</th>\n",
       "      <th>Width</th>\n",
       "      <th>Min</th>\n",
       "      <th>Max</th>\n",
       "      <th>Nmax</th>\n",
       "      <th>Nzeros</th>\n",
       "      <th>Mode</th>\n",
       "      <th>Mean</th>\n",
       "      <th>Median</th>\n",
       "      <th>Variance</th>\n",
       "      <th>Tendency</th>\n",
       "    </tr>\n",
       "  </thead>\n",
       "  <tbody>\n",
       "    <tr>\n",
       "      <th>0</th>\n",
       "      <td>-0.844014</td>\n",
       "      <td>2.044239</td>\n",
       "      <td>-0.195096</td>\n",
       "      <td>-1.285798</td>\n",
       "      <td>-0.628375</td>\n",
       "      <td>-0.057476</td>\n",
       "      <td>-0.271530</td>\n",
       "      <td>-0.348490</td>\n",
       "      <td>-0.150373</td>\n",
       "      <td>-0.535361</td>\n",
       "      <td>...</td>\n",
       "      <td>-0.191183</td>\n",
       "      <td>0.149578</td>\n",
       "      <td>-0.168640</td>\n",
       "      <td>-0.023130</td>\n",
       "      <td>-0.458444</td>\n",
       "      <td>0.033459</td>\n",
       "      <td>0.024982</td>\n",
       "      <td>-0.075385</td>\n",
       "      <td>-0.442103</td>\n",
       "      <td>-0.524526</td>\n",
       "    </tr>\n",
       "    <tr>\n",
       "      <th>1</th>\n",
       "      <td>1.188810</td>\n",
       "      <td>0.077954</td>\n",
       "      <td>-0.195096</td>\n",
       "      <td>0.470793</td>\n",
       "      <td>-0.628375</td>\n",
       "      <td>-0.057476</td>\n",
       "      <td>-0.271530</td>\n",
       "      <td>0.465995</td>\n",
       "      <td>-0.829849</td>\n",
       "      <td>-0.100403</td>\n",
       "      <td>...</td>\n",
       "      <td>0.065579</td>\n",
       "      <td>-0.019608</td>\n",
       "      <td>0.110067</td>\n",
       "      <td>0.316003</td>\n",
       "      <td>-0.458444</td>\n",
       "      <td>0.705115</td>\n",
       "      <td>0.987141</td>\n",
       "      <td>0.892590</td>\n",
       "      <td>-0.614691</td>\n",
       "      <td>1.112980</td>\n",
       "    </tr>\n",
       "    <tr>\n",
       "      <th>2</th>\n",
       "      <td>1.087169</td>\n",
       "      <td>0.639750</td>\n",
       "      <td>-0.195096</td>\n",
       "      <td>0.119475</td>\n",
       "      <td>-0.628375</td>\n",
       "      <td>-0.057476</td>\n",
       "      <td>-0.271530</td>\n",
       "      <td>-0.813911</td>\n",
       "      <td>-0.263619</td>\n",
       "      <td>-0.535361</td>\n",
       "      <td>...</td>\n",
       "      <td>0.758838</td>\n",
       "      <td>-0.527167</td>\n",
       "      <td>0.778965</td>\n",
       "      <td>0.316003</td>\n",
       "      <td>-0.458444</td>\n",
       "      <td>0.705115</td>\n",
       "      <td>1.115429</td>\n",
       "      <td>0.961731</td>\n",
       "      <td>-0.373068</td>\n",
       "      <td>1.112980</td>\n",
       "    </tr>\n",
       "    <tr>\n",
       "      <th>3</th>\n",
       "      <td>0.070757</td>\n",
       "      <td>2.886933</td>\n",
       "      <td>-0.141212</td>\n",
       "      <td>1.876065</td>\n",
       "      <td>2.173147</td>\n",
       "      <td>-0.057476</td>\n",
       "      <td>-0.271530</td>\n",
       "      <td>0.698705</td>\n",
       "      <td>-0.150373</td>\n",
       "      <td>-0.535361</td>\n",
       "      <td>...</td>\n",
       "      <td>0.733161</td>\n",
       "      <td>-0.188794</td>\n",
       "      <td>1.280638</td>\n",
       "      <td>0.316003</td>\n",
       "      <td>-0.458444</td>\n",
       "      <td>0.827234</td>\n",
       "      <td>0.666422</td>\n",
       "      <td>0.892590</td>\n",
       "      <td>0.800527</td>\n",
       "      <td>-0.524526</td>\n",
       "    </tr>\n",
       "    <tr>\n",
       "      <th>4</th>\n",
       "      <td>0.274039</td>\n",
       "      <td>-0.764740</td>\n",
       "      <td>-0.195096</td>\n",
       "      <td>0.470793</td>\n",
       "      <td>2.173147</td>\n",
       "      <td>-0.057476</td>\n",
       "      <td>1.882473</td>\n",
       "      <td>-1.279331</td>\n",
       "      <td>0.302611</td>\n",
       "      <td>-0.535361</td>\n",
       "      <td>...</td>\n",
       "      <td>0.707485</td>\n",
       "      <td>-1.136237</td>\n",
       "      <td>-0.335865</td>\n",
       "      <td>0.655137</td>\n",
       "      <td>-0.458444</td>\n",
       "      <td>-0.088660</td>\n",
       "      <td>-0.552314</td>\n",
       "      <td>-0.282808</td>\n",
       "      <td>0.524387</td>\n",
       "      <td>1.112980</td>\n",
       "    </tr>\n",
       "  </tbody>\n",
       "</table>\n",
       "<p>5 rows × 21 columns</p>\n",
       "</div>"
      ],
      "text/plain": [
       "         LB        AC        FM        UC        DL        DS        DP  \\\n",
       "0 -0.844014  2.044239 -0.195096 -1.285798 -0.628375 -0.057476 -0.271530   \n",
       "1  1.188810  0.077954 -0.195096  0.470793 -0.628375 -0.057476 -0.271530   \n",
       "2  1.087169  0.639750 -0.195096  0.119475 -0.628375 -0.057476 -0.271530   \n",
       "3  0.070757  2.886933 -0.141212  1.876065  2.173147 -0.057476 -0.271530   \n",
       "4  0.274039 -0.764740 -0.195096  0.470793  2.173147 -0.057476  1.882473   \n",
       "\n",
       "       ASTV      MSTV      ALTV  ...     Width       Min       Max      Nmax  \\\n",
       "0 -0.348490 -0.150373 -0.535361  ... -0.191183  0.149578 -0.168640 -0.023130   \n",
       "1  0.465995 -0.829849 -0.100403  ...  0.065579 -0.019608  0.110067  0.316003   \n",
       "2 -0.813911 -0.263619 -0.535361  ...  0.758838 -0.527167  0.778965  0.316003   \n",
       "3  0.698705 -0.150373 -0.535361  ...  0.733161 -0.188794  1.280638  0.316003   \n",
       "4 -1.279331  0.302611 -0.535361  ...  0.707485 -1.136237 -0.335865  0.655137   \n",
       "\n",
       "     Nzeros      Mode      Mean    Median  Variance  Tendency  \n",
       "0 -0.458444  0.033459  0.024982 -0.075385 -0.442103 -0.524526  \n",
       "1 -0.458444  0.705115  0.987141  0.892590 -0.614691  1.112980  \n",
       "2 -0.458444  0.705115  1.115429  0.961731 -0.373068  1.112980  \n",
       "3 -0.458444  0.827234  0.666422  0.892590  0.800527 -0.524526  \n",
       "4 -0.458444 -0.088660 -0.552314 -0.282808  0.524387  1.112980  \n",
       "\n",
       "[5 rows x 21 columns]"
      ]
     },
     "execution_count": 4,
     "metadata": {},
     "output_type": "execute_result"
    }
   ],
   "source": [
    "# Apply the standar scaler to features\n",
    "\n",
    "sc = StandardScaler()\n",
    "\n",
    "sc.fit(X)\n",
    "X_std = pd.DataFrame(sc.transform(X),columns=columns)\n",
    "X_std.head()"
   ]
  },
  {
   "cell_type": "markdown",
   "metadata": {},
   "source": [
    "We visualize the scaled data using boxplot: "
   ]
  },
  {
   "cell_type": "code",
   "execution_count": 5,
   "metadata": {},
   "outputs": [
    {
     "data": {
      "image/png": "[encoded data removed]",
      "text/plain": [
       "<Figure size 1000x1000 with 1 Axes>"
      ]
     },
     "metadata": {},
     "output_type": "display_data"
    }
   ],
   "source": [
    "fig, ax = plt.subplots(figsize=(10,10))\n",
    "\n",
    "bp = plt.boxplot(X_std,labels=columns,vert=0,patch_artist = True)\n",
    "\n",
    "ax.axvline(3, c = \"red\", linestyle=\"--\", alpha = 0.5)\n",
    "ax.axvline(-3, c = \"red\", linestyle=\"--\", alpha = 0.5)\n",
    "\n",
    "\n",
    "plt.gca().xaxis.grid(True)\n",
    "\n",
    "# source for aestetic improvements: https://www.geeksforgeeks.org/box-plot-in-python-using-matplotlib/\n",
    "for dot in bp['fliers']:\n",
    "    dot.set(marker ='o',\n",
    "              color ='lightgrey',\n",
    "              alpha = 0.5)\n",
    "    "
   ]
  },
  {
   "cell_type": "markdown",
   "metadata": {},
   "source": [
    "We have a lot of outliers deviating the mean of our features. This is a problem we must consider. "
   ]
  },
  {
   "cell_type": "code",
   "execution_count": 30,
   "metadata": {},
   "outputs": [
    {
     "data": {
      "image/png": "[encoded data removed]",
      "text/plain": [
       "<Figure size 1000x500 with 2 Axes>"
      ]
     },
     "metadata": {},
     "output_type": "display_data"
    }
   ],
   "source": [
    "# colormap source: https://stackoverflow.com/questions/64068659/bar-chart-in-matplotlib-using-a-colormap\n",
    "my_cmap = plt.get_cmap(\"coolwarm\")\n",
    "rescale = lambda y: (y - np.min(y)) / (np.max(y) - np.min(y))\n",
    "\n",
    "fig, ax = plt.subplots(1,2,figsize = (10,5))\n",
    "\n",
    "ax[0].bar(df[\"NSP\"].unique(),df.groupby(by=\"NSP\").size(), color=my_cmap(rescale(df[\"NSP\"].unique())))\n",
    "ax[1].bar(df[\"CLASS\"].unique(),df.groupby(by=\"CLASS\").size(),color=my_cmap(rescale(df[\"CLASS\"].unique())))\n",
    "\n",
    "ax[0].set_xticks(np.arange(1,4)) \n",
    "ax[0].set_xticklabels(np.arange(1,4), fontsize=12)\n",
    "ax[0].set_xlabel(\"NSP\")\n",
    "ax[1].set_xticks(np.arange(1,11)) \n",
    "ax[1].set_xticklabels(np.arange(1,11), fontsize=12)\n",
    "ax[1].set_xlabel(\"CLASS\");"
   ]
  },
  {
   "cell_type": "markdown",
   "metadata": {},
   "source": [
    "# Supervised Learning Models\n"
   ]
  },
  {
   "cell_type": "markdown",
   "metadata": {},
   "source": [
    "**Premise**: how does PCA and standardisation affect the accuracy of the classifying models?"
   ]
  },
  {
   "cell_type": "markdown",
   "metadata": {},
   "source": [
    "*Notes*: when using the PCA:\n",
    "\n",
    "- for raw data use 3 components\n",
    "- for scaled data use 10 components "
   ]
  },
  {
   "cell_type": "code",
   "execution_count": 6,
   "metadata": {},
   "outputs": [],
   "source": [
    "# Split in train and test dataset (with and without Standard Scaler application)\n",
    "\n",
    "# Raw data\n",
    "X_train, X_test, y_train, y_test = train_test_split(X, y1, train_size=0.8,random_state=35)\n",
    "\n",
    "# Scaled data\n",
    "X_train_std, X_test_std, y_train_std, y_test_std = train_test_split(X_std, y1, train_size=0.8,random_state=35)\n"
   ]
  },
  {
   "cell_type": "markdown",
   "metadata": {},
   "source": [
    "## Decision Tree and Random Forest "
   ]
  },
  {
   "cell_type": "markdown",
   "metadata": {},
   "source": [
    "Let's apply the **Decision Tree Classifier**"
   ]
  },
  {
   "cell_type": "code",
   "execution_count": 7,
   "metadata": {},
   "outputs": [],
   "source": [
    "dt = DecisionTreeClassifier(random_state=35)"
   ]
  },
  {
   "cell_type": "code",
   "execution_count": 8,
   "metadata": {},
   "outputs": [
    {
     "data": {
      "image/png": "[encoded data removed]",
      "text/plain": [
       "<Figure size 640x480 with 2 Axes>"
      ]
     },
     "metadata": {},
     "output_type": "display_data"
    }
   ],
   "source": [
    "# Raw data\n",
    "dt.fit(X_train,y_train)\n",
    "y_pred = dt.predict(X_test)\n",
    "\n",
    "cm = confusion_matrix(y_pred,y_test)\n",
    "\n",
    "disp = ConfusionMatrixDisplay(confusion_matrix=cm, display_labels=dt.classes_);\n",
    "disp.plot();"
   ]
  },
  {
   "cell_type": "code",
   "execution_count": 9,
   "metadata": {},
   "outputs": [
    {
     "data": {
      "image/png": "[encoded data removed]",
      "text/plain": [
       "<Figure size 640x480 with 2 Axes>"
      ]
     },
     "metadata": {},
     "output_type": "display_data"
    }
   ],
   "source": [
    "# Scaled data\n",
    "dt.fit(X_train_std,y_train_std)\n",
    "y_pred_std = dt.predict(X_test_std)\n",
    "\n",
    "cm = confusion_matrix(y_pred_std, y_test)\n",
    "\n",
    "disp_st = ConfusionMatrixDisplay(confusion_matrix=cm, display_labels=dt.classes_)\n",
    "disp_st.plot();"
   ]
  },
  {
   "cell_type": "code",
   "execution_count": 10,
   "metadata": {},
   "outputs": [
    {
     "name": "stdout",
     "output_type": "stream",
     "text": [
      "Decision Tree accuracy: 0.92\n",
      "Decision Tree accuracy with Standard Scalar: 0.92\n"
     ]
    }
   ],
   "source": [
    "print(\"Decision Tree accuracy: %.2f\" % accuracy_score(y_pred,y_test) )\n",
    "print(\"Decision Tree accuracy with Standard Scalar: %.2f\" % accuracy_score(y_pred_std,y_test_std) )"
   ]
  },
  {
   "cell_type": "markdown",
   "metadata": {},
   "source": [
    "Let's apply the **Random Forest Classifier** "
   ]
  },
  {
   "cell_type": "code",
   "execution_count": 11,
   "metadata": {},
   "outputs": [],
   "source": [
    "rf = RandomForestClassifier(n_estimators=10, criterion=\"entropy\")"
   ]
  },
  {
   "cell_type": "code",
   "execution_count": null,
   "metadata": {},
   "outputs": [],
   "source": []
  },
  {
   "cell_type": "markdown",
   "metadata": {},
   "source": [
    "Let's apply PCA "
   ]
  },
  {
   "cell_type": "code",
   "execution_count": 12,
   "metadata": {},
   "outputs": [
    {
     "name": "stdout",
     "output_type": "stream",
     "text": [
      "(2126, 21)\n",
      "(2126, 21)\n"
     ]
    }
   ],
   "source": [
    "print(X.shape)\n",
    "print(X_std.shape)\n"
   ]
  },
  {
   "cell_type": "code",
   "execution_count": 13,
   "metadata": {},
   "outputs": [
    {
     "name": "stdout",
     "output_type": "stream",
     "text": [
      "(2126, 3)\n",
      "(2126, 10)\n"
     ]
    }
   ],
   "source": [
    "# Raw data\n",
    "pca = PCA(n_components=3)\n",
    "pca.fit(X)\n",
    "X_pca = pca.transform(X)\n",
    "\n",
    "print(X_pca.shape)\n",
    "\n",
    "# Scaled data\n",
    "pca_std = PCA(n_components=10)\n",
    "pca_std.fit(X_std)\n",
    "X_pca_std = pca_std.transform(X_std)\n",
    "\n",
    "print(X_pca_std.shape)"
   ]
  },
  {
   "cell_type": "code",
   "execution_count": 14,
   "metadata": {},
   "outputs": [
    {
     "name": "stdout",
     "output_type": "stream",
     "text": [
      "Decision Tree accuracy: 0.82\n",
      "Decision Tree accuracy with Standard Scalar: 0.82\n"
     ]
    }
   ],
   "source": [
    "#training and testing dataset\n",
    "\n",
    "# Raw data\n",
    "X_train, X_test, y_train, y_test = train_test_split(X_pca, y1, train_size=0.8,random_state=35)\n",
    "dt.fit(X_train,y_train)\n",
    "y_pred = dt.predict(X_test)\n",
    "\n",
    "print(\"Decision Tree accuracy: %.2f\" % accuracy_score(y_pred,y_test) )\n",
    "\n",
    "# Scaled data: \n",
    "X_train_std, X_test_std, y_train_std, y_test_std = train_test_split(X_pca_std, y1, train_size=0.8,random_state=35)\n",
    "dt.fit(X_train,y_train)\n",
    "y_pred_std = dt.predict(X_test)\n",
    "\n",
    "print(\"Decision Tree accuracy with Standard Scalar: %.2f\" % accuracy_score(y_pred_std,y_test_std) )"
   ]
  },
  {
   "cell_type": "markdown",
   "metadata": {},
   "source": [
    "## SVM  "
   ]
  },
  {
   "cell_type": "code",
   "execution_count": 15,
   "metadata": {},
   "outputs": [],
   "source": [
    "# Split in train and test dataset (with and without Standard Scaler application)\n",
    "\n",
    "# Raw data\n",
    "X_train, X_test, y_train, y_test = train_test_split(X, y1, train_size=0.8,random_state=35)\n",
    "\n",
    "# Scaled data\n",
    "X_train_std, X_test_std, y_train_std, y_test_std = train_test_split(X_std, y1, train_size=0.8,random_state=35)"
   ]
  },
  {
   "cell_type": "code",
   "execution_count": 16,
   "metadata": {},
   "outputs": [
    {
     "name": "stdout",
     "output_type": "stream",
     "text": [
      "SVM accuracy: 0.85\n",
      "SVM accuracy with Standard Scalar: 0.86\n"
     ]
    },
    {
     "data": {
      "image/png": "[encoded data removed]",
      "text/plain": [
       "<Figure size 640x480 with 2 Axes>"
      ]
     },
     "metadata": {},
     "output_type": "display_data"
    },
    {
     "data": {
      "image/png": "[encoded data removed]",
      "text/plain": [
       "<Figure size 640x480 with 2 Axes>"
      ]
     },
     "metadata": {},
     "output_type": "display_data"
    }
   ],
   "source": [
    "# create model\n",
    "svm = SVC(kernel=\"linear\", C=10000)\n",
    "\n",
    "#raw data\n",
    "svm.fit(X_train, y_train)\n",
    "y_pred = svm.predict(X_test)\n",
    "print(\"SVM accuracy: %.2f\" % accuracy_score(y_test, y_pred))\n",
    "\n",
    "cm = confusion_matrix(y_pred,y_test)\n",
    "disp = ConfusionMatrixDisplay(confusion_matrix=cm, display_labels=dt.classes_);\n",
    "disp.plot();\n",
    "\n",
    "#scaled data \n",
    "svm.fit(X_train_std, y_train_std)\n",
    "y_pred = svm.predict(X_test_std)\n",
    "print(\"SVM accuracy with Standard Scalar: %.2f\" % accuracy_score(y_test_std, y_pred))\n",
    "\n",
    "cm = confusion_matrix(y_pred,y_test_std)\n",
    "disp = ConfusionMatrixDisplay(confusion_matrix=cm, display_labels=dt.classes_);\n",
    "disp.plot();\n"
   ]
  },
  {
   "cell_type": "code",
   "execution_count": 17,
   "metadata": {},
   "outputs": [
    {
     "name": "stdout",
     "output_type": "stream",
     "text": [
      "SVM accuracy: 0.82\n"
     ]
    }
   ],
   "source": [
    "# Apply PCA\n",
    "\n",
    "# Raw data\n",
    "pca = PCA(n_components=3)\n",
    "pca.fit(X)\n",
    "X_pca = pca.transform(X)\n",
    "\n",
    "X_train, X_test, y_train, y_test = train_test_split(X_pca, y1, train_size=0.8,random_state=35)\n",
    "dt.fit(X_train,y_train)\n",
    "y_pred = dt.predict(X_test)\n",
    "\n",
    "print(\"SVM accuracy: %.2f\" % accuracy_score(y_pred,y_test) )\n",
    "\n",
    "# Scaled data\n",
    "pca_std = PCA(n_components=10)\n",
    "pca_std.fit(X_std)\n",
    "X_pca_std = pca_std.transform(X_std)\n",
    "\n"
   ]
  },
  {
   "cell_type": "markdown",
   "metadata": {},
   "source": [
    "## K-Nearest Neighbours"
   ]
  },
  {
   "cell_type": "code",
   "execution_count": 27,
   "metadata": {},
   "outputs": [
    {
     "name": "stdout",
     "output_type": "stream",
     "text": [
      "KNN accuracy: 0.82\n"
     ]
    }
   ],
   "source": [
    "X_train, X_test, y_train, y_test = train_test_split(X, y1, train_size=0.8, random_state=35)\n",
    "\n",
    "knn = KNeighborsClassifier(n_neighbors=3)\n",
    "knn.fit(X_train, y_train)\n",
    "knn.predict(X_test)\n",
    "print(\"KNN accuracy: %.2f\" % accuracy_score(y_pred,y_test) )\n",
    "\n"
   ]
  },
  {
   "cell_type": "markdown",
   "metadata": {},
   "source": [
    "## Naïve Bayes "
   ]
  },
  {
   "cell_type": "code",
   "execution_count": 26,
   "metadata": {},
   "outputs": [
    {
     "name": "stdout",
     "output_type": "stream",
     "text": [
      "GNB accuracy: 0.82\n"
     ]
    }
   ],
   "source": [
    "X_train, X_test, y_train, y_test = train_test_split(X, y1, train_size=0.8, random_state=35)\n",
    "\n",
    "gnb = GaussianNB()\n",
    "gnb.fit(X_train, y_train) ;\n",
    "gnb.predict(X_test)\n",
    "print(\"GNB accuracy: %.2f\" % accuracy_score(y_pred,y_test) )"
   ]
  },
  {
   "cell_type": "markdown",
   "metadata": {},
   "source": [
    "# Supervised Learning Models"
   ]
  },
  {
   "cell_type": "markdown",
   "metadata": {},
   "source": [
    "## GMM"
   ]
  },
  {
   "cell_type": "code",
   "execution_count": 40,
   "metadata": {},
   "outputs": [
    {
     "name": "stdout",
     "output_type": "stream",
     "text": [
      "[1 2 2 ... 2 1 1]\n",
      "[[0.    1.    0.   ]\n",
      " [0.    0.    1.   ]\n",
      " [0.    0.    1.   ]\n",
      " ...\n",
      " [0.    0.    1.   ]\n",
      " [0.    1.    0.   ]\n",
      " [0.    0.924 0.076]]\n"
     ]
    }
   ],
   "source": [
    "gmm = GaussianMixture(n_components=3).fit(X)\n",
    "\n",
    "clusters = gmm.predict(X)\n",
    "print(clusters)\n",
    "\n",
    "probs = gmm.predict_proba(X)\n",
    "print(probs.round(3))"
   ]
  },
  {
   "cell_type": "code",
   "execution_count": 41,
   "metadata": {},
   "outputs": [
    {
     "data": {
      "text/plain": [
       "0.7784571966133584"
      ]
     },
     "execution_count": 41,
     "metadata": {},
     "output_type": "execute_result"
    }
   ],
   "source": [
    "labels = np.zeros_like(clusters)\n",
    "\n",
    "for i in range(3): \n",
    "    mask = (clusters == i)\n",
    "    labels[mask] = mode(y1[mask])[0]\n",
    "\n",
    "accuracy_score(y1, labels)"
   ]
  },
  {
   "cell_type": "markdown",
   "metadata": {},
   "source": [
    "# Observations\n",
    "\n",
    "- Data standardization is used to minimize the difference in the ranges of the features, ensuring the gradient descent moves smoothly towards the minima and that the steps for gradient descent are updated at the same rate for all the features. However, scaling does not significantly affect our accuracy in our case because our features are within the same range (i.e., 0 - 200).  "
   ]
  },
  {
   "cell_type": "code",
   "execution_count": null,
   "metadata": {},
   "outputs": [],
   "source": []
  }
 ],
 "metadata": {
  "kernelspec": {
   "display_name": "Python 3 (ipykernel)",
   "language": "python",
   "name": "python3"
  },
  "language_info": {
   "codemirror_mode": {
    "name": "ipython",
    "version": 3
   },
   "file_extension": ".py",
   "mimetype": "text/x-python",
   "name": "python",
   "nbconvert_exporter": "python",
   "pygments_lexer": "ipython3",
   "version": "3.9.12"
  },
  "vscode": {
   "interpreter": {
    "hash": "aee8b7b246df8f9039afb4144a1f6fd8d2ca17a180786b69acc140d282b71a49"
   }
  }
 },
 "nbformat": 4,
 "nbformat_minor": 2
}
