{
 "cells": [
  {
   "cell_type": "markdown",
   "metadata": {},
   "source": [
    "# Layout\n",
    "\n",
    "   - We do a preliminary analysis of our data and find: \n",
    "\n",
    "    - **problem 1**: one of the classes is more significant than the rest. \n",
    "\n",
    "    - **problem 2**: we have many outliers\n",
    "    \n",
    "\n",
    "   - We will apply the **supervised learning models** seen in class: \n",
    "\n",
    "    - Decision Trees + Random Forest (related)\n",
    "    - SVM  \n",
    "    - k-Nearest Neighbours \n",
    "    - Naïve Bayes \n",
    "    - Linear Regression \n",
    "    - *NOT* perceptron since we are going to use NN later\n",
    "    \n",
    "   - We will apply the **unsupervised learning models** seen in class: \n",
    "\n",
    "    - K-means \n",
    "    - GMM\n",
    "\n",
    "   - After we have optimized our models, we compare these models' performances with a **Neural Network**: \n",
    "\n",
    "    **Premise**: Neural Networks should allow a higher accuracy score than the supervised and unsupervised learning models. \n",
    "\n",
    "\n",
    "   - Ways of cleaning data: \n",
    "\n",
    "    - PCA\n",
    "    - standardisation \n",
    "    - normalisation\n",
    "\n",
    "\n",
    "   - Ways of evaluating models: \n",
    "\n",
    "    - confusion matrices\n",
    "    - accuracy score\n",
    "    - associated plots "
   ]
  },
  {
   "cell_type": "markdown",
   "metadata": {},
   "source": [
    "# Data"
   ]
  },
  {
   "cell_type": "markdown",
   "metadata": {},
   "source": [
    "We import useful packages"
   ]
  },
  {
   "cell_type": "code",
   "execution_count": 265,
   "metadata": {},
   "outputs": [],
   "source": [
    "#basics\n",
    "import pandas as pd\n",
    "import matplotlib.pyplot as plt\n",
    "import numpy as np\n",
    "import math\n",
    "from scipy.stats import mode\n",
    "import base64\n",
    "import io\n",
    "import os\n",
    "import requests\n",
    "\n",
    "#sklearn\n",
    "from sklearn.preprocessing import StandardScaler\n",
    "from sklearn.model_selection import train_test_split\n",
    "from sklearn.metrics import confusion_matrix, ConfusionMatrixDisplay, accuracy_score, mean_squared_error\n",
    "from sklearn.decomposition import PCA\n",
    "from sklearn.mixture import GaussianMixture\n",
    "from sklearn.svm import SVC\n",
    "from sklearn.neighbors import KNeighborsClassifier\n",
    "from sklearn.naive_bayes import GaussianNB\n",
    "from sklearn.cluster import KMeans\n",
    "from sklearn.tree import DecisionTreeClassifier \n",
    "from sklearn.ensemble import RandomForestClassifier\n",
    "\n",
    "# tensorflow\n",
    "import tensorflow as tf\n",
    "from tensorflow import keras\n",
    "from tensorflow.keras.models import Sequential\n",
    "from tensorflow.keras.layers import Dense\n",
    "from tensorflow.keras.utils import to_categorical\n"
   ]
  },
  {
   "cell_type": "markdown",
   "metadata": {},
   "source": [
    "We import the data "
   ]
  },
  {
   "cell_type": "code",
   "execution_count": 106,
   "metadata": {},
   "outputs": [
    {
     "data": {
      "text/html": [
       "<div>\n",
       "<style scoped>\n",
       "    .dataframe tbody tr th:only-of-type {\n",
       "        vertical-align: middle;\n",
       "    }\n",
       "\n",
       "    .dataframe tbody tr th {\n",
       "        vertical-align: top;\n",
       "    }\n",
       "\n",
       "    .dataframe thead th {\n",
       "        text-align: right;\n",
       "    }\n",
       "</style>\n",
       "<table border=\"1\" class=\"dataframe\">\n",
       "  <thead>\n",
       "    <tr style=\"text-align: right;\">\n",
       "      <th></th>\n",
       "      <th>b</th>\n",
       "      <th>e</th>\n",
       "      <th>AC</th>\n",
       "      <th>FM</th>\n",
       "      <th>UC</th>\n",
       "      <th>DL</th>\n",
       "      <th>DS</th>\n",
       "      <th>DP</th>\n",
       "      <th>DR</th>\n",
       "      <th>Unnamed: 9</th>\n",
       "      <th>...</th>\n",
       "      <th>E</th>\n",
       "      <th>AD</th>\n",
       "      <th>DE</th>\n",
       "      <th>LD</th>\n",
       "      <th>FS</th>\n",
       "      <th>SUSP</th>\n",
       "      <th>Unnamed: 42</th>\n",
       "      <th>CLASS</th>\n",
       "      <th>Unnamed: 44</th>\n",
       "      <th>NSP</th>\n",
       "    </tr>\n",
       "  </thead>\n",
       "  <tbody>\n",
       "    <tr>\n",
       "      <th>790</th>\n",
       "      <td>176</td>\n",
       "      <td>928</td>\n",
       "      <td>2</td>\n",
       "      <td>3</td>\n",
       "      <td>0</td>\n",
       "      <td>0</td>\n",
       "      <td>0</td>\n",
       "      <td>0</td>\n",
       "      <td>0</td>\n",
       "      <td>NaN</td>\n",
       "      <td>...</td>\n",
       "      <td>-1</td>\n",
       "      <td>-1</td>\n",
       "      <td>-1</td>\n",
       "      <td>-1</td>\n",
       "      <td>-1</td>\n",
       "      <td>-1</td>\n",
       "      <td>NaN</td>\n",
       "      <td>2</td>\n",
       "      <td>NaN</td>\n",
       "      <td>1</td>\n",
       "    </tr>\n",
       "    <tr>\n",
       "      <th>1419</th>\n",
       "      <td>1914</td>\n",
       "      <td>2567</td>\n",
       "      <td>5</td>\n",
       "      <td>0</td>\n",
       "      <td>4</td>\n",
       "      <td>0</td>\n",
       "      <td>0</td>\n",
       "      <td>0</td>\n",
       "      <td>0</td>\n",
       "      <td>NaN</td>\n",
       "      <td>...</td>\n",
       "      <td>-1</td>\n",
       "      <td>-1</td>\n",
       "      <td>-1</td>\n",
       "      <td>-1</td>\n",
       "      <td>-1</td>\n",
       "      <td>-1</td>\n",
       "      <td>NaN</td>\n",
       "      <td>2</td>\n",
       "      <td>NaN</td>\n",
       "      <td>1</td>\n",
       "    </tr>\n",
       "    <tr>\n",
       "      <th>1355</th>\n",
       "      <td>802</td>\n",
       "      <td>1611</td>\n",
       "      <td>1</td>\n",
       "      <td>0</td>\n",
       "      <td>3</td>\n",
       "      <td>3</td>\n",
       "      <td>0</td>\n",
       "      <td>0</td>\n",
       "      <td>0</td>\n",
       "      <td>NaN</td>\n",
       "      <td>...</td>\n",
       "      <td>-1</td>\n",
       "      <td>-1</td>\n",
       "      <td>1</td>\n",
       "      <td>-1</td>\n",
       "      <td>-1</td>\n",
       "      <td>-1</td>\n",
       "      <td>NaN</td>\n",
       "      <td>7</td>\n",
       "      <td>NaN</td>\n",
       "      <td>1</td>\n",
       "    </tr>\n",
       "    <tr>\n",
       "      <th>785</th>\n",
       "      <td>0</td>\n",
       "      <td>1199</td>\n",
       "      <td>1</td>\n",
       "      <td>16</td>\n",
       "      <td>0</td>\n",
       "      <td>0</td>\n",
       "      <td>0</td>\n",
       "      <td>0</td>\n",
       "      <td>0</td>\n",
       "      <td>NaN</td>\n",
       "      <td>...</td>\n",
       "      <td>-1</td>\n",
       "      <td>-1</td>\n",
       "      <td>-1</td>\n",
       "      <td>-1</td>\n",
       "      <td>-1</td>\n",
       "      <td>-1</td>\n",
       "      <td>NaN</td>\n",
       "      <td>1</td>\n",
       "      <td>NaN</td>\n",
       "      <td>1</td>\n",
       "    </tr>\n",
       "    <tr>\n",
       "      <th>1256</th>\n",
       "      <td>217</td>\n",
       "      <td>1219</td>\n",
       "      <td>1</td>\n",
       "      <td>0</td>\n",
       "      <td>7</td>\n",
       "      <td>1</td>\n",
       "      <td>0</td>\n",
       "      <td>0</td>\n",
       "      <td>0</td>\n",
       "      <td>NaN</td>\n",
       "      <td>...</td>\n",
       "      <td>-1</td>\n",
       "      <td>1</td>\n",
       "      <td>-1</td>\n",
       "      <td>-1</td>\n",
       "      <td>-1</td>\n",
       "      <td>-1</td>\n",
       "      <td>NaN</td>\n",
       "      <td>6</td>\n",
       "      <td>NaN</td>\n",
       "      <td>1</td>\n",
       "    </tr>\n",
       "  </tbody>\n",
       "</table>\n",
       "<p>5 rows × 46 columns</p>\n",
       "</div>"
      ],
      "text/plain": [
       "         b     e  AC  FM  UC  DL  DS  DP  DR  Unnamed: 9  ...  E  AD  DE  LD  \\\n",
       "790    176   928   2   3   0   0   0   0   0         NaN  ... -1  -1  -1  -1   \n",
       "1419  1914  2567   5   0   4   0   0   0   0         NaN  ... -1  -1  -1  -1   \n",
       "1355   802  1611   1   0   3   3   0   0   0         NaN  ... -1  -1   1  -1   \n",
       "785      0  1199   1  16   0   0   0   0   0         NaN  ... -1  -1  -1  -1   \n",
       "1256   217  1219   1   0   7   1   0   0   0         NaN  ... -1   1  -1  -1   \n",
       "\n",
       "      FS  SUSP  Unnamed: 42  CLASS  Unnamed: 44  NSP  \n",
       "790   -1    -1          NaN      2          NaN    1  \n",
       "1419  -1    -1          NaN      2          NaN    1  \n",
       "1355  -1    -1          NaN      7          NaN    1  \n",
       "785   -1    -1          NaN      1          NaN    1  \n",
       "1256  -1    -1          NaN      6          NaN    1  \n",
       "\n",
       "[5 rows x 46 columns]"
      ]
     },
     "execution_count": 106,
     "metadata": {},
     "output_type": "execute_result"
    }
   ],
   "source": [
    "path = \"/Users/erikgutierrezduthiers/Desktop/CW_Intro_AI/data/\"\n",
    "filename = \"CTG.xls\"\n",
    "\n",
    "df = pd.read_excel(path+filename, sheet_name = \"Data\",header=1)\n",
    "df = df.reindex(np.random.permutation(df.index))\n",
    "df.head()\n",
    "# shape: (891, 12) assdsd"
   ]
  },
  {
   "cell_type": "markdown",
   "metadata": {},
   "source": [
    "**Data description**:\n",
    "\n",
    "* 2126 fetal cardiotocograms (CTGs).\n",
    "* CTGs classified by: \n",
    "    * morphologic pattern (A, B, C....) - 10-class experiment\n",
    "    * fetal state (N, S, P) - 3-class experiment"
   ]
  },
  {
   "cell_type": "code",
   "execution_count": 279,
   "metadata": {},
   "outputs": [
    {
     "data": {
      "text/html": [
       "<div>\n",
       "<style scoped>\n",
       "    .dataframe tbody tr th:only-of-type {\n",
       "        vertical-align: middle;\n",
       "    }\n",
       "\n",
       "    .dataframe tbody tr th {\n",
       "        vertical-align: top;\n",
       "    }\n",
       "\n",
       "    .dataframe thead th {\n",
       "        text-align: right;\n",
       "    }\n",
       "</style>\n",
       "<table border=\"1\" class=\"dataframe\">\n",
       "  <thead>\n",
       "    <tr style=\"text-align: right;\">\n",
       "      <th></th>\n",
       "      <th>LB</th>\n",
       "      <th>AC</th>\n",
       "      <th>FM</th>\n",
       "      <th>UC</th>\n",
       "      <th>DL</th>\n",
       "      <th>DS</th>\n",
       "      <th>DP</th>\n",
       "      <th>ASTV</th>\n",
       "      <th>MSTV</th>\n",
       "      <th>ALTV</th>\n",
       "      <th>...</th>\n",
       "      <th>Width</th>\n",
       "      <th>Min</th>\n",
       "      <th>Max</th>\n",
       "      <th>Nmax</th>\n",
       "      <th>Nzeros</th>\n",
       "      <th>Mode</th>\n",
       "      <th>Mean</th>\n",
       "      <th>Median</th>\n",
       "      <th>Variance</th>\n",
       "      <th>Tendency</th>\n",
       "    </tr>\n",
       "  </thead>\n",
       "  <tbody>\n",
       "    <tr>\n",
       "      <th>790</th>\n",
       "      <td>123</td>\n",
       "      <td>2</td>\n",
       "      <td>3</td>\n",
       "      <td>0</td>\n",
       "      <td>0</td>\n",
       "      <td>0</td>\n",
       "      <td>0</td>\n",
       "      <td>50</td>\n",
       "      <td>0.9</td>\n",
       "      <td>4</td>\n",
       "      <td>...</td>\n",
       "      <td>82</td>\n",
       "      <td>58</td>\n",
       "      <td>140</td>\n",
       "      <td>7</td>\n",
       "      <td>0</td>\n",
       "      <td>129</td>\n",
       "      <td>128</td>\n",
       "      <td>130</td>\n",
       "      <td>5</td>\n",
       "      <td>1</td>\n",
       "    </tr>\n",
       "    <tr>\n",
       "      <th>1419</th>\n",
       "      <td>142</td>\n",
       "      <td>5</td>\n",
       "      <td>0</td>\n",
       "      <td>4</td>\n",
       "      <td>0</td>\n",
       "      <td>0</td>\n",
       "      <td>0</td>\n",
       "      <td>42</td>\n",
       "      <td>1.0</td>\n",
       "      <td>0</td>\n",
       "      <td>...</td>\n",
       "      <td>61</td>\n",
       "      <td>106</td>\n",
       "      <td>167</td>\n",
       "      <td>2</td>\n",
       "      <td>0</td>\n",
       "      <td>150</td>\n",
       "      <td>149</td>\n",
       "      <td>151</td>\n",
       "      <td>3</td>\n",
       "      <td>1</td>\n",
       "    </tr>\n",
       "    <tr>\n",
       "      <th>1355</th>\n",
       "      <td>132</td>\n",
       "      <td>1</td>\n",
       "      <td>0</td>\n",
       "      <td>3</td>\n",
       "      <td>3</td>\n",
       "      <td>0</td>\n",
       "      <td>0</td>\n",
       "      <td>24</td>\n",
       "      <td>1.5</td>\n",
       "      <td>0</td>\n",
       "      <td>...</td>\n",
       "      <td>77</td>\n",
       "      <td>76</td>\n",
       "      <td>153</td>\n",
       "      <td>5</td>\n",
       "      <td>2</td>\n",
       "      <td>140</td>\n",
       "      <td>133</td>\n",
       "      <td>137</td>\n",
       "      <td>17</td>\n",
       "      <td>1</td>\n",
       "    </tr>\n",
       "    <tr>\n",
       "      <th>785</th>\n",
       "      <td>117</td>\n",
       "      <td>1</td>\n",
       "      <td>16</td>\n",
       "      <td>0</td>\n",
       "      <td>0</td>\n",
       "      <td>0</td>\n",
       "      <td>0</td>\n",
       "      <td>53</td>\n",
       "      <td>0.7</td>\n",
       "      <td>8</td>\n",
       "      <td>...</td>\n",
       "      <td>77</td>\n",
       "      <td>56</td>\n",
       "      <td>133</td>\n",
       "      <td>6</td>\n",
       "      <td>0</td>\n",
       "      <td>123</td>\n",
       "      <td>121</td>\n",
       "      <td>123</td>\n",
       "      <td>3</td>\n",
       "      <td>1</td>\n",
       "    </tr>\n",
       "    <tr>\n",
       "      <th>1256</th>\n",
       "      <td>118</td>\n",
       "      <td>1</td>\n",
       "      <td>0</td>\n",
       "      <td>7</td>\n",
       "      <td>1</td>\n",
       "      <td>0</td>\n",
       "      <td>0</td>\n",
       "      <td>25</td>\n",
       "      <td>1.3</td>\n",
       "      <td>0</td>\n",
       "      <td>...</td>\n",
       "      <td>61</td>\n",
       "      <td>89</td>\n",
       "      <td>150</td>\n",
       "      <td>5</td>\n",
       "      <td>0</td>\n",
       "      <td>120</td>\n",
       "      <td>119</td>\n",
       "      <td>120</td>\n",
       "      <td>6</td>\n",
       "      <td>0</td>\n",
       "    </tr>\n",
       "  </tbody>\n",
       "</table>\n",
       "<p>5 rows × 21 columns</p>\n",
       "</div>"
      ],
      "text/plain": [
       "       LB  AC  FM  UC  DL  DS  DP  ASTV  MSTV  ALTV  ...  Width  Min  Max  \\\n",
       "790   123   2   3   0   0   0   0    50   0.9     4  ...     82   58  140   \n",
       "1419  142   5   0   4   0   0   0    42   1.0     0  ...     61  106  167   \n",
       "1355  132   1   0   3   3   0   0    24   1.5     0  ...     77   76  153   \n",
       "785   117   1  16   0   0   0   0    53   0.7     8  ...     77   56  133   \n",
       "1256  118   1   0   7   1   0   0    25   1.3     0  ...     61   89  150   \n",
       "\n",
       "      Nmax  Nzeros  Mode  Mean  Median  Variance  Tendency  \n",
       "790      7       0   129   128     130         5         1  \n",
       "1419     2       0   150   149     151         3         1  \n",
       "1355     5       2   140   133     137        17         1  \n",
       "785      6       0   123   121     123         3         1  \n",
       "1256     5       0   120   119     120         6         0  \n",
       "\n",
       "[5 rows x 21 columns]"
      ]
     },
     "execution_count": 279,
     "metadata": {},
     "output_type": "execute_result"
    }
   ],
   "source": [
    "# Columns to be considered in the dataset\n",
    "columns = [\"LB\", \"AC\", \"FM\", \"UC\", \"DL\", \"DS\", \"DP\", \n",
    "           \"ASTV\", \"MSTV\", \"ALTV\", \"MLTV\", \"Width\", \"Min\", \n",
    "           \"Max\", \"Nmax\", \"Nzeros\", \"Mode\", \"Mean\", \"Median\", \"Variance\", \"Tendency\"]\n",
    "\n",
    "#Prepare X and y\n",
    "X = df[columns]\n",
    "y1 = df[\"NSP\"]\n",
    "y2 = df[\"CLASS\"]\n",
    "X.head()\n",
    "\n"
   ]
  },
  {
   "cell_type": "code",
   "execution_count": 280,
   "metadata": {},
   "outputs": [
    {
     "name": "stdout",
     "output_type": "stream",
     "text": [
      "(2126, 21)\n",
      "(2126,)\n"
     ]
    }
   ],
   "source": [
    "print(X.shape)\n",
    "print(y1.shape)\n"
   ]
  },
  {
   "cell_type": "markdown",
   "metadata": {},
   "source": [
    "# Standardization \n"
   ]
  },
  {
   "cell_type": "code",
   "execution_count": 281,
   "metadata": {},
   "outputs": [
    {
     "data": {
      "text/html": [
       "<div>\n",
       "<style scoped>\n",
       "    .dataframe tbody tr th:only-of-type {\n",
       "        vertical-align: middle;\n",
       "    }\n",
       "\n",
       "    .dataframe tbody tr th {\n",
       "        vertical-align: top;\n",
       "    }\n",
       "\n",
       "    .dataframe thead th {\n",
       "        text-align: right;\n",
       "    }\n",
       "</style>\n",
       "<table border=\"1\" class=\"dataframe\">\n",
       "  <thead>\n",
       "    <tr style=\"text-align: right;\">\n",
       "      <th></th>\n",
       "      <th>LB</th>\n",
       "      <th>AC</th>\n",
       "      <th>FM</th>\n",
       "      <th>UC</th>\n",
       "      <th>DL</th>\n",
       "      <th>DS</th>\n",
       "      <th>DP</th>\n",
       "      <th>ASTV</th>\n",
       "      <th>MSTV</th>\n",
       "      <th>ALTV</th>\n",
       "      <th>...</th>\n",
       "      <th>Width</th>\n",
       "      <th>Min</th>\n",
       "      <th>Max</th>\n",
       "      <th>Nmax</th>\n",
       "      <th>Nzeros</th>\n",
       "      <th>Mode</th>\n",
       "      <th>Mean</th>\n",
       "      <th>Median</th>\n",
       "      <th>Variance</th>\n",
       "      <th>Tendency</th>\n",
       "    </tr>\n",
       "  </thead>\n",
       "  <tbody>\n",
       "    <tr>\n",
       "      <th>0</th>\n",
       "      <td>-1.047296</td>\n",
       "      <td>-0.202944</td>\n",
       "      <td>-0.114270</td>\n",
       "      <td>-1.285798</td>\n",
       "      <td>-0.628375</td>\n",
       "      <td>-0.057476</td>\n",
       "      <td>-0.27153</td>\n",
       "      <td>0.175107</td>\n",
       "      <td>-0.490111</td>\n",
       "      <td>-0.317882</td>\n",
       "      <td>...</td>\n",
       "      <td>0.296666</td>\n",
       "      <td>-1.203911</td>\n",
       "      <td>-1.339211</td>\n",
       "      <td>0.994270</td>\n",
       "      <td>-0.458444</td>\n",
       "      <td>-0.516077</td>\n",
       "      <td>-0.424026</td>\n",
       "      <td>-0.559373</td>\n",
       "      <td>-0.476621</td>\n",
       "      <td>1.112980</td>\n",
       "    </tr>\n",
       "    <tr>\n",
       "      <th>1</th>\n",
       "      <td>0.883886</td>\n",
       "      <td>0.639750</td>\n",
       "      <td>-0.195096</td>\n",
       "      <td>0.119475</td>\n",
       "      <td>-0.628375</td>\n",
       "      <td>-0.057476</td>\n",
       "      <td>-0.27153</td>\n",
       "      <td>-0.290313</td>\n",
       "      <td>-0.376865</td>\n",
       "      <td>-0.535361</td>\n",
       "      <td>...</td>\n",
       "      <td>-0.242535</td>\n",
       "      <td>0.420275</td>\n",
       "      <td>0.165809</td>\n",
       "      <td>-0.701397</td>\n",
       "      <td>-0.458444</td>\n",
       "      <td>0.766175</td>\n",
       "      <td>0.922997</td>\n",
       "      <td>0.892590</td>\n",
       "      <td>-0.545656</td>\n",
       "      <td>1.112980</td>\n",
       "    </tr>\n",
       "    <tr>\n",
       "      <th>2</th>\n",
       "      <td>-0.132526</td>\n",
       "      <td>-0.483842</td>\n",
       "      <td>-0.195096</td>\n",
       "      <td>-0.231843</td>\n",
       "      <td>0.572277</td>\n",
       "      <td>-0.057476</td>\n",
       "      <td>-0.27153</td>\n",
       "      <td>-1.337508</td>\n",
       "      <td>0.189365</td>\n",
       "      <td>-0.535361</td>\n",
       "      <td>...</td>\n",
       "      <td>0.168284</td>\n",
       "      <td>-0.594841</td>\n",
       "      <td>-0.614572</td>\n",
       "      <td>0.316003</td>\n",
       "      <td>2.374846</td>\n",
       "      <td>0.155579</td>\n",
       "      <td>-0.103306</td>\n",
       "      <td>-0.075385</td>\n",
       "      <td>-0.062411</td>\n",
       "      <td>1.112980</td>\n",
       "    </tr>\n",
       "    <tr>\n",
       "      <th>3</th>\n",
       "      <td>-1.657144</td>\n",
       "      <td>-0.483842</td>\n",
       "      <td>0.235978</td>\n",
       "      <td>-1.285798</td>\n",
       "      <td>-0.628375</td>\n",
       "      <td>-0.057476</td>\n",
       "      <td>-0.27153</td>\n",
       "      <td>0.349640</td>\n",
       "      <td>-0.716603</td>\n",
       "      <td>-0.100403</td>\n",
       "      <td>...</td>\n",
       "      <td>0.168284</td>\n",
       "      <td>-1.271585</td>\n",
       "      <td>-1.729402</td>\n",
       "      <td>0.655137</td>\n",
       "      <td>-0.458444</td>\n",
       "      <td>-0.882435</td>\n",
       "      <td>-0.873034</td>\n",
       "      <td>-1.043360</td>\n",
       "      <td>-0.545656</td>\n",
       "      <td>1.112980</td>\n",
       "    </tr>\n",
       "    <tr>\n",
       "      <th>4</th>\n",
       "      <td>-1.555502</td>\n",
       "      <td>-0.483842</td>\n",
       "      <td>-0.195096</td>\n",
       "      <td>1.173429</td>\n",
       "      <td>-0.228158</td>\n",
       "      <td>-0.057476</td>\n",
       "      <td>-0.27153</td>\n",
       "      <td>-1.279331</td>\n",
       "      <td>-0.037127</td>\n",
       "      <td>-0.535361</td>\n",
       "      <td>...</td>\n",
       "      <td>-0.242535</td>\n",
       "      <td>-0.154957</td>\n",
       "      <td>-0.781796</td>\n",
       "      <td>0.316003</td>\n",
       "      <td>-0.458444</td>\n",
       "      <td>-1.065614</td>\n",
       "      <td>-1.001322</td>\n",
       "      <td>-1.250783</td>\n",
       "      <td>-0.442103</td>\n",
       "      <td>-0.524526</td>\n",
       "    </tr>\n",
       "  </tbody>\n",
       "</table>\n",
       "<p>5 rows × 21 columns</p>\n",
       "</div>"
      ],
      "text/plain": [
       "         LB        AC        FM        UC        DL        DS       DP  \\\n",
       "0 -1.047296 -0.202944 -0.114270 -1.285798 -0.628375 -0.057476 -0.27153   \n",
       "1  0.883886  0.639750 -0.195096  0.119475 -0.628375 -0.057476 -0.27153   \n",
       "2 -0.132526 -0.483842 -0.195096 -0.231843  0.572277 -0.057476 -0.27153   \n",
       "3 -1.657144 -0.483842  0.235978 -1.285798 -0.628375 -0.057476 -0.27153   \n",
       "4 -1.555502 -0.483842 -0.195096  1.173429 -0.228158 -0.057476 -0.27153   \n",
       "\n",
       "       ASTV      MSTV      ALTV  ...     Width       Min       Max      Nmax  \\\n",
       "0  0.175107 -0.490111 -0.317882  ...  0.296666 -1.203911 -1.339211  0.994270   \n",
       "1 -0.290313 -0.376865 -0.535361  ... -0.242535  0.420275  0.165809 -0.701397   \n",
       "2 -1.337508  0.189365 -0.535361  ...  0.168284 -0.594841 -0.614572  0.316003   \n",
       "3  0.349640 -0.716603 -0.100403  ...  0.168284 -1.271585 -1.729402  0.655137   \n",
       "4 -1.279331 -0.037127 -0.535361  ... -0.242535 -0.154957 -0.781796  0.316003   \n",
       "\n",
       "     Nzeros      Mode      Mean    Median  Variance  Tendency  \n",
       "0 -0.458444 -0.516077 -0.424026 -0.559373 -0.476621  1.112980  \n",
       "1 -0.458444  0.766175  0.922997  0.892590 -0.545656  1.112980  \n",
       "2  2.374846  0.155579 -0.103306 -0.075385 -0.062411  1.112980  \n",
       "3 -0.458444 -0.882435 -0.873034 -1.043360 -0.545656  1.112980  \n",
       "4 -0.458444 -1.065614 -1.001322 -1.250783 -0.442103 -0.524526  \n",
       "\n",
       "[5 rows x 21 columns]"
      ]
     },
     "execution_count": 281,
     "metadata": {},
     "output_type": "execute_result"
    }
   ],
   "source": [
    "# Apply the standar scaler to features\n",
    "sc = StandardScaler()\n",
    "sc.fit(X)\n",
    "X_std = pd.DataFrame(sc.transform(X),columns=columns)\n",
    "X_std.head()"
   ]
  },
  {
   "cell_type": "markdown",
   "metadata": {},
   "source": [
    "Data standardization is used to minimize the difference in the ranges of the features, ensuring the gradient descent moves smoothly towards the minima and that the steps for gradient descent are updated at the same rate for all the features. However, scaling does not significantly affect our accuracy in our case because our features are within the same range (i.e., 0 - 200).  "
   ]
  },
  {
   "cell_type": "markdown",
   "metadata": {},
   "source": [
    "# Outliers"
   ]
  },
  {
   "cell_type": "markdown",
   "metadata": {},
   "source": [
    "We visualize the scaled data using boxplot: "
   ]
  },
  {
   "cell_type": "code",
   "execution_count": 282,
   "metadata": {},
   "outputs": [
    {
     "data": {
      "image/png": "[encoded data removed]",
      "text/plain": [
       "<Figure size 1000x1000 with 1 Axes>"
      ]
     },
     "metadata": {},
     "output_type": "display_data"
    }
   ],
   "source": [
    "fig, ax = plt.subplots(figsize=(10,10))\n",
    "\n",
    "bp = plt.boxplot(X_std,labels=columns,vert=0,patch_artist = True)\n",
    "\n",
    "ax.axvline(3, c = \"red\", linestyle=\"--\", alpha = 0.5)\n",
    "ax.axvline(-3, c = \"red\", linestyle=\"--\", alpha = 0.5)\n",
    "\n",
    "\n",
    "plt.gca().xaxis.grid(True)\n",
    "\n",
    "# source for aestetic improvements: https://www.geeksforgeeks.org/box-plot-in-python-using-matplotlib/\n",
    "for dot in bp['fliers']:\n",
    "    dot.set(marker ='o',\n",
    "              color ='lightgrey',\n",
    "              alpha = 0.5)\n",
    "    "
   ]
  },
  {
   "cell_type": "markdown",
   "metadata": {},
   "source": [
    "We have a lot of outliers deviating the mean of our features. This is a problem we must consider. "
   ]
  },
  {
   "cell_type": "code",
   "execution_count": 283,
   "metadata": {},
   "outputs": [
    {
     "data": {
      "image/png": "[encoded data removed]",
      "text/plain": [
       "<Figure size 1000x500 with 2 Axes>"
      ]
     },
     "metadata": {},
     "output_type": "display_data"
    }
   ],
   "source": [
    "# colormap source: https://stackoverflow.com/questions/64068659/bar-chart-in-matplotlib-using-a-colormap\n",
    "my_cmap = plt.get_cmap(\"coolwarm\")\n",
    "rescale = lambda y: (y - np.min(y)) / (np.max(y) - np.min(y))\n",
    "\n",
    "fig, ax = plt.subplots(1,2,figsize = (10,5))\n",
    "\n",
    "ax[0].bar(df[\"NSP\"].unique(),df.groupby(by=\"NSP\").size(), color=my_cmap(rescale(df[\"NSP\"].unique())))\n",
    "ax[1].bar(df[\"CLASS\"].unique(),df.groupby(by=\"CLASS\").size(),color=my_cmap(rescale(df[\"CLASS\"].unique())))\n",
    "\n",
    "ax[0].set_xticks(np.arange(1,4)) \n",
    "ax[0].set_xticklabels(np.arange(1,4), fontsize=12)\n",
    "ax[0].set_xlabel(\"NSP\")\n",
    "ax[1].set_xticks(np.arange(1,11)) \n",
    "ax[1].set_xticklabels(np.arange(1,11), fontsize=12)\n",
    "ax[1].set_xlabel(\"CLASS\");"
   ]
  },
  {
   "cell_type": "markdown",
   "metadata": {},
   "source": [
    "# Imbalanced Classification"
   ]
  },
  {
   "cell_type": "markdown",
   "metadata": {},
   "source": [
    "The previous graph shows that there is a class imbalance. A way of fixing this is resampling our data. \n",
    "\n",
    "There are two ways of resampling data: \n",
    "    \n",
    "   - **Under-Sampling**: removing some observations of the majority class.\n",
    "   - **Over-Sampling**: adding more copies to the minority class."
   ]
  },
  {
   "cell_type": "markdown",
   "metadata": {},
   "source": [
    "## Under-Sampling"
   ]
  },
  {
   "cell_type": "code",
   "execution_count": null,
   "metadata": {},
   "outputs": [],
   "source": [
    "# class count\n",
    "class_count_1, class_count_2, class_count_3 = df['NSP'].value_counts()\n",
    "\n",
    "print(class_count_1)\n",
    "print(class_count_2)\n",
    "print(class_count_3)\n",
    "\n",
    "# Separate class\n",
    "class_1 = X[df['NSP'] == 1]\n",
    "class_2 = X[df['NSP'] == 2]\n",
    "class_3 = X[df['NSP'] == 3]\n",
    "\n",
    "print('class 1:', class_1.shape)\n",
    "print('class 2:', class_2.shape)\n",
    "print('class 3:', class_3.shape)\n"
   ]
  },
  {
   "cell_type": "code",
   "execution_count": null,
   "metadata": {},
   "outputs": [],
   "source": [
    "# random under-sampling\n",
    "\n",
    "class_1_under = class_1.sample(class_count_2)\n",
    "\n",
    "print('class 1:', class_1_under.shape)\n",
    "print('class 2:', class_2.shape)\n",
    "print('class 3:', class_3.shape)\n"
   ]
  },
  {
   "cell_type": "markdown",
   "metadata": {},
   "source": [
    "## Over-Sampling"
   ]
  },
  {
   "cell_type": "code",
   "execution_count": 287,
   "metadata": {},
   "outputs": [
    {
     "name": "stdout",
     "output_type": "stream",
     "text": [
      "class 1: (1655, 21)\n",
      "class 2: (1655, 21)\n",
      "class 3: (1655, 21)\n"
     ]
    }
   ],
   "source": [
    "# random over-sampling\n",
    "class_2_over = class_2.sample(class_count_1, replace=True)\n",
    "class_3_over = class_2.sample(class_count_1, replace=True)\n",
    "\n",
    "print('class 1:', class_1.shape)\n",
    "print('class 2:', class_2_over.shape)\n",
    "print('class 3:', class_3_over.shape)\n",
    "\n"
   ]
  },
  {
   "cell_type": "code",
   "execution_count": 290,
   "metadata": {},
   "outputs": [
    {
     "name": "stdout",
     "output_type": "stream",
     "text": [
      "X:  (2126, 21)\n",
      "Under-sampled X:  (766, 21)\n",
      "Over-sampled X:  (4965, 21)\n"
     ]
    }
   ],
   "source": [
    "print('X: ', X.shape)\n",
    "\n",
    "X_under = np.concatenate((class_1_under, class_2, class_3))\n",
    "print('Under-sampled X: ', X_under.shape)\n",
    "\n",
    "X_over = np.concatenate((class_1, class_2_over, class_3_over))\n",
    "print('Over-sampled X: ', X_over.shape)\n"
   ]
  },
  {
   "cell_type": "code",
   "execution_count": 295,
   "metadata": {},
   "outputs": [
    {
     "name": "stdout",
     "output_type": "stream",
     "text": [
      "Under-sampled y:  (766,)\n",
      "Over-sampled X:  (4965,)\n"
     ]
    }
   ],
   "source": [
    "# do the same for y1\n",
    "\n",
    "class_1 = y1[df['NSP'] == 1]\n",
    "class_2 = y1[df['NSP'] == 2]\n",
    "class_3 = y1[df['NSP'] == 3]\n",
    "\n",
    "# under-sampling\n",
    "class_1_under = class_1.sample(class_count_2)\n",
    "y1_under = np.concatenate((class_1_under, class_2, class_3))\n",
    "print('Under-sampled y: ', y1_under.shape)\n",
    "\n",
    "# over-sampling\n",
    "class_2_over = class_2.sample(class_count_1, replace=True)\n",
    "class_3_over = class_2.sample(class_count_1, replace=True)\n",
    "y1_over = np.concatenate((class_1, class_2_over, class_3_over))\n",
    "print('Over-sampled X: ', y1_over.shape)\n",
    "\n"
   ]
  },
  {
   "cell_type": "markdown",
   "metadata": {},
   "source": [
    "# Supervised Learning Models \n"
   ]
  },
  {
   "cell_type": "code",
   "execution_count": 206,
   "metadata": {},
   "outputs": [],
   "source": [
    "from sklearn.metrics import confusion_matrix, ConfusionMatrixDisplay, accuracy_score, mean_squared_error\n",
    "\n",
    "class SLClassifiers(): \n",
    "    \n",
    "    \n",
    "    def __init__(self, X, y): \n",
    "        \n",
    "        self.X = X\n",
    "        self.y = y \n",
    "        \n",
    "    \n",
    "    def confusion_matrix(self, y_pred, y_test, target_labels): \n",
    "        \n",
    "        cm = confusion_matrix(y_pred,y_test)\n",
    "        disp = ConfusionMatrixDisplay(confusion_matrix=cm, display_labels=target_labels);\n",
    "        disp.plot();\n",
    "        \n",
    "    \n",
    "    def train_test_split(self): \n",
    "        \n",
    "        X_train, X_test, y_train, y_test = train_test_split(self.X, self.y, train_size=0.8,random_state=35)\n",
    "        \n",
    "        return X_train, X_test, y_train, y_test\n",
    "    \n",
    "        \n",
    "    def decision_tree(self): \n",
    "        \n",
    "        X_train, X_test, y_train, y_test = self.train_test_split()\n",
    "        dt = DecisionTreeClassifier(random_state=35)\n",
    "        dt.fit(X_train,y_train)\n",
    "        y_pred = dt.predict(X_test)\n",
    "        print(\"Decision Tree accuracy: %.2f\" % accuracy_score(y_pred,y_test) )\n",
    "        \n",
    "        #self.confusion_matrix(y_pred, y_test, dt.classes_)\n",
    "        \n",
    "    \n",
    "    def random_forest(self, n_estimators=10, criterion=\"entropy\"): \n",
    "        \n",
    "        X_train, X_test, y_train, y_test = self.train_test_split()\n",
    "        rf = RandomForestClassifier(n_estimators=n_estimators, criterion=criterion)\n",
    "        rf.fit(X_train, y_train)\n",
    "        y_pred = rf.predict(X_test)\n",
    "        \n",
    "        print(\"Random Forest accuracy: %.2f\" % accuracy_score(y_pred,y_test) )\n",
    "        \n",
    "        #self.confusion_matrix(y_pred, y_test, rf.classes_)\n",
    "\n",
    "    \n",
    "    def support_vector_machine(self, kernel = \"linear\", C=10000): \n",
    "       \n",
    "        X_train, X_test, y_train, y_test = self.train_test_split()\n",
    "        svm = SVC(kernel=kernel, C=C)\n",
    "        svm.fit(X_train, y_train)\n",
    "        y_pred = svm.predict(X_test)\n",
    "        print(\"Support Vector Machine accuracy: %.2f\" % accuracy_score(y_test, y_pred))\n",
    "        \n",
    "        #self.confusion_matrix(y_pred, y_test, rf.classes_)\n",
    "        \n",
    "        \n",
    "    def k_nearest_neighbours(self, n=3): \n",
    "    \n",
    "        X_train, X_test, y_train, y_test = self.train_test_split()\n",
    "        knn = KNeighborsClassifier(n_neighbors=n)\n",
    "        knn.fit(X_train, y_train)\n",
    "        knn.predict(X_test)\n",
    "        print(\"K-Nearest Neighbours accuracy: %.2f\" % accuracy_score(y_pred,y_test) )\n",
    "        \n",
    "        \n",
    "    def gaussian_naive_bayes(self):\n",
    "       \n",
    "        X_train, X_test, y_train, y_test = self.train_test_split()\n",
    "        gnb = GaussianNB()\n",
    "        gnb.fit(X_train, y_train);\n",
    "        gnb.predict(X_test)\n",
    "        print(\"Gaussian Naive Bayes accuracy: %.2f\" % accuracy_score(y_pred,y_test) )\n",
    "\n",
    "\n",
    "slc = SLClassifiers(X, y1)\n",
    "\n",
    "    "
   ]
  },
  {
   "cell_type": "markdown",
   "metadata": {},
   "source": [
    "Let us apply all the supervised learning models to our raw data to see how well the classifiers perform.   "
   ]
  },
  {
   "cell_type": "code",
   "execution_count": 207,
   "metadata": {},
   "outputs": [
    {
     "name": "stdout",
     "output_type": "stream",
     "text": [
      "Decision Tree accuracy: 0.92\n",
      "Random Forest accuracy: 0.95\n",
      "Support Vector Machine accuracy: 0.89\n",
      "K-Nearest Neighbours accuracy: 0.92\n",
      "Gaussian Naive Bayes accuracy: 0.92\n"
     ]
    }
   ],
   "source": [
    "dt = slc.decision_tree()\n",
    "rf = slc.random_forest(n_estimators=100)\n",
    "svm = slc.support_vector_machine()\n",
    "knn = slc.k_nearest_neighbours()\n",
    "gnb = slc.gaussian_naive_bayes()"
   ]
  },
  {
   "cell_type": "code",
   "execution_count": 296,
   "metadata": {},
   "outputs": [
    {
     "name": "stdout",
     "output_type": "stream",
     "text": [
      "Decision Tree accuracy: 0.90\n",
      "Random Forest accuracy: 0.88\n",
      "Support Vector Machine accuracy: 0.81\n"
     ]
    },
    {
     "ename": "ValueError",
     "evalue": "Found input variables with inconsistent numbers of samples: [426, 154]",
     "output_type": "error",
     "traceback": [
      "\u001b[0;31m---------------------------------------------------------------------------\u001b[0m",
      "\u001b[0;31mValueError\u001b[0m                                Traceback (most recent call last)",
      "\u001b[0;32m/var/folders/2l/jlrfpp5j0r56d70c3chnnb6m0000gn/T/ipykernel_6337/3622567973.py\u001b[0m in \u001b[0;36m<module>\u001b[0;34m\u001b[0m\n\u001b[1;32m      5\u001b[0m \u001b[0mrf\u001b[0m \u001b[0;34m=\u001b[0m \u001b[0mslc\u001b[0m\u001b[0;34m.\u001b[0m\u001b[0mrandom_forest\u001b[0m\u001b[0;34m(\u001b[0m\u001b[0mn_estimators\u001b[0m\u001b[0;34m=\u001b[0m\u001b[0;36m100\u001b[0m\u001b[0;34m)\u001b[0m\u001b[0;34m\u001b[0m\u001b[0;34m\u001b[0m\u001b[0m\n\u001b[1;32m      6\u001b[0m \u001b[0msvm\u001b[0m \u001b[0;34m=\u001b[0m \u001b[0mslc\u001b[0m\u001b[0;34m.\u001b[0m\u001b[0msupport_vector_machine\u001b[0m\u001b[0;34m(\u001b[0m\u001b[0;34m)\u001b[0m\u001b[0;34m\u001b[0m\u001b[0;34m\u001b[0m\u001b[0m\n\u001b[0;32m----> 7\u001b[0;31m \u001b[0mknn\u001b[0m \u001b[0;34m=\u001b[0m \u001b[0mslc\u001b[0m\u001b[0;34m.\u001b[0m\u001b[0mk_nearest_neighbours\u001b[0m\u001b[0;34m(\u001b[0m\u001b[0;34m)\u001b[0m\u001b[0;34m\u001b[0m\u001b[0;34m\u001b[0m\u001b[0m\n\u001b[0m\u001b[1;32m      8\u001b[0m \u001b[0mgnb\u001b[0m \u001b[0;34m=\u001b[0m \u001b[0mslc\u001b[0m\u001b[0;34m.\u001b[0m\u001b[0mgaussian_naive_bayes\u001b[0m\u001b[0;34m(\u001b[0m\u001b[0;34m)\u001b[0m\u001b[0;34m\u001b[0m\u001b[0;34m\u001b[0m\u001b[0m\n",
      "\u001b[0;32m/var/folders/2l/jlrfpp5j0r56d70c3chnnb6m0000gn/T/ipykernel_6337/2420218322.py\u001b[0m in \u001b[0;36mk_nearest_neighbours\u001b[0;34m(self, n)\u001b[0m\n\u001b[1;32m     58\u001b[0m         \u001b[0mknn\u001b[0m\u001b[0;34m.\u001b[0m\u001b[0mfit\u001b[0m\u001b[0;34m(\u001b[0m\u001b[0mX_train\u001b[0m\u001b[0;34m,\u001b[0m \u001b[0my_train\u001b[0m\u001b[0;34m)\u001b[0m\u001b[0;34m\u001b[0m\u001b[0;34m\u001b[0m\u001b[0m\n\u001b[1;32m     59\u001b[0m         \u001b[0mknn\u001b[0m\u001b[0;34m.\u001b[0m\u001b[0mpredict\u001b[0m\u001b[0;34m(\u001b[0m\u001b[0mX_test\u001b[0m\u001b[0;34m)\u001b[0m\u001b[0;34m\u001b[0m\u001b[0;34m\u001b[0m\u001b[0m\n\u001b[0;32m---> 60\u001b[0;31m         \u001b[0mprint\u001b[0m\u001b[0;34m(\u001b[0m\u001b[0;34m\"K-Nearest Neighbours accuracy: %.2f\"\u001b[0m \u001b[0;34m%\u001b[0m \u001b[0maccuracy_score\u001b[0m\u001b[0;34m(\u001b[0m\u001b[0my_pred\u001b[0m\u001b[0;34m,\u001b[0m\u001b[0my_test\u001b[0m\u001b[0;34m)\u001b[0m \u001b[0;34m)\u001b[0m\u001b[0;34m\u001b[0m\u001b[0;34m\u001b[0m\u001b[0m\n\u001b[0m\u001b[1;32m     61\u001b[0m \u001b[0;34m\u001b[0m\u001b[0m\n\u001b[1;32m     62\u001b[0m     \u001b[0;32mdef\u001b[0m \u001b[0mgaussian_naive_bayes\u001b[0m\u001b[0;34m(\u001b[0m\u001b[0mself\u001b[0m\u001b[0;34m)\u001b[0m\u001b[0;34m:\u001b[0m\u001b[0;34m\u001b[0m\u001b[0;34m\u001b[0m\u001b[0m\n",
      "\u001b[0;32m~/opt/anaconda3/lib/python3.9/site-packages/sklearn/metrics/_classification.py\u001b[0m in \u001b[0;36maccuracy_score\u001b[0;34m(y_true, y_pred, normalize, sample_weight)\u001b[0m\n\u001b[1;32m    209\u001b[0m \u001b[0;34m\u001b[0m\u001b[0m\n\u001b[1;32m    210\u001b[0m     \u001b[0;31m# Compute accuracy for each possible representation\u001b[0m\u001b[0;34m\u001b[0m\u001b[0;34m\u001b[0m\u001b[0m\n\u001b[0;32m--> 211\u001b[0;31m     \u001b[0my_type\u001b[0m\u001b[0;34m,\u001b[0m \u001b[0my_true\u001b[0m\u001b[0;34m,\u001b[0m \u001b[0my_pred\u001b[0m \u001b[0;34m=\u001b[0m \u001b[0m_check_targets\u001b[0m\u001b[0;34m(\u001b[0m\u001b[0my_true\u001b[0m\u001b[0;34m,\u001b[0m \u001b[0my_pred\u001b[0m\u001b[0;34m)\u001b[0m\u001b[0;34m\u001b[0m\u001b[0;34m\u001b[0m\u001b[0m\n\u001b[0m\u001b[1;32m    212\u001b[0m     \u001b[0mcheck_consistent_length\u001b[0m\u001b[0;34m(\u001b[0m\u001b[0my_true\u001b[0m\u001b[0;34m,\u001b[0m \u001b[0my_pred\u001b[0m\u001b[0;34m,\u001b[0m \u001b[0msample_weight\u001b[0m\u001b[0;34m)\u001b[0m\u001b[0;34m\u001b[0m\u001b[0;34m\u001b[0m\u001b[0m\n\u001b[1;32m    213\u001b[0m     \u001b[0;32mif\u001b[0m \u001b[0my_type\u001b[0m\u001b[0;34m.\u001b[0m\u001b[0mstartswith\u001b[0m\u001b[0;34m(\u001b[0m\u001b[0;34m\"multilabel\"\u001b[0m\u001b[0;34m)\u001b[0m\u001b[0;34m:\u001b[0m\u001b[0;34m\u001b[0m\u001b[0;34m\u001b[0m\u001b[0m\n",
      "\u001b[0;32m~/opt/anaconda3/lib/python3.9/site-packages/sklearn/metrics/_classification.py\u001b[0m in \u001b[0;36m_check_targets\u001b[0;34m(y_true, y_pred)\u001b[0m\n\u001b[1;32m     82\u001b[0m     \u001b[0my_pred\u001b[0m \u001b[0;34m:\u001b[0m \u001b[0marray\u001b[0m \u001b[0;32mor\u001b[0m \u001b[0mindicator\u001b[0m \u001b[0mmatrix\u001b[0m\u001b[0;34m\u001b[0m\u001b[0;34m\u001b[0m\u001b[0m\n\u001b[1;32m     83\u001b[0m     \"\"\"\n\u001b[0;32m---> 84\u001b[0;31m     \u001b[0mcheck_consistent_length\u001b[0m\u001b[0;34m(\u001b[0m\u001b[0my_true\u001b[0m\u001b[0;34m,\u001b[0m \u001b[0my_pred\u001b[0m\u001b[0;34m)\u001b[0m\u001b[0;34m\u001b[0m\u001b[0;34m\u001b[0m\u001b[0m\n\u001b[0m\u001b[1;32m     85\u001b[0m     \u001b[0mtype_true\u001b[0m \u001b[0;34m=\u001b[0m \u001b[0mtype_of_target\u001b[0m\u001b[0;34m(\u001b[0m\u001b[0my_true\u001b[0m\u001b[0;34m)\u001b[0m\u001b[0;34m\u001b[0m\u001b[0;34m\u001b[0m\u001b[0m\n\u001b[1;32m     86\u001b[0m     \u001b[0mtype_pred\u001b[0m \u001b[0;34m=\u001b[0m \u001b[0mtype_of_target\u001b[0m\u001b[0;34m(\u001b[0m\u001b[0my_pred\u001b[0m\u001b[0;34m)\u001b[0m\u001b[0;34m\u001b[0m\u001b[0;34m\u001b[0m\u001b[0m\n",
      "\u001b[0;32m~/opt/anaconda3/lib/python3.9/site-packages/sklearn/utils/validation.py\u001b[0m in \u001b[0;36mcheck_consistent_length\u001b[0;34m(*arrays)\u001b[0m\n\u001b[1;32m    330\u001b[0m     \u001b[0muniques\u001b[0m \u001b[0;34m=\u001b[0m \u001b[0mnp\u001b[0m\u001b[0;34m.\u001b[0m\u001b[0munique\u001b[0m\u001b[0;34m(\u001b[0m\u001b[0mlengths\u001b[0m\u001b[0;34m)\u001b[0m\u001b[0;34m\u001b[0m\u001b[0;34m\u001b[0m\u001b[0m\n\u001b[1;32m    331\u001b[0m     \u001b[0;32mif\u001b[0m \u001b[0mlen\u001b[0m\u001b[0;34m(\u001b[0m\u001b[0muniques\u001b[0m\u001b[0;34m)\u001b[0m \u001b[0;34m>\u001b[0m \u001b[0;36m1\u001b[0m\u001b[0;34m:\u001b[0m\u001b[0;34m\u001b[0m\u001b[0;34m\u001b[0m\u001b[0m\n\u001b[0;32m--> 332\u001b[0;31m         raise ValueError(\n\u001b[0m\u001b[1;32m    333\u001b[0m             \u001b[0;34m\"Found input variables with inconsistent numbers of samples: %r\"\u001b[0m\u001b[0;34m\u001b[0m\u001b[0;34m\u001b[0m\u001b[0m\n\u001b[1;32m    334\u001b[0m             \u001b[0;34m%\u001b[0m \u001b[0;34m[\u001b[0m\u001b[0mint\u001b[0m\u001b[0;34m(\u001b[0m\u001b[0ml\u001b[0m\u001b[0;34m)\u001b[0m \u001b[0;32mfor\u001b[0m \u001b[0ml\u001b[0m \u001b[0;32min\u001b[0m \u001b[0mlengths\u001b[0m\u001b[0;34m]\u001b[0m\u001b[0;34m\u001b[0m\u001b[0;34m\u001b[0m\u001b[0m\n",
      "\u001b[0;31mValueError\u001b[0m: Found input variables with inconsistent numbers of samples: [426, 154]"
     ]
    }
   ],
   "source": [
    "# under-sampled data \n",
    "slc = SLClassifiers(X_under, y1_under)\n",
    "\n",
    "dt = slc.decision_tree()\n",
    "rf = slc.random_forest(n_estimators=100)\n",
    "svm = slc.support_vector_machine()\n",
    "knn = slc.k_nearest_neighbours()\n",
    "gnb = slc.gaussian_naive_bayes()"
   ]
  },
  {
   "cell_type": "code",
   "execution_count": 297,
   "metadata": {},
   "outputs": [
    {
     "name": "stdout",
     "output_type": "stream",
     "text": [
      "Decision Tree accuracy: 0.98\n",
      "Random Forest accuracy: 0.99\n",
      "Support Vector Machine accuracy: 0.92\n"
     ]
    },
    {
     "ename": "ValueError",
     "evalue": "Found input variables with inconsistent numbers of samples: [426, 993]",
     "output_type": "error",
     "traceback": [
      "\u001b[0;31m---------------------------------------------------------------------------\u001b[0m",
      "\u001b[0;31mValueError\u001b[0m                                Traceback (most recent call last)",
      "\u001b[0;32m/var/folders/2l/jlrfpp5j0r56d70c3chnnb6m0000gn/T/ipykernel_6337/2604232041.py\u001b[0m in \u001b[0;36m<module>\u001b[0;34m\u001b[0m\n\u001b[1;32m      5\u001b[0m \u001b[0mrf\u001b[0m \u001b[0;34m=\u001b[0m \u001b[0mslc\u001b[0m\u001b[0;34m.\u001b[0m\u001b[0mrandom_forest\u001b[0m\u001b[0;34m(\u001b[0m\u001b[0mn_estimators\u001b[0m\u001b[0;34m=\u001b[0m\u001b[0;36m100\u001b[0m\u001b[0;34m)\u001b[0m\u001b[0;34m\u001b[0m\u001b[0;34m\u001b[0m\u001b[0m\n\u001b[1;32m      6\u001b[0m \u001b[0msvm\u001b[0m \u001b[0;34m=\u001b[0m \u001b[0mslc\u001b[0m\u001b[0;34m.\u001b[0m\u001b[0msupport_vector_machine\u001b[0m\u001b[0;34m(\u001b[0m\u001b[0;34m)\u001b[0m\u001b[0;34m\u001b[0m\u001b[0;34m\u001b[0m\u001b[0m\n\u001b[0;32m----> 7\u001b[0;31m \u001b[0mknn\u001b[0m \u001b[0;34m=\u001b[0m \u001b[0mslc\u001b[0m\u001b[0;34m.\u001b[0m\u001b[0mk_nearest_neighbours\u001b[0m\u001b[0;34m(\u001b[0m\u001b[0;34m)\u001b[0m\u001b[0;34m\u001b[0m\u001b[0;34m\u001b[0m\u001b[0m\n\u001b[0m\u001b[1;32m      8\u001b[0m \u001b[0mgnb\u001b[0m \u001b[0;34m=\u001b[0m \u001b[0mslc\u001b[0m\u001b[0;34m.\u001b[0m\u001b[0mgaussian_naive_bayes\u001b[0m\u001b[0;34m(\u001b[0m\u001b[0;34m)\u001b[0m\u001b[0;34m\u001b[0m\u001b[0;34m\u001b[0m\u001b[0m\n",
      "\u001b[0;32m/var/folders/2l/jlrfpp5j0r56d70c3chnnb6m0000gn/T/ipykernel_6337/2420218322.py\u001b[0m in \u001b[0;36mk_nearest_neighbours\u001b[0;34m(self, n)\u001b[0m\n\u001b[1;32m     58\u001b[0m         \u001b[0mknn\u001b[0m\u001b[0;34m.\u001b[0m\u001b[0mfit\u001b[0m\u001b[0;34m(\u001b[0m\u001b[0mX_train\u001b[0m\u001b[0;34m,\u001b[0m \u001b[0my_train\u001b[0m\u001b[0;34m)\u001b[0m\u001b[0;34m\u001b[0m\u001b[0;34m\u001b[0m\u001b[0m\n\u001b[1;32m     59\u001b[0m         \u001b[0mknn\u001b[0m\u001b[0;34m.\u001b[0m\u001b[0mpredict\u001b[0m\u001b[0;34m(\u001b[0m\u001b[0mX_test\u001b[0m\u001b[0;34m)\u001b[0m\u001b[0;34m\u001b[0m\u001b[0;34m\u001b[0m\u001b[0m\n\u001b[0;32m---> 60\u001b[0;31m         \u001b[0mprint\u001b[0m\u001b[0;34m(\u001b[0m\u001b[0;34m\"K-Nearest Neighbours accuracy: %.2f\"\u001b[0m \u001b[0;34m%\u001b[0m \u001b[0maccuracy_score\u001b[0m\u001b[0;34m(\u001b[0m\u001b[0my_pred\u001b[0m\u001b[0;34m,\u001b[0m\u001b[0my_test\u001b[0m\u001b[0;34m)\u001b[0m \u001b[0;34m)\u001b[0m\u001b[0;34m\u001b[0m\u001b[0;34m\u001b[0m\u001b[0m\n\u001b[0m\u001b[1;32m     61\u001b[0m \u001b[0;34m\u001b[0m\u001b[0m\n\u001b[1;32m     62\u001b[0m     \u001b[0;32mdef\u001b[0m \u001b[0mgaussian_naive_bayes\u001b[0m\u001b[0;34m(\u001b[0m\u001b[0mself\u001b[0m\u001b[0;34m)\u001b[0m\u001b[0;34m:\u001b[0m\u001b[0;34m\u001b[0m\u001b[0;34m\u001b[0m\u001b[0m\n",
      "\u001b[0;32m~/opt/anaconda3/lib/python3.9/site-packages/sklearn/metrics/_classification.py\u001b[0m in \u001b[0;36maccuracy_score\u001b[0;34m(y_true, y_pred, normalize, sample_weight)\u001b[0m\n\u001b[1;32m    209\u001b[0m \u001b[0;34m\u001b[0m\u001b[0m\n\u001b[1;32m    210\u001b[0m     \u001b[0;31m# Compute accuracy for each possible representation\u001b[0m\u001b[0;34m\u001b[0m\u001b[0;34m\u001b[0m\u001b[0m\n\u001b[0;32m--> 211\u001b[0;31m     \u001b[0my_type\u001b[0m\u001b[0;34m,\u001b[0m \u001b[0my_true\u001b[0m\u001b[0;34m,\u001b[0m \u001b[0my_pred\u001b[0m \u001b[0;34m=\u001b[0m \u001b[0m_check_targets\u001b[0m\u001b[0;34m(\u001b[0m\u001b[0my_true\u001b[0m\u001b[0;34m,\u001b[0m \u001b[0my_pred\u001b[0m\u001b[0;34m)\u001b[0m\u001b[0;34m\u001b[0m\u001b[0;34m\u001b[0m\u001b[0m\n\u001b[0m\u001b[1;32m    212\u001b[0m     \u001b[0mcheck_consistent_length\u001b[0m\u001b[0;34m(\u001b[0m\u001b[0my_true\u001b[0m\u001b[0;34m,\u001b[0m \u001b[0my_pred\u001b[0m\u001b[0;34m,\u001b[0m \u001b[0msample_weight\u001b[0m\u001b[0;34m)\u001b[0m\u001b[0;34m\u001b[0m\u001b[0;34m\u001b[0m\u001b[0m\n\u001b[1;32m    213\u001b[0m     \u001b[0;32mif\u001b[0m \u001b[0my_type\u001b[0m\u001b[0;34m.\u001b[0m\u001b[0mstartswith\u001b[0m\u001b[0;34m(\u001b[0m\u001b[0;34m\"multilabel\"\u001b[0m\u001b[0;34m)\u001b[0m\u001b[0;34m:\u001b[0m\u001b[0;34m\u001b[0m\u001b[0;34m\u001b[0m\u001b[0m\n",
      "\u001b[0;32m~/opt/anaconda3/lib/python3.9/site-packages/sklearn/metrics/_classification.py\u001b[0m in \u001b[0;36m_check_targets\u001b[0;34m(y_true, y_pred)\u001b[0m\n\u001b[1;32m     82\u001b[0m     \u001b[0my_pred\u001b[0m \u001b[0;34m:\u001b[0m \u001b[0marray\u001b[0m \u001b[0;32mor\u001b[0m \u001b[0mindicator\u001b[0m \u001b[0mmatrix\u001b[0m\u001b[0;34m\u001b[0m\u001b[0;34m\u001b[0m\u001b[0m\n\u001b[1;32m     83\u001b[0m     \"\"\"\n\u001b[0;32m---> 84\u001b[0;31m     \u001b[0mcheck_consistent_length\u001b[0m\u001b[0;34m(\u001b[0m\u001b[0my_true\u001b[0m\u001b[0;34m,\u001b[0m \u001b[0my_pred\u001b[0m\u001b[0;34m)\u001b[0m\u001b[0;34m\u001b[0m\u001b[0;34m\u001b[0m\u001b[0m\n\u001b[0m\u001b[1;32m     85\u001b[0m     \u001b[0mtype_true\u001b[0m \u001b[0;34m=\u001b[0m \u001b[0mtype_of_target\u001b[0m\u001b[0;34m(\u001b[0m\u001b[0my_true\u001b[0m\u001b[0;34m)\u001b[0m\u001b[0;34m\u001b[0m\u001b[0;34m\u001b[0m\u001b[0m\n\u001b[1;32m     86\u001b[0m     \u001b[0mtype_pred\u001b[0m \u001b[0;34m=\u001b[0m \u001b[0mtype_of_target\u001b[0m\u001b[0;34m(\u001b[0m\u001b[0my_pred\u001b[0m\u001b[0;34m)\u001b[0m\u001b[0;34m\u001b[0m\u001b[0;34m\u001b[0m\u001b[0m\n",
      "\u001b[0;32m~/opt/anaconda3/lib/python3.9/site-packages/sklearn/utils/validation.py\u001b[0m in \u001b[0;36mcheck_consistent_length\u001b[0;34m(*arrays)\u001b[0m\n\u001b[1;32m    330\u001b[0m     \u001b[0muniques\u001b[0m \u001b[0;34m=\u001b[0m \u001b[0mnp\u001b[0m\u001b[0;34m.\u001b[0m\u001b[0munique\u001b[0m\u001b[0;34m(\u001b[0m\u001b[0mlengths\u001b[0m\u001b[0;34m)\u001b[0m\u001b[0;34m\u001b[0m\u001b[0;34m\u001b[0m\u001b[0m\n\u001b[1;32m    331\u001b[0m     \u001b[0;32mif\u001b[0m \u001b[0mlen\u001b[0m\u001b[0;34m(\u001b[0m\u001b[0muniques\u001b[0m\u001b[0;34m)\u001b[0m \u001b[0;34m>\u001b[0m \u001b[0;36m1\u001b[0m\u001b[0;34m:\u001b[0m\u001b[0;34m\u001b[0m\u001b[0;34m\u001b[0m\u001b[0m\n\u001b[0;32m--> 332\u001b[0;31m         raise ValueError(\n\u001b[0m\u001b[1;32m    333\u001b[0m             \u001b[0;34m\"Found input variables with inconsistent numbers of samples: %r\"\u001b[0m\u001b[0;34m\u001b[0m\u001b[0;34m\u001b[0m\u001b[0m\n\u001b[1;32m    334\u001b[0m             \u001b[0;34m%\u001b[0m \u001b[0;34m[\u001b[0m\u001b[0mint\u001b[0m\u001b[0;34m(\u001b[0m\u001b[0ml\u001b[0m\u001b[0;34m)\u001b[0m \u001b[0;32mfor\u001b[0m \u001b[0ml\u001b[0m \u001b[0;32min\u001b[0m \u001b[0mlengths\u001b[0m\u001b[0;34m]\u001b[0m\u001b[0;34m\u001b[0m\u001b[0;34m\u001b[0m\u001b[0m\n",
      "\u001b[0;31mValueError\u001b[0m: Found input variables with inconsistent numbers of samples: [426, 993]"
     ]
    }
   ],
   "source": [
    "# over-sampled data\n",
    "slc = SLClassifiers(X_over, y1_over)\n",
    "\n",
    "dt = slc.decision_tree()\n",
    "rf = slc.random_forest(n_estimators=100)\n",
    "svm = slc.support_vector_machine()\n",
    "knn = slc.k_nearest_neighbours()\n",
    "gnb = slc.gaussian_naive_bayes()\n"
   ]
  },
  {
   "cell_type": "markdown",
   "metadata": {},
   "source": [
    "# Unsupervised Learning Models"
   ]
  },
  {
   "cell_type": "code",
   "execution_count": 239,
   "metadata": {},
   "outputs": [],
   "source": [
    "class ULClassifiers():\n",
    "    \n",
    "    def __init__(self, X, y): \n",
    "\n",
    "        self.X = X\n",
    "        self.y = y \n",
    "        \n",
    "        \n",
    "    def mask(self, clusters): \n",
    "        \n",
    "        labels = np.zeros_like(clusters)\n",
    "\n",
    "        for i in range(3): \n",
    "            mask = (clusters == i)\n",
    "            labels[mask] = mode(y1[mask])[0]\n",
    "        \n",
    "        return labels\n",
    "    \n",
    "    \n",
    "    def PCA(self, n=2): \n",
    "        \n",
    "        pca = PCA(n_components=n)\n",
    "        pca.fit(X)\n",
    "        X_pca = pca.transform(X)\n",
    "        \n",
    "        return X_pca\n",
    "\n",
    "    \n",
    "    def gaussian_mixture_models(self, n=3):\n",
    "        \n",
    "        gmm = GaussianMixture(n_components=n).fit(X)\n",
    "        clusters = gmm.predict(self.X)\n",
    "        labels = self.mask(clusters)\n",
    "        print(\"Gaussian Mixture Models accuracy: %.2f\" % accuracy_score(self.y, labels))\n",
    "        \n",
    "    \n",
    "    def k_means(self, n=3, rs=0):\n",
    "    \n",
    "        km = KMeans(n_clusters=n, random_state=rs)\n",
    "        clusters = km.fit_predict(self.X)\n",
    "        labels = self.mask(clusters)\n",
    "        print(\"k Means accuracy: %.2f\" % accuracy_score(self.y, labels))\n",
    "        \n",
    "\n",
    "ulc = ULClassifiers(X, y1)"
   ]
  },
  {
   "cell_type": "markdown",
   "metadata": {},
   "source": [
    "Let us apply all the supervised learning models to our raw data to see how well the classifiers perform. "
   ]
  },
  {
   "cell_type": "code",
   "execution_count": 238,
   "metadata": {},
   "outputs": [
    {
     "name": "stdout",
     "output_type": "stream",
     "text": [
      "Gaussian Mixture Models accuracy: 0.78\n",
      "k Means accuracy: 0.78\n"
     ]
    }
   ],
   "source": [
    "gmm = ulc.gaussian_mixture_models()\n",
    "km = ulc.k_means()"
   ]
  },
  {
   "cell_type": "markdown",
   "metadata": {},
   "source": [
    "# NEURAL NETWORKS"
   ]
  },
  {
   "cell_type": "code",
   "execution_count": 252,
   "metadata": {},
   "outputs": [],
   "source": [
    "#helpful functions \n",
    "\n",
    "# Convert a Pandas dataframe to the x,y inputs that TensorFlow needs\n",
    "def to_xy(df, target):\n",
    "    result = []\n",
    "    for x in df.columns:\n",
    "        if x != target:\n",
    "            result.append(x)\n",
    "    # find out the type of the target column.  \n",
    "    target_type = df[target].dtypes\n",
    "    target_type = target_type[0] if hasattr(\n",
    "        target_type, '__iter__') else target_type\n",
    "    # Encode to int for classification, float otherwise. TensorFlow likes 32 bits.\n",
    "    if target_type in (np.int64, np.int32):\n",
    "        # Classification\n",
    "        dummies = pd.get_dummies(df[target])\n",
    "        return df[result].values.astype(np.float32), dummies.values.astype(np.float32)\n",
    "    # Regression\n",
    "    return df[result].values.astype(np.float32), df[[target]].values.astype(np.float32)"
   ]
  },
  {
   "cell_type": "code",
   "execution_count": 267,
   "metadata": {},
   "outputs": [
    {
     "name": "stdout",
     "output_type": "stream",
     "text": [
      "(2126, 3)\n",
      "(2126, 3, 2)\n"
     ]
    }
   ],
   "source": [
    "X,y = to_xy(df, 'NSP')\n",
    "\n",
    "print(y.shape)\n",
    "\n",
    "#encode the target labels in binary\n",
    "y_encoded = to_categorical(y, dtype =\"uint8\")\n",
    "print(y_encoded.shape)\n"
   ]
  },
  {
   "cell_type": "code",
   "execution_count": 268,
   "metadata": {},
   "outputs": [
    {
     "name": "stdout",
     "output_type": "stream",
     "text": [
      "Model: \"sequential_4\"\n",
      "_________________________________________________________________\n",
      " Layer (type)                Output Shape              Param #   \n",
      "=================================================================\n",
      " dense_8 (Dense)             (None, 4)                 184       \n",
      "                                                                 \n",
      " dense_9 (Dense)             (None, 3)                 15        \n",
      "                                                                 \n",
      "=================================================================\n",
      "Total params: 199\n",
      "Trainable params: 199\n",
      "Non-trainable params: 0\n",
      "_________________________________________________________________\n"
     ]
    }
   ],
   "source": [
    "X_train, X_test, y_train, y_test = train_test_split(X, y, test_size=0.25, random_state=0)\n",
    "\n",
    "model = Sequential()\n",
    "model.add(Dense(4, input_shape=X[1].shape, activation='sigmoid')) # Hidden 1\n",
    "model.add(Dense(y_encoded.shape[1], activation='softmax')) # Output\n",
    "model.summary() #note, only works if input shape specified, or Input layer given"
   ]
  },
  {
   "cell_type": "code",
   "execution_count": 269,
   "metadata": {},
   "outputs": [
    {
     "name": "stdout",
     "output_type": "stream",
     "text": [
      "Epoch 1/10\n",
      "50/50 - 0s - loss: nan - 438ms/epoch - 9ms/step\n",
      "Epoch 2/10\n",
      "50/50 - 0s - loss: nan - 133ms/epoch - 3ms/step\n",
      "Epoch 3/10\n",
      "50/50 - 0s - loss: nan - 187ms/epoch - 4ms/step\n",
      "Epoch 4/10\n",
      "50/50 - 0s - loss: nan - 92ms/epoch - 2ms/step\n",
      "Epoch 5/10\n",
      "50/50 - 0s - loss: nan - 85ms/epoch - 2ms/step\n",
      "Epoch 6/10\n",
      "50/50 - 0s - loss: nan - 79ms/epoch - 2ms/step\n",
      "Epoch 7/10\n",
      "50/50 - 0s - loss: nan - 94ms/epoch - 2ms/step\n",
      "Epoch 8/10\n",
      "50/50 - 0s - loss: nan - 81ms/epoch - 2ms/step\n",
      "Epoch 9/10\n",
      "50/50 - 0s - loss: nan - 83ms/epoch - 2ms/step\n",
      "Epoch 10/10\n",
      "50/50 - 0s - loss: nan - 81ms/epoch - 2ms/step\n",
      "17/17 [==============================] - 0s 2ms/step\n",
      "Accuracy score: 0.7800751879699248\n"
     ]
    }
   ],
   "source": [
    "# train and test\n",
    "\n",
    "model.compile(loss='categorical_crossentropy', optimizer='adam')\n",
    "model.fit(X_train,y_train,verbose=2,epochs=10)\n",
    "\n",
    "pred = model.predict(X_test)\n",
    "pred = np.argmax(pred,axis=1)\n",
    "y_compare = np.argmax(y_test,axis=1) \n",
    "score = accuracy_score(y_compare, pred)\n",
    "print(\"Accuracy score: {}\".format(score))"
   ]
  },
  {
   "cell_type": "code",
   "execution_count": null,
   "metadata": {},
   "outputs": [],
   "source": []
  }
 ],
 "metadata": {
  "kernelspec": {
   "display_name": "Python 3 (ipykernel)",
   "language": "python",
   "name": "python3"
  },
  "language_info": {
   "codemirror_mode": {
    "name": "ipython",
    "version": 3
   },
   "file_extension": ".py",
   "mimetype": "text/x-python",
   "name": "python",
   "nbconvert_exporter": "python",
   "pygments_lexer": "ipython3",
   "version": "3.9.12"
  },
  "vscode": {
   "interpreter": {
    "hash": "aee8b7b246df8f9039afb4144a1f6fd8d2ca17a180786b69acc140d282b71a49"
   }
  }
 },
 "nbformat": 4,
 "nbformat_minor": 2
}
