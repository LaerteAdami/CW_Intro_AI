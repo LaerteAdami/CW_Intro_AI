{
 "cells": [
  {
   "cell_type": "markdown",
   "metadata": {},
   "source": [
    "# Layout\n",
    "\n",
    "   - We do a preliminary analysis of our data and find: \n",
    "\n",
    "    - **problem 1**: one of the classes is more significant than the rest. \n",
    "\n",
    "    - **problem 2**: we have many outliers\n",
    "    \n",
    "\n",
    "   - To study **problem 1** we will apply the **supervised learning models** seen in class: \n",
    "\n",
    "    - Decision Trees + Random Forest (related)\n",
    "    - SVM  \n",
    "    - k-Nearest Neighbours \n",
    "    - Naïve Bayes \n",
    "    - Linear Regression \n",
    "    - *NOT* perceptron since we are going to use NN later\n",
    "\n",
    "    **Premise**: how does PCA and standardisation affect the accuracy of the classifying models. \n",
    "    \n",
    "\n",
    "   - To study **problem 2** we will apply the **unsupervised learning models** seen in class: \n",
    "\n",
    "    - K-means \n",
    "    - GMM\n",
    "\n",
    "    **Premise**: GMM should a priori fix the problem of the difference in class sizes. \n",
    "\n",
    "\n",
    "\n",
    "   - After we have optimized our models, we compare these models' performances with a **Neural Network**: \n",
    "\n",
    "    **Premise**: Neural Networks should allow a higher accuracy score than the supervised and unsupervised learning models. \n",
    "\n",
    "\n",
    "   - Ways of cleaning data: \n",
    "\n",
    "    - PCA\n",
    "    - standardisation \n",
    "    - normalisation\n",
    "\n",
    "\n",
    "   - Ways of evaluating models: \n",
    "\n",
    "    - confusion matrices\n",
    "    - accuracy score\n",
    "    - associated plots "
   ]
  },
  {
   "cell_type": "markdown",
   "metadata": {},
   "source": [
    "# First analysis"
   ]
  },
  {
   "cell_type": "markdown",
   "metadata": {},
   "source": [
    "We import useful packages"
   ]
  },
  {
   "cell_type": "code",
   "execution_count": 47,
   "metadata": {},
   "outputs": [],
   "source": [
    "#basics\n",
    "import pandas as pd\n",
    "import matplotlib.pyplot as plt\n",
    "import numpy as np\n",
    "import math\n",
    "\n",
    "#sklearn\n",
    "from sklearn.preprocessing import StandardScaler\n",
    "from sklearn.model_selection import train_test_split\n",
    "from sklearn.metrics import confusion_matrix, ConfusionMatrixDisplay, accuracy_score, mean_squared_error\n",
    "from sklearn.decomposition import PCA\n",
    "\n",
    "#supervised learning \n",
    "from sklearn.tree import DecisionTreeClassifier \n",
    "from sklearn.ensemble import RandomForestClassifier"
   ]
  },
  {
   "cell_type": "markdown",
   "metadata": {},
   "source": [
    "We import the data "
   ]
  },
  {
   "cell_type": "code",
   "execution_count": 5,
   "metadata": {},
   "outputs": [
    {
     "data": {
      "text/html": [
       "<div>\n",
       "<style scoped>\n",
       "    .dataframe tbody tr th:only-of-type {\n",
       "        vertical-align: middle;\n",
       "    }\n",
       "\n",
       "    .dataframe tbody tr th {\n",
       "        vertical-align: top;\n",
       "    }\n",
       "\n",
       "    .dataframe thead th {\n",
       "        text-align: right;\n",
       "    }\n",
       "</style>\n",
       "<table border=\"1\" class=\"dataframe\">\n",
       "  <thead>\n",
       "    <tr style=\"text-align: right;\">\n",
       "      <th></th>\n",
       "      <th>b</th>\n",
       "      <th>e</th>\n",
       "      <th>AC</th>\n",
       "      <th>FM</th>\n",
       "      <th>UC</th>\n",
       "      <th>DL</th>\n",
       "      <th>DS</th>\n",
       "      <th>DP</th>\n",
       "      <th>DR</th>\n",
       "      <th>Unnamed: 9</th>\n",
       "      <th>...</th>\n",
       "      <th>E</th>\n",
       "      <th>AD</th>\n",
       "      <th>DE</th>\n",
       "      <th>LD</th>\n",
       "      <th>FS</th>\n",
       "      <th>SUSP</th>\n",
       "      <th>Unnamed: 42</th>\n",
       "      <th>CLASS</th>\n",
       "      <th>Unnamed: 44</th>\n",
       "      <th>NSP</th>\n",
       "    </tr>\n",
       "  </thead>\n",
       "  <tbody>\n",
       "    <tr>\n",
       "      <th>1529</th>\n",
       "      <td>2161</td>\n",
       "      <td>3337</td>\n",
       "      <td>2</td>\n",
       "      <td>0</td>\n",
       "      <td>7</td>\n",
       "      <td>0</td>\n",
       "      <td>0</td>\n",
       "      <td>0</td>\n",
       "      <td>0</td>\n",
       "      <td>NaN</td>\n",
       "      <td>...</td>\n",
       "      <td>-1</td>\n",
       "      <td>-1</td>\n",
       "      <td>-1</td>\n",
       "      <td>-1</td>\n",
       "      <td>-1</td>\n",
       "      <td>-1</td>\n",
       "      <td>NaN</td>\n",
       "      <td>2</td>\n",
       "      <td>NaN</td>\n",
       "      <td>1</td>\n",
       "    </tr>\n",
       "    <tr>\n",
       "      <th>368</th>\n",
       "      <td>0</td>\n",
       "      <td>364</td>\n",
       "      <td>0</td>\n",
       "      <td>3</td>\n",
       "      <td>1</td>\n",
       "      <td>0</td>\n",
       "      <td>0</td>\n",
       "      <td>0</td>\n",
       "      <td>0</td>\n",
       "      <td>NaN</td>\n",
       "      <td>...</td>\n",
       "      <td>-1</td>\n",
       "      <td>-1</td>\n",
       "      <td>-1</td>\n",
       "      <td>-1</td>\n",
       "      <td>-1</td>\n",
       "      <td>1</td>\n",
       "      <td>NaN</td>\n",
       "      <td>10</td>\n",
       "      <td>NaN</td>\n",
       "      <td>2</td>\n",
       "    </tr>\n",
       "    <tr>\n",
       "      <th>954</th>\n",
       "      <td>1864</td>\n",
       "      <td>2859</td>\n",
       "      <td>0</td>\n",
       "      <td>0</td>\n",
       "      <td>7</td>\n",
       "      <td>4</td>\n",
       "      <td>0</td>\n",
       "      <td>0</td>\n",
       "      <td>0</td>\n",
       "      <td>NaN</td>\n",
       "      <td>...</td>\n",
       "      <td>-1</td>\n",
       "      <td>-1</td>\n",
       "      <td>1</td>\n",
       "      <td>-1</td>\n",
       "      <td>-1</td>\n",
       "      <td>-1</td>\n",
       "      <td>NaN</td>\n",
       "      <td>7</td>\n",
       "      <td>NaN</td>\n",
       "      <td>1</td>\n",
       "    </tr>\n",
       "    <tr>\n",
       "      <th>639</th>\n",
       "      <td>273</td>\n",
       "      <td>1173</td>\n",
       "      <td>4</td>\n",
       "      <td>15</td>\n",
       "      <td>0</td>\n",
       "      <td>0</td>\n",
       "      <td>0</td>\n",
       "      <td>0</td>\n",
       "      <td>0</td>\n",
       "      <td>NaN</td>\n",
       "      <td>...</td>\n",
       "      <td>-1</td>\n",
       "      <td>-1</td>\n",
       "      <td>-1</td>\n",
       "      <td>-1</td>\n",
       "      <td>-1</td>\n",
       "      <td>-1</td>\n",
       "      <td>NaN</td>\n",
       "      <td>2</td>\n",
       "      <td>NaN</td>\n",
       "      <td>1</td>\n",
       "    </tr>\n",
       "    <tr>\n",
       "      <th>731</th>\n",
       "      <td>799</td>\n",
       "      <td>1165</td>\n",
       "      <td>3</td>\n",
       "      <td>11</td>\n",
       "      <td>2</td>\n",
       "      <td>0</td>\n",
       "      <td>0</td>\n",
       "      <td>0</td>\n",
       "      <td>0</td>\n",
       "      <td>NaN</td>\n",
       "      <td>...</td>\n",
       "      <td>-1</td>\n",
       "      <td>-1</td>\n",
       "      <td>-1</td>\n",
       "      <td>-1</td>\n",
       "      <td>-1</td>\n",
       "      <td>-1</td>\n",
       "      <td>NaN</td>\n",
       "      <td>4</td>\n",
       "      <td>NaN</td>\n",
       "      <td>1</td>\n",
       "    </tr>\n",
       "  </tbody>\n",
       "</table>\n",
       "<p>5 rows × 46 columns</p>\n",
       "</div>"
      ],
      "text/plain": [
       "         b     e  AC  FM  UC  DL  DS  DP  DR  Unnamed: 9  ...  E  AD  DE  LD  \\\n",
       "1529  2161  3337   2   0   7   0   0   0   0         NaN  ... -1  -1  -1  -1   \n",
       "368      0   364   0   3   1   0   0   0   0         NaN  ... -1  -1  -1  -1   \n",
       "954   1864  2859   0   0   7   4   0   0   0         NaN  ... -1  -1   1  -1   \n",
       "639    273  1173   4  15   0   0   0   0   0         NaN  ... -1  -1  -1  -1   \n",
       "731    799  1165   3  11   2   0   0   0   0         NaN  ... -1  -1  -1  -1   \n",
       "\n",
       "      FS  SUSP  Unnamed: 42  CLASS  Unnamed: 44  NSP  \n",
       "1529  -1    -1          NaN      2          NaN    1  \n",
       "368   -1     1          NaN     10          NaN    2  \n",
       "954   -1    -1          NaN      7          NaN    1  \n",
       "639   -1    -1          NaN      2          NaN    1  \n",
       "731   -1    -1          NaN      4          NaN    1  \n",
       "\n",
       "[5 rows x 46 columns]"
      ]
     },
     "execution_count": 5,
     "metadata": {},
     "output_type": "execute_result"
    }
   ],
   "source": [
    "path = \"/Users/erikgutierrezduthiers/Desktop/MSc AI/CW_Intro_AI/data/\"\n",
    "filename = \"CTG.xls\"\n",
    "\n",
    "df = pd.read_excel(path+filename, sheet_name = \"Data\",header=1)\n",
    "df = df.reindex(np.random.permutation(df.index))\n",
    "df.head()\n",
    "# shape: (891, 12) assdsd"
   ]
  },
  {
   "cell_type": "markdown",
   "metadata": {},
   "source": [
    "**Data description**:\n",
    "\n",
    "* 2126 fetal cardiotocograms (CTGs).\n",
    "* CTGs classified by: \n",
    "    * morphologic pattern (A, B, C....) - 10-class experiment\n",
    "    * fetal state (N, S, P) - 3-class experiment"
   ]
  },
  {
   "cell_type": "code",
   "execution_count": 6,
   "metadata": {},
   "outputs": [
    {
     "data": {
      "text/html": [
       "<div>\n",
       "<style scoped>\n",
       "    .dataframe tbody tr th:only-of-type {\n",
       "        vertical-align: middle;\n",
       "    }\n",
       "\n",
       "    .dataframe tbody tr th {\n",
       "        vertical-align: top;\n",
       "    }\n",
       "\n",
       "    .dataframe thead th {\n",
       "        text-align: right;\n",
       "    }\n",
       "</style>\n",
       "<table border=\"1\" class=\"dataframe\">\n",
       "  <thead>\n",
       "    <tr style=\"text-align: right;\">\n",
       "      <th></th>\n",
       "      <th>LB</th>\n",
       "      <th>AC</th>\n",
       "      <th>FM</th>\n",
       "      <th>UC</th>\n",
       "      <th>DL</th>\n",
       "      <th>DS</th>\n",
       "      <th>DP</th>\n",
       "      <th>ASTV</th>\n",
       "      <th>MSTV</th>\n",
       "      <th>ALTV</th>\n",
       "      <th>...</th>\n",
       "      <th>Width</th>\n",
       "      <th>Min</th>\n",
       "      <th>Max</th>\n",
       "      <th>Nmax</th>\n",
       "      <th>Nzeros</th>\n",
       "      <th>Mode</th>\n",
       "      <th>Mean</th>\n",
       "      <th>Median</th>\n",
       "      <th>Variance</th>\n",
       "      <th>Tendency</th>\n",
       "    </tr>\n",
       "  </thead>\n",
       "  <tbody>\n",
       "    <tr>\n",
       "      <th>1529</th>\n",
       "      <td>133</td>\n",
       "      <td>2</td>\n",
       "      <td>0</td>\n",
       "      <td>7</td>\n",
       "      <td>0</td>\n",
       "      <td>0</td>\n",
       "      <td>0</td>\n",
       "      <td>40</td>\n",
       "      <td>0.9</td>\n",
       "      <td>21</td>\n",
       "      <td>...</td>\n",
       "      <td>50</td>\n",
       "      <td>106</td>\n",
       "      <td>156</td>\n",
       "      <td>3</td>\n",
       "      <td>0</td>\n",
       "      <td>142</td>\n",
       "      <td>140</td>\n",
       "      <td>142</td>\n",
       "      <td>3</td>\n",
       "      <td>1</td>\n",
       "    </tr>\n",
       "    <tr>\n",
       "      <th>368</th>\n",
       "      <td>133</td>\n",
       "      <td>0</td>\n",
       "      <td>3</td>\n",
       "      <td>1</td>\n",
       "      <td>0</td>\n",
       "      <td>0</td>\n",
       "      <td>0</td>\n",
       "      <td>61</td>\n",
       "      <td>0.5</td>\n",
       "      <td>4</td>\n",
       "      <td>...</td>\n",
       "      <td>16</td>\n",
       "      <td>128</td>\n",
       "      <td>144</td>\n",
       "      <td>1</td>\n",
       "      <td>0</td>\n",
       "      <td>135</td>\n",
       "      <td>135</td>\n",
       "      <td>136</td>\n",
       "      <td>0</td>\n",
       "      <td>0</td>\n",
       "    </tr>\n",
       "    <tr>\n",
       "      <th>954</th>\n",
       "      <td>136</td>\n",
       "      <td>0</td>\n",
       "      <td>0</td>\n",
       "      <td>7</td>\n",
       "      <td>4</td>\n",
       "      <td>0</td>\n",
       "      <td>0</td>\n",
       "      <td>35</td>\n",
       "      <td>1.1</td>\n",
       "      <td>0</td>\n",
       "      <td>...</td>\n",
       "      <td>86</td>\n",
       "      <td>69</td>\n",
       "      <td>155</td>\n",
       "      <td>3</td>\n",
       "      <td>0</td>\n",
       "      <td>136</td>\n",
       "      <td>133</td>\n",
       "      <td>137</td>\n",
       "      <td>14</td>\n",
       "      <td>1</td>\n",
       "    </tr>\n",
       "    <tr>\n",
       "      <th>639</th>\n",
       "      <td>138</td>\n",
       "      <td>4</td>\n",
       "      <td>15</td>\n",
       "      <td>0</td>\n",
       "      <td>0</td>\n",
       "      <td>0</td>\n",
       "      <td>0</td>\n",
       "      <td>42</td>\n",
       "      <td>1.0</td>\n",
       "      <td>0</td>\n",
       "      <td>...</td>\n",
       "      <td>115</td>\n",
       "      <td>71</td>\n",
       "      <td>186</td>\n",
       "      <td>5</td>\n",
       "      <td>0</td>\n",
       "      <td>144</td>\n",
       "      <td>143</td>\n",
       "      <td>144</td>\n",
       "      <td>6</td>\n",
       "      <td>0</td>\n",
       "    </tr>\n",
       "    <tr>\n",
       "      <th>731</th>\n",
       "      <td>120</td>\n",
       "      <td>3</td>\n",
       "      <td>11</td>\n",
       "      <td>2</td>\n",
       "      <td>0</td>\n",
       "      <td>0</td>\n",
       "      <td>0</td>\n",
       "      <td>45</td>\n",
       "      <td>0.8</td>\n",
       "      <td>0</td>\n",
       "      <td>...</td>\n",
       "      <td>44</td>\n",
       "      <td>116</td>\n",
       "      <td>160</td>\n",
       "      <td>2</td>\n",
       "      <td>0</td>\n",
       "      <td>153</td>\n",
       "      <td>142</td>\n",
       "      <td>147</td>\n",
       "      <td>27</td>\n",
       "      <td>1</td>\n",
       "    </tr>\n",
       "  </tbody>\n",
       "</table>\n",
       "<p>5 rows × 21 columns</p>\n",
       "</div>"
      ],
      "text/plain": [
       "       LB  AC  FM  UC  DL  DS  DP  ASTV  MSTV  ALTV  ...  Width  Min  Max  \\\n",
       "1529  133   2   0   7   0   0   0    40   0.9    21  ...     50  106  156   \n",
       "368   133   0   3   1   0   0   0    61   0.5     4  ...     16  128  144   \n",
       "954   136   0   0   7   4   0   0    35   1.1     0  ...     86   69  155   \n",
       "639   138   4  15   0   0   0   0    42   1.0     0  ...    115   71  186   \n",
       "731   120   3  11   2   0   0   0    45   0.8     0  ...     44  116  160   \n",
       "\n",
       "      Nmax  Nzeros  Mode  Mean  Median  Variance  Tendency  \n",
       "1529     3       0   142   140     142         3         1  \n",
       "368      1       0   135   135     136         0         0  \n",
       "954      3       0   136   133     137        14         1  \n",
       "639      5       0   144   143     144         6         0  \n",
       "731      2       0   153   142     147        27         1  \n",
       "\n",
       "[5 rows x 21 columns]"
      ]
     },
     "execution_count": 6,
     "metadata": {},
     "output_type": "execute_result"
    }
   ],
   "source": [
    "# Columns to be considered in the dataset\n",
    "columns = [\"LB\", \"AC\", \"FM\", \"UC\", \"DL\", \"DS\", \"DP\", \n",
    "           \"ASTV\", \"MSTV\", \"ALTV\", \"MLTV\", \"Width\", \"Min\", \n",
    "           \"Max\", \"Nmax\", \"Nzeros\", \"Mode\", \"Mean\", \"Median\", \"Variance\", \"Tendency\"]\n",
    "\n",
    "#Prepare X and y\n",
    "X = df[columns]\n",
    "y1 = df[\"NSP\"]\n",
    "y2 = df[\"CLASS\"]\n",
    "X.head()\n",
    "\n"
   ]
  },
  {
   "cell_type": "markdown",
   "metadata": {},
   "source": [
    "If the values of the features are closer to each other we improve the algorithm's training and performance. \n",
    "\n",
    "Why? \n",
    "\n",
    "If the difference betwenn the value of the features is high, it will take the model more time to understand the data and the accuracy will be lower.  Larger differences between the data points of input variables increase the uncertainty in the results of the model. \n",
    "\n",
    "We Standardize features by removing the mean and scaling to variance = 1.\n",
    "\n",
    "The standard score of a sample x is calculated as:\n",
    "\n",
    "z = (x - u) / s\n",
    "\n",
    "where: \n",
    "- x: data point \n",
    "- u: mean of our sample data \n",
    "- s: standard variation"
   ]
  },
  {
   "cell_type": "code",
   "execution_count": 34,
   "metadata": {},
   "outputs": [
    {
     "data": {
      "text/html": [
       "<div>\n",
       "<style scoped>\n",
       "    .dataframe tbody tr th:only-of-type {\n",
       "        vertical-align: middle;\n",
       "    }\n",
       "\n",
       "    .dataframe tbody tr th {\n",
       "        vertical-align: top;\n",
       "    }\n",
       "\n",
       "    .dataframe thead th {\n",
       "        text-align: right;\n",
       "    }\n",
       "</style>\n",
       "<table border=\"1\" class=\"dataframe\">\n",
       "  <thead>\n",
       "    <tr style=\"text-align: right;\">\n",
       "      <th></th>\n",
       "      <th>LB</th>\n",
       "      <th>AC</th>\n",
       "      <th>FM</th>\n",
       "      <th>UC</th>\n",
       "      <th>DL</th>\n",
       "      <th>DS</th>\n",
       "      <th>DP</th>\n",
       "      <th>ASTV</th>\n",
       "      <th>MSTV</th>\n",
       "      <th>ALTV</th>\n",
       "      <th>...</th>\n",
       "      <th>Width</th>\n",
       "      <th>Min</th>\n",
       "      <th>Max</th>\n",
       "      <th>Nmax</th>\n",
       "      <th>Nzeros</th>\n",
       "      <th>Mode</th>\n",
       "      <th>Mean</th>\n",
       "      <th>Median</th>\n",
       "      <th>Variance</th>\n",
       "      <th>Tendency</th>\n",
       "    </tr>\n",
       "  </thead>\n",
       "  <tbody>\n",
       "    <tr>\n",
       "      <th>0</th>\n",
       "      <td>-0.030884</td>\n",
       "      <td>-0.202944</td>\n",
       "      <td>-0.195096</td>\n",
       "      <td>1.173429</td>\n",
       "      <td>-0.628375</td>\n",
       "      <td>-0.057476</td>\n",
       "      <td>-0.27153</td>\n",
       "      <td>-0.406668</td>\n",
       "      <td>-0.490111</td>\n",
       "      <td>0.606405</td>\n",
       "      <td>...</td>\n",
       "      <td>-0.524974</td>\n",
       "      <td>0.420275</td>\n",
       "      <td>-0.447348</td>\n",
       "      <td>-0.362263</td>\n",
       "      <td>-0.458444</td>\n",
       "      <td>0.277698</td>\n",
       "      <td>0.345702</td>\n",
       "      <td>0.270320</td>\n",
       "      <td>-0.545656</td>\n",
       "      <td>1.112980</td>\n",
       "    </tr>\n",
       "    <tr>\n",
       "      <th>1</th>\n",
       "      <td>-0.030884</td>\n",
       "      <td>-0.764740</td>\n",
       "      <td>-0.114270</td>\n",
       "      <td>-0.934480</td>\n",
       "      <td>-0.628375</td>\n",
       "      <td>-0.057476</td>\n",
       "      <td>-0.27153</td>\n",
       "      <td>0.815060</td>\n",
       "      <td>-0.943095</td>\n",
       "      <td>-0.317882</td>\n",
       "      <td>...</td>\n",
       "      <td>-1.397966</td>\n",
       "      <td>1.164694</td>\n",
       "      <td>-1.116245</td>\n",
       "      <td>-1.040530</td>\n",
       "      <td>-0.458444</td>\n",
       "      <td>-0.149720</td>\n",
       "      <td>0.024982</td>\n",
       "      <td>-0.144526</td>\n",
       "      <td>-0.649208</td>\n",
       "      <td>-0.524526</td>\n",
       "    </tr>\n",
       "    <tr>\n",
       "      <th>2</th>\n",
       "      <td>0.274039</td>\n",
       "      <td>-0.764740</td>\n",
       "      <td>-0.195096</td>\n",
       "      <td>1.173429</td>\n",
       "      <td>0.972495</td>\n",
       "      <td>-0.057476</td>\n",
       "      <td>-0.27153</td>\n",
       "      <td>-0.697556</td>\n",
       "      <td>-0.263619</td>\n",
       "      <td>-0.535361</td>\n",
       "      <td>...</td>\n",
       "      <td>0.399370</td>\n",
       "      <td>-0.831702</td>\n",
       "      <td>-0.503089</td>\n",
       "      <td>-0.362263</td>\n",
       "      <td>-0.458444</td>\n",
       "      <td>-0.088660</td>\n",
       "      <td>-0.103306</td>\n",
       "      <td>-0.075385</td>\n",
       "      <td>-0.165963</td>\n",
       "      <td>1.112980</td>\n",
       "    </tr>\n",
       "    <tr>\n",
       "      <th>3</th>\n",
       "      <td>0.477322</td>\n",
       "      <td>0.358852</td>\n",
       "      <td>0.209036</td>\n",
       "      <td>-1.285798</td>\n",
       "      <td>-0.628375</td>\n",
       "      <td>-0.057476</td>\n",
       "      <td>-0.27153</td>\n",
       "      <td>-0.290313</td>\n",
       "      <td>-0.376865</td>\n",
       "      <td>-0.535361</td>\n",
       "      <td>...</td>\n",
       "      <td>1.143981</td>\n",
       "      <td>-0.764027</td>\n",
       "      <td>1.224897</td>\n",
       "      <td>0.316003</td>\n",
       "      <td>-0.458444</td>\n",
       "      <td>0.399817</td>\n",
       "      <td>0.538134</td>\n",
       "      <td>0.408602</td>\n",
       "      <td>-0.442103</td>\n",
       "      <td>-0.524526</td>\n",
       "    </tr>\n",
       "    <tr>\n",
       "      <th>4</th>\n",
       "      <td>-1.352220</td>\n",
       "      <td>0.077954</td>\n",
       "      <td>0.101267</td>\n",
       "      <td>-0.583161</td>\n",
       "      <td>-0.628375</td>\n",
       "      <td>-0.057476</td>\n",
       "      <td>-0.27153</td>\n",
       "      <td>-0.115780</td>\n",
       "      <td>-0.603357</td>\n",
       "      <td>-0.535361</td>\n",
       "      <td>...</td>\n",
       "      <td>-0.679031</td>\n",
       "      <td>0.758648</td>\n",
       "      <td>-0.224382</td>\n",
       "      <td>-0.701397</td>\n",
       "      <td>-0.458444</td>\n",
       "      <td>0.949354</td>\n",
       "      <td>0.473990</td>\n",
       "      <td>0.616025</td>\n",
       "      <td>0.282764</td>\n",
       "      <td>1.112980</td>\n",
       "    </tr>\n",
       "  </tbody>\n",
       "</table>\n",
       "<p>5 rows × 21 columns</p>\n",
       "</div>"
      ],
      "text/plain": [
       "         LB        AC        FM        UC        DL        DS       DP  \\\n",
       "0 -0.030884 -0.202944 -0.195096  1.173429 -0.628375 -0.057476 -0.27153   \n",
       "1 -0.030884 -0.764740 -0.114270 -0.934480 -0.628375 -0.057476 -0.27153   \n",
       "2  0.274039 -0.764740 -0.195096  1.173429  0.972495 -0.057476 -0.27153   \n",
       "3  0.477322  0.358852  0.209036 -1.285798 -0.628375 -0.057476 -0.27153   \n",
       "4 -1.352220  0.077954  0.101267 -0.583161 -0.628375 -0.057476 -0.27153   \n",
       "\n",
       "       ASTV      MSTV      ALTV  ...     Width       Min       Max      Nmax  \\\n",
       "0 -0.406668 -0.490111  0.606405  ... -0.524974  0.420275 -0.447348 -0.362263   \n",
       "1  0.815060 -0.943095 -0.317882  ... -1.397966  1.164694 -1.116245 -1.040530   \n",
       "2 -0.697556 -0.263619 -0.535361  ...  0.399370 -0.831702 -0.503089 -0.362263   \n",
       "3 -0.290313 -0.376865 -0.535361  ...  1.143981 -0.764027  1.224897  0.316003   \n",
       "4 -0.115780 -0.603357 -0.535361  ... -0.679031  0.758648 -0.224382 -0.701397   \n",
       "\n",
       "     Nzeros      Mode      Mean    Median  Variance  Tendency  \n",
       "0 -0.458444  0.277698  0.345702  0.270320 -0.545656  1.112980  \n",
       "1 -0.458444 -0.149720  0.024982 -0.144526 -0.649208 -0.524526  \n",
       "2 -0.458444 -0.088660 -0.103306 -0.075385 -0.165963  1.112980  \n",
       "3 -0.458444  0.399817  0.538134  0.408602 -0.442103 -0.524526  \n",
       "4 -0.458444  0.949354  0.473990  0.616025  0.282764  1.112980  \n",
       "\n",
       "[5 rows x 21 columns]"
      ]
     },
     "execution_count": 34,
     "metadata": {},
     "output_type": "execute_result"
    }
   ],
   "source": [
    "# Apply the standar scaler to features\n",
    "\n",
    "sc = StandardScaler()\n",
    "\n",
    "sc.fit(X)\n",
    "X_std = pd.DataFrame(sc.transform(X),columns=columns)\n",
    "X_std.head()"
   ]
  },
  {
   "cell_type": "markdown",
   "metadata": {},
   "source": [
    "We visualize the scaled data using boxplot: "
   ]
  },
  {
   "cell_type": "code",
   "execution_count": 16,
   "metadata": {},
   "outputs": [
    {
     "data": {
      "image/png": "[encoded data removed]",
      "text/plain": [
       "<Figure size 1000x1000 with 1 Axes>"
      ]
     },
     "metadata": {},
     "output_type": "display_data"
    }
   ],
   "source": [
    "fig, ax = plt.subplots(figsize=(10,10))\n",
    "\n",
    "bp = plt.boxplot(X_st,labels=columns,vert=0,patch_artist = True)\n",
    "\n",
    "ax.axvline(3, c = \"red\", linestyle=\"--\", alpha = 0.5)\n",
    "ax.axvline(-3, c = \"red\", linestyle=\"--\", alpha = 0.5)\n",
    "\n",
    "\n",
    "plt.gca().xaxis.grid(True)\n",
    "\n",
    "# source for aestetic improvements: https://www.geeksforgeeks.org/box-plot-in-python-using-matplotlib/\n",
    "for dot in bp['fliers']:\n",
    "    dot.set(marker ='o',\n",
    "              color ='lightgrey',\n",
    "              alpha = 0.5)\n",
    "    "
   ]
  },
  {
   "cell_type": "markdown",
   "metadata": {},
   "source": [
    "We have a lot of outliers deviating the mean of our features. This is a problem we must consider. "
   ]
  },
  {
   "cell_type": "markdown",
   "metadata": {},
   "source": [
    "# Supervised Learning Models\n"
   ]
  },
  {
   "cell_type": "markdown",
   "metadata": {},
   "source": [
    "**Premise**: how does PCA and standardisation affect the accuracy of the classifying models?"
   ]
  },
  {
   "cell_type": "markdown",
   "metadata": {},
   "source": [
    "*Notes*: when using the PCA:\n",
    "\n",
    "- for raw data use 3 components\n",
    "- for scaled data use 10 components "
   ]
  },
  {
   "cell_type": "code",
   "execution_count": 26,
   "metadata": {},
   "outputs": [],
   "source": [
    "# Split in train and test dataset (with and without Standard Scaler application)\n",
    "\n",
    "# Raw data\n",
    "X_train, X_test, y_train, y_test = train_test_split(X, y1, train_size=0.8,random_state=35)\n",
    "\n",
    "# Scaled data\n",
    "X_train_std, X_test_std, y_train_std, y_test_std = train_test_split(X_std, y1, train_size=0.8,random_state=35)\n"
   ]
  },
  {
   "cell_type": "markdown",
   "metadata": {},
   "source": [
    "## Decision Tree and Random Forest "
   ]
  },
  {
   "cell_type": "markdown",
   "metadata": {},
   "source": [
    "Let's apply the **Decision Tree Classifier**"
   ]
  },
  {
   "cell_type": "code",
   "execution_count": 13,
   "metadata": {},
   "outputs": [],
   "source": [
    "dt = DecisionTreeClassifier(random_state=35)"
   ]
  },
  {
   "cell_type": "code",
   "execution_count": 35,
   "metadata": {},
   "outputs": [
    {
     "data": {
      "image/png": "[encoded data removed]",
      "text/plain": [
       "<Figure size 640x480 with 2 Axes>"
      ]
     },
     "metadata": {},
     "output_type": "display_data"
    }
   ],
   "source": [
    "# Raw data\n",
    "dt.fit(X_train,y_train)\n",
    "y_pred = dt.predict(X_test)\n",
    "\n",
    "cm = confusion_matrix(y_pred,y_test)\n",
    "\n",
    "disp = ConfusionMatrixDisplay(confusion_matrix=cm, display_labels=dt.classes_);\n",
    "disp.plot();"
   ]
  },
  {
   "cell_type": "code",
   "execution_count": 44,
   "metadata": {},
   "outputs": [
    {
     "data": {
      "image/png": "[encoded data removed]",
      "text/plain": [
       "<Figure size 640x480 with 2 Axes>"
      ]
     },
     "metadata": {},
     "output_type": "display_data"
    }
   ],
   "source": [
    "# Scaled data\n",
    "dt.fit(X_train_std,y_train_std)\n",
    "y_pred_std = dt.predict(X_test_std)\n",
    "\n",
    "cm = confusion_matrix(y_pred_std, y_test)\n",
    "\n",
    "disp_st = ConfusionMatrixDisplay(confusion_matrix=cm, display_labels=dt.classes_)\n",
    "disp_st.plot();"
   ]
  },
  {
   "cell_type": "code",
   "execution_count": 38,
   "metadata": {},
   "outputs": [
    {
     "name": "stdout",
     "output_type": "stream",
     "text": [
      "Decision Tree accuracy: 0.92\n",
      "Decision Tree accuracy with Standard Scalar: 0.92\n"
     ]
    }
   ],
   "source": [
    "print(\"Decision Tree accuracy: %.2f\" % accuracy_score(y_pred,y_test) )\n",
    "print(\"Decision Tree accuracy with Standard Scalar: %.2f\" % accuracy_score(y_pred_std,y_test_std) )"
   ]
  },
  {
   "cell_type": "markdown",
   "metadata": {},
   "source": [
    "Let's apply the **Random Forest Classifier** "
   ]
  },
  {
   "cell_type": "code",
   "execution_count": 48,
   "metadata": {},
   "outputs": [],
   "source": [
    "rf = RandomForestClassifier(n_estimators=10, criterion=\"entropy\")"
   ]
  },
  {
   "cell_type": "code",
   "execution_count": null,
   "metadata": {},
   "outputs": [],
   "source": []
  },
  {
   "cell_type": "markdown",
   "metadata": {},
   "source": [
    "Let's apply PCA "
   ]
  },
  {
   "cell_type": "code",
   "execution_count": 31,
   "metadata": {},
   "outputs": [
    {
     "name": "stdout",
     "output_type": "stream",
     "text": [
      "(2126, 21)\n",
      "(2126, 21)\n"
     ]
    }
   ],
   "source": [
    "print(X.shape)\n",
    "print(X_std.shape)\n"
   ]
  },
  {
   "cell_type": "code",
   "execution_count": 45,
   "metadata": {},
   "outputs": [
    {
     "name": "stdout",
     "output_type": "stream",
     "text": [
      "(2126, 3)\n",
      "(2126, 10)\n"
     ]
    }
   ],
   "source": [
    "# Raw data\n",
    "pca = PCA(n_components=3)\n",
    "pca.fit(X)\n",
    "X_pca = pca.transform(X)\n",
    "\n",
    "print(X_pca.shape)\n",
    "\n",
    "# Scaled data\n",
    "pca_std = PCA(n_components=10)\n",
    "pca_std.fit(X_std)\n",
    "X_pca_std = pca_std.transform(X_std)\n",
    "\n",
    "print(X_pca_std.shape)"
   ]
  },
  {
   "cell_type": "code",
   "execution_count": 46,
   "metadata": {},
   "outputs": [
    {
     "name": "stdout",
     "output_type": "stream",
     "text": [
      "Decision Tree accuracy: 0.83\n",
      "Decision Tree accuracy with Standard Scalar: 0.83\n"
     ]
    }
   ],
   "source": [
    "#training and testing dataset\n",
    "\n",
    "# Raw data\n",
    "X_train, X_test, y_train, y_test = train_test_split(X_pca, y1, train_size=0.8,random_state=35)\n",
    "dt.fit(X_train,y_train)\n",
    "y_pred_std = dt.predict(X_test)\n",
    "\n",
    "print(\"Decision Tree accuracy: %.2f\" % accuracy_score(y_pred,y_test) )\n",
    "\n",
    "# Scaled data: \n",
    "X_train_std, X_test_std, y_train_std, y_test_std = train_test_split(X_pca_std, y1, train_size=0.8,random_state=35)\n",
    "dt.fit(X_train,y_train)\n",
    "y_pred = dt.predict(X_test)\n",
    "\n",
    "print(\"Decision Tree accuracy with Standard Scalar: %.2f\" % accuracy_score(y_pred_std,y_test_std) )"
   ]
  },
  {
   "cell_type": "markdown",
   "metadata": {},
   "source": [
    "### Observations\n",
    "\n",
    "- Data standardization has no effect on the decision tree accuracy score "
   ]
  },
  {
   "cell_type": "markdown",
   "metadata": {},
   "source": [
    "## SVM  "
   ]
  },
  {
   "cell_type": "markdown",
   "metadata": {},
   "source": [
    "## K-Nearest Neighbours"
   ]
  },
  {
   "cell_type": "markdown",
   "metadata": {},
   "source": [
    "## Naïve Bayes "
   ]
  },
  {
   "cell_type": "code",
   "execution_count": null,
   "metadata": {},
   "outputs": [],
   "source": [
    "print('hello')"
   ]
  }
 ],
 "metadata": {
  "kernelspec": {
   "display_name": "Python 3.10.4 64-bit",
   "language": "python",
   "name": "python3"
  },
  "language_info": {
   "codemirror_mode": {
    "name": "ipython",
    "version": 3
   },
   "file_extension": ".py",
   "mimetype": "text/x-python",
   "name": "python",
   "nbconvert_exporter": "python",
   "pygments_lexer": "ipython3",
   "version": "3.10.4"
  },
  "vscode": {
   "interpreter": {
    "hash": "aee8b7b246df8f9039afb4144a1f6fd8d2ca17a180786b69acc140d282b71a49"
   }
  }
 },
 "nbformat": 4,
 "nbformat_minor": 2
}
