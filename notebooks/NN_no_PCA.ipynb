{
 "cells": [
  {
   "cell_type": "markdown",
   "metadata": {},
   "source": [
    "# Neural Network Analysis"
   ]
  },
  {
   "cell_type": "markdown",
   "metadata": {},
   "source": [
    "# 1. Prepare data"
   ]
  },
  {
   "cell_type": "code",
   "execution_count": 1,
   "metadata": {},
   "outputs": [],
   "source": [
    "#basics\n",
    "import pandas as pd\n",
    "import matplotlib.pyplot as plt\n",
    "import numpy as np\n",
    "import math\n",
    "from scipy.stats import mode\n",
    "import base64\n",
    "import io\n",
    "import os\n",
    "import requests\n",
    "import time\n",
    "\n",
    "#sklearn\n",
    "from sklearn.model_selection import train_test_split\n",
    "from sklearn.metrics import confusion_matrix, ConfusionMatrixDisplay, accuracy_score, mean_squared_error, recall_score\n",
    "\n",
    "# tensorflow\n",
    "import tensorflow as tf\n",
    "from tensorflow import keras\n",
    "from tensorflow.keras import utils \n",
    "from tensorflow.keras.models import Sequential\n",
    "from tensorflow.keras.layers import Dense\n",
    "from tensorflow.keras.utils import to_categorical\n",
    "from tensorflow.keras.callbacks import EarlyStopping\n",
    "from tensorflow.keras.layers import Dense, Dropout\n",
    "from tensorflow.keras import regularizers\n",
    "from tensorflow.keras.models import Sequential"
   ]
  },
  {
   "cell_type": "code",
   "execution_count": 2,
   "metadata": {},
   "outputs": [],
   "source": [
    "# Columns to be considered in the dataset\n",
    "columns = [\"LB\", \"AC\", \"FM\", \"UC\", \"DL\", \"DP\", \n",
    "           \"ASTV\", \"MSTV\", \"ALTV\", \"MLTV\", \"Width\", \"Min\", \n",
    "           \"Max\", \"Nmax\", \"Nzeros\", \"Mode\", \"Mean\", \"Median\", \"Variance\", \"Tendency\"]\n",
    "\n",
    "path = \"../data/\""
   ]
  },
  {
   "cell_type": "markdown",
   "metadata": {},
   "source": [
    "## Clean data"
   ]
  },
  {
   "cell_type": "code",
   "execution_count": 3,
   "metadata": {},
   "outputs": [],
   "source": [
    "filename = \"prep_data.csv\"\n",
    "\n",
    "df = pd.read_csv(path+filename)\n",
    "df = df.reindex(np.random.permutation(df.index))\n",
    "\n",
    "#Prepare X and y\n",
    "X = df[columns]\n",
    "y = df[\"NSP\"]\n",
    "\n",
    "#One-hot enconding of target values \n",
    "y_cat = utils.to_categorical(y-1)\n",
    "\n",
    "X_train, X_test, y_train, y_test = train_test_split(\n",
    "    X, y_cat, train_size=0.8,random_state=45)"
   ]
  },
  {
   "cell_type": "markdown",
   "metadata": {},
   "source": [
    "## Raw data"
   ]
  },
  {
   "cell_type": "code",
   "execution_count": 4,
   "metadata": {},
   "outputs": [],
   "source": [
    "filename = \"CTG.xls\"\n",
    "\n",
    "df_raw = pd.read_excel(path+filename, sheet_name = \"Data\",header=1)\n",
    "df_raw = df_raw.reindex(np.random.permutation(df_raw.index))\n",
    "\n",
    "#Prepare X and y\n",
    "X_raw = df_raw[columns]\n",
    "y_raw = df_raw[\"NSP\"]\n",
    "\n",
    "#One-hot enconding of target values \n",
    "y_cat_raw = utils.to_categorical(y_raw-1)\n",
    "\n",
    "X_train_raw, X_test_raw, y_train_raw, y_test_raw = train_test_split(\n",
    "    X_raw, y_cat_raw, train_size=0.8,random_state=45)"
   ]
  },
  {
   "cell_type": "markdown",
   "metadata": {},
   "source": [
    "# 2. Neural Network "
   ]
  },
  {
   "cell_type": "code",
   "execution_count": 12,
   "metadata": {},
   "outputs": [],
   "source": [
    "def evaluate(y_pred, y_test, model_trace):\n",
    "    \n",
    "    # Apply argmax\n",
    "    y_pred = np.argmax(y_pred,axis=1)\n",
    "    y_compare = np.argmax(y_test,axis=1)\n",
    "    \n",
    "    print(\"Accuracy: %.2f\"%accuracy_score(y_pred,y_compare))\n",
    "    print(\"Recall: %.2f\"%recall_score(y_pred,y_compare,average=\"macro\"))\n",
    "\n",
    "    cm = confusion_matrix(y_compare, y_pred, normalize=\"all\")\n",
    "\n",
    "    disp = ConfusionMatrixDisplay(confusion_matrix=cm,display_labels=[\"1\",\"2\",\"3\"])\n",
    "    disp.plot()\n",
    "    \n",
    "    \n",
    "    # Plot the loss function\n",
    "    fig, ax = plt.subplots(1, 1, figsize=(3,3))\n",
    "    ax.plot(np.sqrt(model_trace.history['loss']), 'r', label='train')\n",
    "    ax.plot(np.sqrt(model_trace.history['val_loss']), 'b' ,label='val')\n",
    "    ax.set_xlabel(r'Epoch', fontsize=10)\n",
    "    ax.set_ylabel(r'Loss', fontsize=10)\n",
    "    ax.legend()\n",
    "    ax.tick_params(labelsize=10)\n",
    "\n",
    "    \n",
    "    # Plot the accuracy\n",
    "    fig, ax = plt.subplots(1, 1, figsize=(3,3))\n",
    "    ax.plot(np.sqrt(model_trace.history['accuracy']), 'r', label='train')\n",
    "    ax.plot(np.sqrt(model_trace.history['val_accuracy']), 'b' ,label='val')\n",
    "    ax.set_xlabel(r'Epoch', fontsize=10)\n",
    "    ax.set_ylabel(r'Accuracy', fontsize=10)\n",
    "    ax.legend()\n",
    "    ax.tick_params(labelsize=10)"
   ]
  },
  {
   "cell_type": "markdown",
   "metadata": {},
   "source": [
    "# 3. Change activation function"
   ]
  },
  {
   "cell_type": "markdown",
   "metadata": {},
   "source": [
    "## 3.1. HL(15 nodes, sigmoid)"
   ]
  },
  {
   "cell_type": "code",
   "execution_count": 18,
   "metadata": {},
   "outputs": [
    {
     "name": "stdout",
     "output_type": "stream",
     "text": [
      "Model: \"sequential_5\"\n",
      "_________________________________________________________________\n",
      " Layer (type)                Output Shape              Param #   \n",
      "=================================================================\n",
      " dense_10 (Dense)            (None, 15)                315       \n",
      "                                                                 \n",
      " dense_11 (Dense)            (None, 3)                 48        \n",
      "                                                                 \n",
      "=================================================================\n",
      "Total params: 363\n",
      "Trainable params: 363\n",
      "Non-trainable params: 0\n",
      "_________________________________________________________________\n"
     ]
    }
   ],
   "source": [
    "model = Sequential()\n",
    "model.add(Dense(15, input_dim=X.shape[1], activation='sigmoid')) # Hidden 1\n",
    "model.add(Dense(y_cat.shape[1], activation='softmax')) # Output\n",
    "model.compile(loss='categorical_crossentropy', optimizer='adam', metrics=['accuracy'])\n",
    "model.summary() #note, only works if input shape specified, or Input layer given"
   ]
  },
  {
   "cell_type": "code",
   "execution_count": 19,
   "metadata": {},
   "outputs": [
    {
     "name": "stdout",
     "output_type": "stream",
     "text": [
      "31/31 [==============================] - 0s 2ms/step\n",
      "Accuracy: 0.91\n",
      "Recall: 0.92\n"
     ]
    },
    {
     "data": {
      "image/png": "[encoded data removed]",
      "text/plain": [
       "<Figure size 640x480 with 2 Axes>"
      ]
     },
     "metadata": {},
     "output_type": "display_data"
    },
    {
     "data": {
      "image/png": "[encoded data removed]",
      "text/plain": [
       "<Figure size 300x300 with 1 Axes>"
      ]
     },
     "metadata": {},
     "output_type": "display_data"
    },
    {
     "data": {
      "image/png": "[encoded data removed]",
      "text/plain": [
       "<Figure size 300x300 with 1 Axes>"
      ]
     },
     "metadata": {},
     "output_type": "display_data"
    }
   ],
   "source": [
    "model_trace = model.fit(X_train,y_train,verbose=0,epochs=200, validation_data=(X_test, y_test))\n",
    "y_pred = model.predict(X_test)\n",
    "evaluate(y_pred, y_test, model_trace)"
   ]
  },
  {
   "cell_type": "markdown",
   "metadata": {},
   "source": [
    "## 3.2. HL(15 nodes, ReLu)"
   ]
  },
  {
   "cell_type": "code",
   "execution_count": 20,
   "metadata": {},
   "outputs": [
    {
     "name": "stdout",
     "output_type": "stream",
     "text": [
      "Model: \"sequential_6\"\n",
      "_________________________________________________________________\n",
      " Layer (type)                Output Shape              Param #   \n",
      "=================================================================\n",
      " dense_12 (Dense)            (None, 15)                315       \n",
      "                                                                 \n",
      " dense_13 (Dense)            (None, 3)                 48        \n",
      "                                                                 \n",
      "=================================================================\n",
      "Total params: 363\n",
      "Trainable params: 363\n",
      "Non-trainable params: 0\n",
      "_________________________________________________________________\n"
     ]
    }
   ],
   "source": [
    "model = Sequential()\n",
    "model.add(Dense(15, input_dim=X.shape[1], activation='relu')) # Hidden 1\n",
    "model.add(Dense(y_cat.shape[1], activation='softmax')) # Output\n",
    "model.compile(loss='categorical_crossentropy', optimizer='adam', metrics=['accuracy'])\n",
    "model.summary() #note, only works if input shape specified, or Input layer given"
   ]
  },
  {
   "cell_type": "code",
   "execution_count": 21,
   "metadata": {},
   "outputs": [
    {
     "name": "stdout",
     "output_type": "stream",
     "text": [
      "31/31 [==============================] - 0s 2ms/step\n",
      "Accuracy: 0.89\n",
      "Recall: 0.89\n"
     ]
    },
    {
     "data": {
      "image/png": "[encoded data removed]",
      "text/plain": [
       "<Figure size 640x480 with 2 Axes>"
      ]
     },
     "metadata": {},
     "output_type": "display_data"
    },
    {
     "data": {
      "image/png": "[encoded data removed]",
      "text/plain": [
       "<Figure size 300x300 with 1 Axes>"
      ]
     },
     "metadata": {},
     "output_type": "display_data"
    },
    {
     "data": {
      "image/png": "[encoded data removed]",
      "text/plain": [
       "<Figure size 300x300 with 1 Axes>"
      ]
     },
     "metadata": {},
     "output_type": "display_data"
    }
   ],
   "source": [
    "model_trace = model.fit(X_train,y_train,verbose=0,epochs=200,  validation_data=(X_test, y_test))\n",
    "y_pred = model.predict(X_test)\n",
    "evaluate(y_pred, y_test, model_trace)"
   ]
  },
  {
   "cell_type": "markdown",
   "metadata": {},
   "source": [
    " # 4. Increase hidden nodes"
   ]
  },
  {
   "cell_type": "markdown",
   "metadata": {},
   "source": [
    "## 4.1. HL(30 nodes, sigmoid, epochs=200)"
   ]
  },
  {
   "cell_type": "code",
   "execution_count": null,
   "metadata": {},
   "outputs": [],
   "source": [
    "model = Sequential()\n",
    "model.add(Dense(30, input_dim=X.shape[1], activation='sigmoid')) # Hidden 1\n",
    "model.add(Dense(y_cat.shape[1], activation='softmax')) # Output\n",
    "model.compile(loss='categorical_crossentropy', optimizer='adam', metrics=['accuracy'])\n",
    "model.summary() #note, only works if input shape specified, or Input layer given"
   ]
  },
  {
   "cell_type": "code",
   "execution_count": null,
   "metadata": {},
   "outputs": [],
   "source": [
    "model_trace = model.fit(X_train,y_train,verbose=0,epochs=200)\n",
    "y_pred = model.predict(X_test)\n",
    "evaluate(y_pred, y_test, model_trace)"
   ]
  },
  {
   "cell_type": "markdown",
   "metadata": {},
   "source": [
    "## 4.2. HL(30 nodes, ReLu, epochs=100)"
   ]
  },
  {
   "cell_type": "code",
   "execution_count": null,
   "metadata": {},
   "outputs": [],
   "source": [
    "model = Sequential()\n",
    "model.add(Dense(30, input_dim=X.shape[1], activation='relu')) # Hidden 1\n",
    "model.add(Dense(y_cat.shape[1], activation='softmax')) # Output\n",
    "model.compile(loss='categorical_crossentropy', optimizer='adam', metrics=['accuracy'])\n",
    "model.summary() #note, only works if input shape specified, or Input layer given\n",
    "model_trace = model.fit(X_train,y_train, verbose=0,epochs=100)\n",
    "y_pred = model.predict(X_test)\n",
    "evaluate(y_pred, y_test, model_trace)\n"
   ]
  },
  {
   "cell_type": "markdown",
   "metadata": {},
   "source": [
    "## 4.3. HL(60 nodes, sigmoid)"
   ]
  },
  {
   "cell_type": "code",
   "execution_count": null,
   "metadata": {},
   "outputs": [],
   "source": [
    "model = Sequential()\n",
    "model.add(Dense(60, input_dim=X.shape[1], activation='sigmoid')) # Hidden 1\n",
    "model.add(Dense(y_cat.shape[1], activation='softmax')) # Output\n",
    "model.compile(loss='categorical_crossentropy', optimizer='adam', metrics=['accuracy'])\n",
    "model.summary() #note, only works if input shape specified, or Input layer given\n",
    "model_trace = model.fit(X_train,y_train, verbose=0,epochs=200)\n",
    "y_pred = model.predict(X_test)\n",
    "evaluate(y_pred, y_test, model_trace)\n"
   ]
  },
  {
   "cell_type": "markdown",
   "metadata": {},
   "source": [
    "## 4.4. HL(60 nodes, ReLu)"
   ]
  },
  {
   "cell_type": "code",
   "execution_count": null,
   "metadata": {},
   "outputs": [],
   "source": [
    "model = Sequential()\n",
    "model.add(Dense(60, input_dim=X.shape[1], activation='relu')) # Hidden 1\n",
    "model.add(Dense(y_cat.shape[1], activation='softmax')) # Output\n",
    "model.compile(loss='categorical_crossentropy', optimizer='adam', metrics=['accuracy'])\n",
    "model.summary() #note, only works if input shape specified, or Input layer given\n",
    "\n",
    "start_fit = time.time()\n",
    "model_trace = model.fit(X_train,y_train, verbose=0,epochs=100)\n",
    "end_fit = time.time()\n",
    "\n",
    "start_pred = time.time()\n",
    "y_pred = model.predict(X_test)\n",
    "end_pred = time.time()\n",
    "\n",
    "time_fit = end_fit - start_fit;\n",
    "time_pred = end_pred - start_pred; \n",
    "\n",
    "print(f'training time:{time_fit}')\n",
    "print(f'test time:{time_pred}')\n",
    "evaluate(y_pred, y_test, model_trace)"
   ]
  },
  {
   "cell_type": "markdown",
   "metadata": {},
   "source": [
    "# 5 Increase layers"
   ]
  },
  {
   "cell_type": "markdown",
   "metadata": {},
   "source": [
    "## 5.1. HL(15nodes, relu) x 2"
   ]
  },
  {
   "cell_type": "code",
   "execution_count": null,
   "metadata": {},
   "outputs": [],
   "source": [
    "model = Sequential()\n",
    "model.add(Dense(15, input_dim=X.shape[1], activation='relu')) # Hidden 1\n",
    "model.add(Dense(15, activation='relu'))\n",
    "model.add(Dense(y_cat.shape[1], activation='softmax')) # Output\n",
    "model.compile(loss='categorical_crossentropy', optimizer='adam', metrics=['accuracy'])\n",
    "model.summary() #note, only works if input shape specified, or Input layer given\n",
    "\n",
    "start_fit = time.time()\n",
    "model_trace = model.fit(X_train,y_train, verbose=0,epochs=100)\n",
    "end_fit = time.time()\n",
    "\n",
    "start_pred = time.time()\n",
    "y_pred = model.predict(X_test)\n",
    "end_pred = time.time()\n",
    "\n",
    "time_fit = end_fit - start_fit;\n",
    "time_pred = end_pred - start_pred; \n",
    "\n",
    "print(f'training time:{time_fit}')\n",
    "print(f'test time:{time_pred}')\n",
    "evaluate(y_pred, y_test, model_trace)\n",
    "\n"
   ]
  },
  {
   "cell_type": "markdown",
   "metadata": {},
   "source": [
    "## 5.2. HL(15nodes, relu)"
   ]
  },
  {
   "cell_type": "code",
   "execution_count": null,
   "metadata": {},
   "outputs": [],
   "source": [
    "model = Sequential()\n",
    "model.add(Dense(15, input_dim=X.shape[1], activation='relu')) # Hidden 1\n",
    "model.add(Dense(y_cat.shape[1], activation='softmax')) # Output\n",
    "model.compile(loss='categorical_crossentropy', optimizer='adam', metrics=['accuracy'])\n",
    "model.summary() #note, only works if input shape specified, or Input layer given\n",
    "\n",
    "start_fit = time.time()\n",
    "model_trace = model.fit(X_train,y_train, verbose=0,epochs=100)\n",
    "end_fit = time.time()\n",
    "\n",
    "start_pred = time.time()\n",
    "y_pred = model.predict(X_test)\n",
    "end_pred = time.time()\n",
    "\n",
    "time_fit = end_fit - start_fit;\n",
    "time_pred = end_pred - start_pred; \n",
    "\n",
    "print(f'training time:{time_fit}')\n",
    "print(f'test time:{time_pred}')\n",
    "evaluate(y_pred, y_test, model_trace)\n"
   ]
  },
  {
   "cell_type": "markdown",
   "metadata": {},
   "source": [
    "## 5.2. HL(15nodes, relu) x 4"
   ]
  },
  {
   "cell_type": "code",
   "execution_count": null,
   "metadata": {},
   "outputs": [],
   "source": [
    "model = Sequential()\n",
    "model.add(Dense(15, input_dim=X.shape[1], activation='relu')) # Hidden 1\n",
    "model.add(Dense(15, activation='relu'))\n",
    "model.add(Dense(15, activation='relu'))\n",
    "model.add(Dense(15, activation='relu'))\n",
    "model.add(Dense(y_cat.shape[1], activation='softmax')) # Output\n",
    "model.compile(loss='categorical_crossentropy', optimizer='adam', metrics=['accuracy'])\n",
    "model.summary() #note, only works if input shape specified, or Input layer given\n",
    "\n",
    "start_fit = time.time()\n",
    "model_trace = model.fit(X_train,y_train, verbose=0,epochs=100)\n",
    "end_fit = time.time()\n",
    "\n",
    "start_pred = time.time()\n",
    "y_pred = model.predict(X_test)\n",
    "end_pred = time.time()\n",
    "\n",
    "time_fit = end_fit - start_fit;\n",
    "time_pred = end_pred - start_pred; \n",
    "\n",
    "print(f'training time:{time_fit}')\n",
    "print(f'test time:{time_pred}')\n",
    "evaluate(y_pred, y_test, model_trace)"
   ]
  },
  {
   "cell_type": "markdown",
   "metadata": {},
   "source": [
    "## 5.4. HL(30/15 nodes, relu) x 2"
   ]
  },
  {
   "cell_type": "code",
   "execution_count": null,
   "metadata": {},
   "outputs": [],
   "source": [
    "model = Sequential()\n",
    "model.add(Dense(30, input_dim=X.shape[1], activation='relu')) # Hidden 1\n",
    "model.add(Dense(15, activation='relu'))\n",
    "model.add(Dense(y_cat.shape[1], activation='softmax')) # Output\n",
    "model.compile(loss='categorical_crossentropy', optimizer='adam', metrics=['accuracy'])\n",
    "model.summary() #note, only works if input shape specified, or Input layer given\n",
    "\n",
    "start_fit = time.time()\n",
    "model_trace = model.fit(X_train,y_train, verbose=0,epochs=100)\n",
    "end_fit = time.time()\n",
    "\n",
    "start_pred = time.time()\n",
    "y_pred = model.predict(X_test)\n",
    "end_pred = time.time()\n",
    "\n",
    "time_fit = end_fit - start_fit;\n",
    "time_pred = end_pred - start_pred; \n",
    "\n",
    "print(f'training time:{time_fit}')\n",
    "print(f'test time:{time_pred}')\n",
    "evaluate(y_pred, y_test, model_trace)\n"
   ]
  },
  {
   "cell_type": "markdown",
   "metadata": {},
   "source": [
    "## 5.5. HL(60/50/40/30 nodes, relu) x 4 "
   ]
  },
  {
   "cell_type": "code",
   "execution_count": null,
   "metadata": {},
   "outputs": [],
   "source": [
    "model = Sequential()\n",
    "model.add(Dense(60, input_dim=X.shape[1], activation='relu')) # Hidden 1\n",
    "model.add(Dense(50, activation='relu'))\n",
    "model.add(Dense(40, activation='relu'))\n",
    "model.add(Dense(30, activation='relu'))\n",
    "model.add(Dense(y_cat.shape[1], activation='softmax')) # Output\n",
    "model.compile(loss='categorical_crossentropy', optimizer='adam', metrics=['accuracy'])\n",
    "model.summary() #note, only works if input shape specified, or Input layer given\n",
    "\n",
    "start_fit = time.time()\n",
    "model_trace = model.fit(X_train,y_train, verbose=0,epochs=100)\n",
    "end_fit = time.time()\n",
    "\n",
    "start_pred = time.time()\n",
    "y_pred = model.predict(X_test)\n",
    "end_pred = time.time()\n",
    "\n",
    "time_fit = end_fit - start_fit;\n",
    "time_pred = end_pred - start_pred; \n",
    "\n",
    "print(f'training time:{time_fit}')\n",
    "print(f'test time:{time_pred}')\n",
    "evaluate(y_pred, y_test, model_trace)"
   ]
  },
  {
   "cell_type": "markdown",
   "metadata": {},
   "source": [
    "## 5.6. HL(100/100/100/100 nodes, relu) x 4"
   ]
  },
  {
   "cell_type": "code",
   "execution_count": null,
   "metadata": {},
   "outputs": [],
   "source": [
    "model = Sequential()\n",
    "model.add(Dense(100, input_dim=X.shape[1], activation='relu')) # Hidden 1\n",
    "model.add(Dense(100, activation='relu'))\n",
    "model.add(Dense(100, activation='relu'))\n",
    "model.add(Dense(100, activation='relu'))\n",
    "model.add(Dense(y_cat.shape[1], activation='softmax')) # Output\n",
    "model.compile(loss='categorical_crossentropy', optimizer='adam', metrics=['accuracy'])\n",
    "model.summary() #note, only works if input shape specified, or Input layer given\n",
    "\n",
    "start_fit = time.time()\n",
    "model_trace = model.fit(X_train,y_train, verbose=0,epochs=100)\n",
    "end_fit = time.time()\n",
    "\n",
    "start_pred = time.time()\n",
    "y_pred = model.predict(X_test)\n",
    "end_pred = time.time()\n",
    "\n",
    "time_fit = end_fit - start_fit;\n",
    "time_pred = end_pred - start_pred; \n",
    "\n",
    "print(f'training time:{time_fit}')\n",
    "print(f'test time:{time_pred}')\n",
    "evaluate(y_pred, y_test, model_trace)"
   ]
  },
  {
   "cell_type": "markdown",
   "metadata": {},
   "source": [
    "## 5.7. HL(200/200/200/200 nodes, relu) x 4"
   ]
  },
  {
   "cell_type": "code",
   "execution_count": null,
   "metadata": {},
   "outputs": [],
   "source": [
    "model = Sequential()\n",
    "model.add(Dense(200, input_dim=X.shape[1], activation='relu')) # Hidden 1\n",
    "model.add(Dense(200, activation='relu'))\n",
    "model.add(Dense(200, activation='relu'))\n",
    "model.add(Dense(200, activation='relu'))\n",
    "model.add(Dense(y_cat.shape[1], activation='softmax')) # Output\n",
    "model.compile(loss='categorical_crossentropy', optimizer='adam', metrics=['accuracy'])\n",
    "model.summary() #note, only works if input shape specified, or Input layer given\n",
    "\n",
    "start_fit = time.time()\n",
    "model_trace = model.fit(X_train,y_train, verbose=0,epochs=100)\n",
    "end_fit = time.time()\n",
    "\n",
    "start_pred = time.time()\n",
    "y_pred = model.predict(X_test)\n",
    "end_pred = time.time()\n",
    "\n",
    "time_fit = end_fit - start_fit;\n",
    "time_pred = end_pred - start_pred; \n",
    "\n",
    "print(f'training time:{time_fit}')\n",
    "print(f'test time:{time_pred}')\n",
    "evaluate(y_pred, y_test, model_trace)"
   ]
  },
  {
   "cell_type": "markdown",
   "metadata": {},
   "source": [
    "## 5.8. HL(100/100/100/100 nodes, relu, epoch=200) x 4"
   ]
  },
  {
   "cell_type": "code",
   "execution_count": null,
   "metadata": {},
   "outputs": [],
   "source": [
    "model = Sequential()\n",
    "model.add(Dense(100, input_dim=X.shape[1], activation='relu')) # Hidden 1\n",
    "model.add(Dense(100, activation='relu'))\n",
    "model.add(Dense(100, activation='relu'))\n",
    "model.add(Dense(100, activation='relu'))\n",
    "model.add(Dense(y_cat.shape[1], activation='softmax')) # Output\n",
    "model.compile(loss='categorical_crossentropy', optimizer='adam', metrics=['accuracy'])\n",
    "model.summary() #note, only works if input shape specified, or Input layer given\n",
    "\n",
    "start_fit = time.time()\n",
    "model_trace = model.fit(X_train,y_train, verbose=0,epochs=200)\n",
    "end_fit = time.time()\n",
    "\n",
    "start_pred = time.time()\n",
    "y_pred = model.predict(X_test)\n",
    "end_pred = time.time()\n",
    "\n",
    "time_fit = end_fit - start_fit;\n",
    "time_pred = end_pred - start_pred; \n",
    "\n",
    "print(f'training time:{time_fit}')\n",
    "print(f'test time:{time_pred}')\n",
    "evaluate(y_pred, y_test, model_trace)"
   ]
  },
  {
   "cell_type": "markdown",
   "metadata": {},
   "source": [
    "## 5.9. HL(100/100/100/100 nodes, relu, epoch=150) x 4 - BEST ONE"
   ]
  },
  {
   "cell_type": "code",
   "execution_count": null,
   "metadata": {},
   "outputs": [],
   "source": [
    "model = Sequential()\n",
    "model.add(Dense(100, input_dim=X.shape[1], activation='relu')) # Hidden 1\n",
    "model.add(Dense(100, activation='relu'))\n",
    "model.add(Dense(100, activation='relu'))\n",
    "model.add(Dense(100, activation='relu'))\n",
    "model.add(Dense(y_cat.shape[1], activation='softmax')) # Output\n",
    "model.compile(loss='categorical_crossentropy', optimizer='adam', metrics=['accuracy'])\n",
    "model.summary() #note, only works if input shape specified, or Input layer given\n",
    "\n",
    "start_fit = time.time()\n",
    "model_trace = model.fit(X_train,y_train, verbose=0,epochs=150)\n",
    "end_fit = time.time()\n",
    "\n",
    "start_pred = time.time()\n",
    "y_pred = model.predict(X_test)\n",
    "end_pred = time.time()\n",
    "\n",
    "time_fit = end_fit - start_fit;\n",
    "time_pred = end_pred - start_pred; \n",
    "\n",
    "print(f'training time:{time_fit}')\n",
    "print(f'test time:{time_pred}')\n",
    "evaluate(y_pred, y_test, model_trace)"
   ]
  },
  {
   "cell_type": "markdown",
   "metadata": {},
   "source": [
    "# 6. Dropout"
   ]
  },
  {
   "cell_type": "markdown",
   "metadata": {},
   "source": [
    "## 6.1. HL(30 nodes, sigmoid, dropout:0.1) "
   ]
  },
  {
   "cell_type": "code",
   "execution_count": null,
   "metadata": {},
   "outputs": [],
   "source": [
    "model = Sequential()\n",
    "model.add(Dense(30, input_dim=X.shape[1], activation='relu')) # Hidden 1\n",
    "model.add(Dropout(0.1))\n",
    "model.add(Dense(y_cat.shape[1], activation='softmax')) # Output\n",
    "model.compile(loss='categorical_crossentropy', optimizer='adam', metrics=['accuracy'])\n",
    "model.summary() #note, only works if input shape specified, or Input layer given\n",
    "model_trace = model.fit(X_train,y_train,verbose=0,epochs=200)\n",
    "y_pred = model.predict(X_test)\n",
    "evaluate(y_pred, y_test, model_trace)\n"
   ]
  },
  {
   "cell_type": "markdown",
   "metadata": {},
   "source": [
    "## 6.2. HL(30 nodes, sigmoid, dropout:0.5) "
   ]
  },
  {
   "cell_type": "code",
   "execution_count": null,
   "metadata": {},
   "outputs": [],
   "source": [
    "model = Sequential()\n",
    "model.add(Dense(30, input_dim=X.shape[1], activation='relu')) # Hidden 1\n",
    "model.add(Dropout(0.5))\n",
    "model.add(Dense(y_cat.shape[1], activation='softmax')) # Output\n",
    "model.compile(loss='categorical_crossentropy', optimizer='adam', metrics=['accuracy'])\n",
    "model.summary() #note, only works if input shape specified, or Input layer given\n",
    "model_trace = model.fit(X_train,y_train,verbose=0,epochs=200)\n",
    "y_pred = model.predict(X_test)\n",
    "evaluate(y_pred, y_test, model_trace)"
   ]
  },
  {
   "cell_type": "markdown",
   "metadata": {},
   "source": [
    "## 6.3. BEST MODEL CONFIG. DROPOUT"
   ]
  },
  {
   "cell_type": "code",
   "execution_count": null,
   "metadata": {},
   "outputs": [],
   "source": [
    "model = Sequential()\n",
    "model.add(Dense(60, input_dim=X.shape[1], activation='relu')) # Hidden 1\n",
    "model.add(Dropout(0.1))\n",
    "model.add(Dense(50, activation='relu'))\n",
    "model.add(Dropout(0.1))\n",
    "model.add(Dense(40, activation='relu'))\n",
    "model.add(Dropout(0.1))\n",
    "model.add(Dense(30, activation='relu'))\n",
    "model.add(Dropout(0.1))\n",
    "model.add(Dense(y_cat.shape[1], activation='softmax')) # Output\n",
    "model.compile(loss='categorical_crossentropy', optimizer='adam', metrics=['accuracy'])\n",
    "model.summary() #note, only works if input shape specified, or Input layer given\n",
    "\n",
    "start_fit = time.time()\n",
    "model_trace = model.fit(X_train,y_train, verbose=0,epochs=100)\n",
    "end_fit = time.time()\n",
    "\n",
    "start_pred = time.time()\n",
    "y_pred = model.predict(X_test)\n",
    "end_pred = time.time()\n",
    "\n",
    "time_fit = end_fit - start_fit;\n",
    "time_pred = end_pred - start_pred; \n",
    "\n",
    "print(f'training time:{time_fit}')\n",
    "print(f'test time:{time_pred}')\n",
    "evaluate(y_pred, y_test, model_trace)"
   ]
  },
  {
   "cell_type": "code",
   "execution_count": null,
   "metadata": {},
   "outputs": [],
   "source": [
    "model = Sequential()\n",
    "model.add(Dense(60, input_dim=X.shape[1], activation='relu')) # Hidden 1\n",
    "model.add(Dropout(0.7))\n",
    "model.add(Dense(50, activation='relu'))\n",
    "model.add(Dropout(0.7))\n",
    "model.add(Dense(40, activation='relu'))\n",
    "model.add(Dropout(0.7))\n",
    "model.add(Dense(30, activation='relu'))\n",
    "model.add(Dropout(0.7))\n",
    "model.add(Dense(y_cat.shape[1], activation='softmax')) # Output\n",
    "model.compile(loss='categorical_crossentropy', optimizer='adam', metrics=['accuracy'])\n",
    "model.summary() #note, only works if input shape specified, or Input layer given\n",
    "\n",
    "start_fit = time.time()\n",
    "model_trace = model.fit(X_train,y_train, verbose=0,epochs=100)\n",
    "end_fit = time.time()\n",
    "\n",
    "start_pred = time.time()\n",
    "y_pred = model.predict(X_test)\n",
    "end_pred = time.time()\n",
    "\n",
    "time_fit = end_fit - start_fit;\n",
    "time_pred = end_pred - start_pred; \n",
    "\n",
    "print(f'training time:{time_fit}')\n",
    "print(f'test time:{time_pred}')\n",
    "evaluate(y_pred, y_test, model_trace)"
   ]
  },
  {
   "cell_type": "code",
   "execution_count": null,
   "metadata": {},
   "outputs": [],
   "source": [
    "model = Sequential()\n",
    "model.add(Dense(60, input_dim=X.shape[1], activation='relu')) # Hidden 1\n",
    "model.add(Dropout(0.3))\n",
    "model.add(Dense(50, activation='relu'))\n",
    "model.add(Dropout(0.3))\n",
    "model.add(Dense(40, activation='relu'))\n",
    "model.add(Dropout(0.3))\n",
    "model.add(Dense(30, activation='relu'))\n",
    "model.add(Dropout(0.3))\n",
    "model.add(Dense(y_cat.shape[1], activation='softmax')) # Output\n",
    "model.compile(loss='categorical_crossentropy', optimizer='adam', metrics=['accuracy'])\n",
    "model.summary() #note, only works if input shape specified, or Input layer given\n",
    "\n",
    "start_fit = time.time()\n",
    "model_trace = model.fit(X_train,y_train, verbose=0,epochs=100)\n",
    "end_fit = time.time()\n",
    "\n",
    "start_pred = time.time()\n",
    "y_pred = model.predict(X_test)\n",
    "end_pred = time.time()\n",
    "\n",
    "time_fit = end_fit - start_fit;\n",
    "time_pred = end_pred - start_pred; \n",
    "\n",
    "print(f'training time:{time_fit}')\n",
    "print(f'test time:{time_pred}')\n",
    "evaluate(y_pred, y_test, model_trace)"
   ]
  },
  {
   "cell_type": "markdown",
   "metadata": {},
   "source": [
    "# 7. Best model with best data"
   ]
  },
  {
   "cell_type": "code",
   "execution_count": null,
   "metadata": {},
   "outputs": [],
   "source": [
    "def evaluate_raw(y_pred, y_test):\n",
    "    \n",
    "    # Apply argmax\n",
    "    y_pred = np.argmax(y_pred,axis=1)\n",
    "    y_compare = y_test - 1\n",
    "    \n",
    "    print(\"Accuracy: %.2f\"%accuracy_score(y_pred,y_compare))\n",
    "    print(\"Recall: %.2f\"%recall_score(y_pred,y_compare,average=\"macro\"))\n",
    "\n",
    "    cm = confusion_matrix(y_compare, y_pred, normalize=\"all\")\n",
    "\n",
    "    disp = ConfusionMatrixDisplay(confusion_matrix=cm,display_labels=[\"1\",\"2\",\"3\"])\n",
    "    disp.plot()\n",
    "    \n",
    "\n",
    "model = Sequential()\n",
    "model.add(Dense(100, input_dim=X.shape[1], activation='relu')) # Hidden 1\n",
    "model.add(Dropout(0.1))\n",
    "model.add(Dense(100, activation='relu'))\n",
    "model.add(Dropout(0.1))\n",
    "model.add(Dense(100, activation='relu'))\n",
    "model.add(Dropout(0.1))\n",
    "model.add(Dense(100, activation='relu'))\n",
    "model.add(Dropout(0.1))\n",
    "model.add(Dense(y_cat.shape[1], activation='softmax')) # Output\n",
    "model.compile(loss='categorical_crossentropy', optimizer='adam', metrics=['accuracy'])\n",
    "model.summary() #note, only works if input shape specified, or Input layer given\n",
    "\n",
    "start_fit = time.time()\n",
    "model_trace = model.fit(X_train,y_train, verbose=0,epochs=150)\n",
    "end_fit = time.time()\n",
    "\n",
    "start_pred = time.time()\n",
    "y_pred = model.predict(X_raw)\n",
    "end_pred = time.time()\n",
    "\n",
    "time_fit = end_fit - start_fit;\n",
    "time_pred = end_pred - start_pred; \n",
    "\n",
    "print(f'training time:{time_fit}')\n",
    "print(f'test time:{time_pred}')"
   ]
  },
  {
   "cell_type": "code",
   "execution_count": null,
   "metadata": {},
   "outputs": [],
   "source": [
    "y_pred = np.argmax(y_pred,axis=1)\n",
    "y_compare = np.argmax(y_cat_raw,axis=1)\n",
    "\n",
    "cm = confusion_matrix(y_compare, y_pred, normalize=\"all\")\n",
    "disp = ConfusionMatrixDisplay(confusion_matrix=cm,display_labels=[\"1\",\"2\",\"3\"])\n",
    "disp.plot()\n"
   ]
  },
  {
   "cell_type": "code",
   "execution_count": null,
   "metadata": {},
   "outputs": [],
   "source": [
    "    print(\"Accuracy: %.2f\"%accuracy_score(y_pred,y_compare))\n",
    "    print(\"Recall: %.2f\"%recall_score(y_pred,y_compare,average=\"macro\"))"
   ]
  },
  {
   "cell_type": "code",
   "execution_count": null,
   "metadata": {},
   "outputs": [],
   "source": []
  }
 ],
 "metadata": {
  "kernelspec": {
   "display_name": "Python 3 (ipykernel)",
   "language": "python",
   "name": "python3"
  },
  "language_info": {
   "codemirror_mode": {
    "name": "ipython",
    "version": 3
   },
   "file_extension": ".py",
   "mimetype": "text/x-python",
   "name": "python",
   "nbconvert_exporter": "python",
   "pygments_lexer": "ipython3",
   "version": "3.9.12"
  },
  "vscode": {
   "interpreter": {
    "hash": "aee8b7b246df8f9039afb4144a1f6fd8d2ca17a180786b69acc140d282b71a49"
   }
  }
 },
 "nbformat": 4,
 "nbformat_minor": 4
}
