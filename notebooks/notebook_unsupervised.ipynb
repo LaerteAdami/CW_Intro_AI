{
 "cells": [
  {
   "cell_type": "markdown",
   "id": "efa7ef2e",
   "metadata": {},
   "source": [
    "## Unsupervised learning"
   ]
  },
  {
   "cell_type": "markdown",
   "id": "db4e4fc8",
   "metadata": {},
   "source": [
    "Objective: apply some methods and evaluate the sensitivity to class with different numerosity"
   ]
  },
  {
   "cell_type": "code",
   "execution_count": 47,
   "id": "cf2e8fd6",
   "metadata": {},
   "outputs": [],
   "source": [
    "from sklearn.cluster import KMeans\n",
    "from sklearn.mixture import GaussianMixture\n",
    "from scipy.stats import mode"
   ]
  },
  {
   "cell_type": "code",
   "execution_count": 48,
   "id": "fdc95257",
   "metadata": {
    "scrolled": true
   },
   "outputs": [
    {
     "name": "stdout",
     "output_type": "stream",
     "text": [
      "K-means accuracy: 0.78\n"
     ]
    }
   ],
   "source": [
    "kmeans = KMeans(n_clusters=3)\n",
    "kmeans.fit(X)\n",
    "clusters = kmeans.predict(X)\n",
    "\n",
    "y_kmeans = np.zeros_like(clusters)\n",
    "for i in range(3):\n",
    "    mask = (clusters == i)\n",
    "    y_kmeans[mask] = mode(y1[mask])[0]\n",
    "\n",
    "print(\"K-means accuracy: %.2f\" %accuracy_score(y_kmeans, y1))"
   ]
  },
  {
   "cell_type": "code",
   "execution_count": 49,
   "id": "1c8d5a9a",
   "metadata": {
    "scrolled": true
   },
   "outputs": [
    {
     "name": "stdout",
     "output_type": "stream",
     "text": [
      "K-means accuracy: 0.47\n"
     ]
    }
   ],
   "source": [
    "kmeans = KMeans(n_clusters=3)\n",
    "kmeans.fit(X_over)\n",
    "clusters = kmeans.predict(X_over)\n",
    "\n",
    "y_kmeans_over = np.zeros_like(clusters)\n",
    "for i in range(3):\n",
    "    mask = (clusters == i)\n",
    "    y_kmeans_over[mask] = mode(y1_over[mask])[0]\n",
    "\n",
    "print(\"K-means accuracy: %.2f\" %accuracy_score(y_kmeans_over, y1_over))"
   ]
  },
  {
   "cell_type": "markdown",
   "id": "50896b11",
   "metadata": {},
   "source": [
    "The accuracy obtained applying a Kmeans method with 3 clusters is very low. This means that the methods is doing  very inaccurate predictions.\n",
    "As a first workaround, our intention is to apply a Gaussian Mixture Model in order to understand when this problem comes from."
   ]
  },
  {
   "cell_type": "code",
   "execution_count": 50,
   "id": "3a0f75af",
   "metadata": {
    "scrolled": true
   },
   "outputs": [
    {
     "name": "stdout",
     "output_type": "stream",
     "text": [
      "GMM accuracy: 0.78\n"
     ]
    }
   ],
   "source": [
    "gmm = GaussianMixture(n_components=3,  covariance_type='full', random_state=42)\n",
    "gmm.fit(X)\n",
    "clusters = gmm.predict(X)\n",
    "\n",
    "y_gmm = np.zeros_like(clusters)\n",
    "for i in range(3):\n",
    "    mask = (clusters == i)\n",
    "    y_gmm[mask] = mode(y1[mask])[0]\n",
    "\n",
    "print(\"GMM accuracy: %.2f\" %accuracy_score(y_gmm, y1))"
   ]
  },
  {
   "cell_type": "markdown",
   "id": "45ce2a61",
   "metadata": {},
   "source": [
    "### KMeans to subsampled data"
   ]
  },
  {
   "cell_type": "code",
   "execution_count": 51,
   "id": "e8b0fd48",
   "metadata": {},
   "outputs": [
    {
     "name": "stdout",
     "output_type": "stream",
     "text": [
      "K-means accuracy: 0.48\n"
     ]
    }
   ],
   "source": [
    "kmeans = KMeans(n_clusters=3)\n",
    "kmeans.fit(X_sub)\n",
    "clusters = kmeans.predict(X_sub)\n",
    "\n",
    "y_sub_kmeans = np.zeros_like(clusters)\n",
    "for i in range(3):\n",
    "    mask = (clusters == i)\n",
    "    y_sub_kmeans[mask] = mode(y1_sub[mask])[0]\n",
    "\n",
    "print(\"K-means accuracy: %.2f\" %accuracy_score(y_sub_kmeans, y1_sub))"
   ]
  },
  {
   "cell_type": "code",
   "execution_count": 52,
   "id": "b3bc8dba",
   "metadata": {},
   "outputs": [
    {
     "name": "stdout",
     "output_type": "stream",
     "text": [
      "GMM accuracy: 0.51\n"
     ]
    }
   ],
   "source": [
    "gmm = GaussianMixture(n_components=3,  covariance_type='full', random_state=42)\n",
    "gmm.fit(X_sub)\n",
    "clusters = gmm.predict(X_sub)\n",
    "\n",
    "ysub_gmm = np.zeros_like(clusters)\n",
    "for i in range(3):\n",
    "    mask = (clusters == i)\n",
    "    ysub_gmm[mask] = mode(y1_sub[mask])[0]\n",
    "\n",
    "print(\"GMM accuracy: %.2f\" %accuracy_score(ysub_gmm, y1_sub))"
   ]
  },
  {
   "cell_type": "code",
   "execution_count": null,
   "id": "f0462451",
   "metadata": {},
   "outputs": [],
   "source": []
  },
  {
   "cell_type": "code",
   "execution_count": null,
   "id": "d79295c8",
   "metadata": {},
   "outputs": [],
   "source": []
  },
  {
   "cell_type": "code",
   "execution_count": null,
   "id": "6556263a",
   "metadata": {},
   "outputs": [],
   "source": []
  }
 ],
 "metadata": {
  "kernelspec": {
   "display_name": "Python 3 (ipykernel)",
   "language": "python",
   "name": "python3"
  },
  "language_info": {
   "codemirror_mode": {
    "name": "ipython",
    "version": 3
   },
   "file_extension": ".py",
   "mimetype": "text/x-python",
   "name": "python",
   "nbconvert_exporter": "python",
   "pygments_lexer": "ipython3",
   "version": "3.9.12"
  }
 },
 "nbformat": 4,
 "nbformat_minor": 5
}
