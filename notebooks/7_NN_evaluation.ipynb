{
 "cells": [
  {
   "cell_type": "markdown",
   "id": "73a7e8b5-8333-4262-bf04-ce72bad0aded",
   "metadata": {},
   "source": [
    "# Neural Network Evaluation"
   ]
  },
  {
   "cell_type": "markdown",
   "id": "f93b8867-98f3-415c-a769-6d5230bb3034",
   "metadata": {},
   "source": [
    "## Data"
   ]
  },
  {
   "cell_type": "markdown",
   "id": "8c98eba2-928a-4ef8-9508-cebe83d93aea",
   "metadata": {},
   "source": [
    "First, we import useful packages."
   ]
  },
  {
   "cell_type": "code",
   "execution_count": 1,
   "id": "6c3e0cca-daeb-4480-ba66-262997f8e578",
   "metadata": {},
   "outputs": [
    {
     "name": "stderr",
     "output_type": "stream",
     "text": [
      "2022-12-14 18:24:42.484966: I tensorflow/core/platform/cpu_feature_guard.cc:193] This TensorFlow binary is optimized with oneAPI Deep Neural Network Library (oneDNN) to use the following CPU instructions in performance-critical operations:  AVX2 FMA\n",
      "To enable them in other operations, rebuild TensorFlow with the appropriate compiler flags.\n"
     ]
    }
   ],
   "source": [
    "#basics\n",
    "import pandas as pd\n",
    "import matplotlib.pyplot as plt\n",
    "import numpy as np\n",
    "import time\n",
    "\n",
    "#sklearn\n",
    "from sklearn.model_selection import train_test_split\n",
    "from sklearn.metrics import confusion_matrix, ConfusionMatrixDisplay, accuracy_score, mean_squared_error, recall_score\n",
    "from sklearn.decomposition import PCA\n",
    "\n",
    "# tensorflow\n",
    "import tensorflow as tf\n",
    "from tensorflow import keras\n",
    "from tensorflow.keras import utils \n",
    "from tensorflow.keras.models import Sequential\n",
    "from tensorflow.keras.utils import to_categorical\n",
    "from tensorflow.keras.layers import Dense, Dropout\n",
    "\n",
    "plt.rcParams['text.usetex'] = True\n",
    "plt.rcParams['font.size'] = 17"
   ]
  },
  {
   "cell_type": "code",
   "execution_count": 2,
   "id": "7b729f3e-4f7f-4fd5-a532-6ddbbb80778a",
   "metadata": {},
   "outputs": [],
   "source": [
    "# Columns to be considered in the dataset\n",
    "columns = [\"LB\", \"AC\", \"FM\", \"UC\", \"DL\", \"DP\", \n",
    "           \"ASTV\", \"MSTV\", \"ALTV\", \"MLTV\", \"Width\", \"Min\", \n",
    "           \"Max\", \"Nmax\", \"Nzeros\", \"Mode\", \"Mean\", \"Median\", \"Variance\", \"Tendency\"]\n",
    "\n",
    "path = \"../data/\""
   ]
  },
  {
   "cell_type": "markdown",
   "id": "3506e656-513c-4d4e-ac2c-77322c6029d6",
   "metadata": {},
   "source": [
    "### Clean "
   ]
  },
  {
   "cell_type": "markdown",
   "id": "615139d5-02a9-4086-b4d5-81b0d0cb4f5a",
   "metadata": {},
   "source": [
    "We load the preprocessed dataset."
   ]
  },
  {
   "cell_type": "code",
   "execution_count": 3,
   "id": "2c4a7364-ab27-4eda-acb4-61f41c486f36",
   "metadata": {},
   "outputs": [],
   "source": [
    "filename = \"prep_data.csv\"\n",
    "\n",
    "df = pd.read_csv(path+filename)\n",
    "df = df.reindex(np.random.permutation(df.index))\n",
    "\n",
    "#Prepare X and y\n",
    "X = df[columns]\n",
    "y = df[\"NSP\"]\n",
    "\n",
    "#One-hot enconding of target values \n",
    "y_cat = utils.to_categorical(y-1)\n",
    "\n",
    "X_train, X_test, y_train, y_test = train_test_split(\n",
    "    X, y_cat, train_size=0.8,random_state=45)"
   ]
  },
  {
   "cell_type": "markdown",
   "id": "0a23dd50-c566-40d1-99c3-3abbde2d2697",
   "metadata": {},
   "source": [
    "### Real"
   ]
  },
  {
   "cell_type": "markdown",
   "id": "def7df13-5cf4-4820-8f6e-25ff6070a48b",
   "metadata": {},
   "source": [
    "We load the raw dataset."
   ]
  },
  {
   "cell_type": "code",
   "execution_count": 4,
   "id": "75d641a5-6269-4b9d-90bf-e044a84367b9",
   "metadata": {},
   "outputs": [],
   "source": [
    "filename = \"CTG.xls\"\n",
    "\n",
    "df_raw = pd.read_excel(path+filename, sheet_name = \"Data\",header=1)\n",
    "df_raw = df_raw.reindex(np.random.permutation(df_raw.index))\n",
    "\n",
    "#Prepare X and y\n",
    "X_raw = df_raw[columns]\n",
    "y_raw = df_raw[\"NSP\"]\n",
    "\n",
    "#One-hot enconding of target values \n",
    "y_cat_raw = utils.to_categorical(y_raw-1)\n",
    "\n",
    "X_train_raw, X_test_raw, y_train_raw, y_test_raw = train_test_split(\n",
    "    X_raw, y_cat_raw, train_size=0.8,random_state=45)"
   ]
  },
  {
   "cell_type": "markdown",
   "id": "328f09d0-ba0b-4a4a-adac-e7367b953a69",
   "metadata": {
    "tags": []
   },
   "source": [
    "## Evaluation "
   ]
  },
  {
   "cell_type": "markdown",
   "id": "0fa6ba99-91b6-49ac-8e87-131eaa8a7032",
   "metadata": {},
   "source": [
    "The final evaluation of the developed neural network is carried out by applying the optimised model to the raw dataset. In order to obtain meaningful feedback on the quality of the neural network, we will perform the final analysis by comparing our optimised model with some of the models developed during the analysis. In particular, we analyse:\n",
    "\n",
    "- Complete strategy without dropout\n",
    "- Complete strategy with dropout\n",
    "- PCA strategy"
   ]
  },
  {
   "cell_type": "markdown",
   "id": "debd5eba-ba8c-4905-ac19-5cbad884c569",
   "metadata": {},
   "source": [
    "### Complete strategy + No dropout"
   ]
  },
  {
   "cell_type": "markdown",
   "id": "9923b7e1-d08a-4379-aed6-661595168cc6",
   "metadata": {},
   "source": [
    "We test the model trained without PCA and dropout with the real dataset to see how well it performs. "
   ]
  },
  {
   "cell_type": "code",
   "execution_count": 5,
   "id": "b7a89b8d-e625-45ab-817f-bd6252da1978",
   "metadata": {},
   "outputs": [
    {
     "name": "stdout",
     "output_type": "stream",
     "text": [
      "Model: \"sequential\"\n",
      "_________________________________________________________________\n",
      " Layer (type)                Output Shape              Param #   \n",
      "=================================================================\n",
      " dense (Dense)               (None, 100)               2100      \n",
      "                                                                 \n",
      " dense_1 (Dense)             (None, 100)               10100     \n",
      "                                                                 \n",
      " dense_2 (Dense)             (None, 100)               10100     \n",
      "                                                                 \n",
      " dense_3 (Dense)             (None, 100)               10100     \n",
      "                                                                 \n",
      " dense_4 (Dense)             (None, 3)                 303       \n"
     ]
    },
    {
     "name": "stderr",
     "output_type": "stream",
     "text": [
      "2022-12-14 18:24:49.661269: I tensorflow/core/platform/cpu_feature_guard.cc:193] This TensorFlow binary is optimized with oneAPI Deep Neural Network Library (oneDNN) to use the following CPU instructions in performance-critical operations:  AVX2 FMA\n",
      "To enable them in other operations, rebuild TensorFlow with the appropriate compiler flags.\n"
     ]
    },
    {
     "name": "stdout",
     "output_type": "stream",
     "text": [
      "                                                                 \n",
      "=================================================================\n",
      "Total params: 32,703\n",
      "Trainable params: 32,703\n",
      "Non-trainable params: 0\n",
      "_________________________________________________________________\n",
      "67/67 [==============================] - 0s 905us/step\n",
      "Accuracy: 0.94\n",
      "Recall: 0.86\n"
     ]
    },
    {
     "data": {
      "image/png": "[encoded data removed]",
      "text/plain": [
       "<Figure size 640x480 with 2 Axes>"
      ]
     },
     "metadata": {},
     "output_type": "display_data"
    }
   ],
   "source": [
    "model = Sequential()\n",
    "model.add(Dense(100, input_dim=X.shape[1], activation='relu')) # Hidden 1\n",
    "model.add(Dense(100, activation='relu'))\n",
    "model.add(Dense(100, activation='relu'))\n",
    "model.add(Dense(100, activation='relu'))\n",
    "model.add(Dense(y_cat.shape[1], activation='softmax')) # Output\n",
    "model.compile(loss='categorical_crossentropy', optimizer='adam', metrics=['accuracy'])\n",
    "model.summary() #note, only works if input shape specified, or Input layer given\n",
    "\n",
    "model_trace = model.fit(X_train,y_train, verbose=0,epochs=150, validation_data=(X_test, y_test))\n",
    "y_pred = model.predict(X_raw)\n",
    "\n",
    "y_pred = np.argmax(y_pred,axis=1)\n",
    "y_compare = np.argmax(y_cat_raw,axis=1)\n",
    "\n",
    "print(\"Accuracy: %.2f\"%accuracy_score(y_pred,y_compare))\n",
    "print(\"Recall: %.2f\"%recall_score(y_pred,y_compare,average=\"macro\"))\n",
    "\n",
    "cm = confusion_matrix(y_compare, y_pred, normalize=\"all\")\n",
    "disp = ConfusionMatrixDisplay(confusion_matrix=cm,display_labels=[\"1\",\"2\",\"3\"])\n",
    "disp.plot();\n",
    "plt.savefig(\"../results/complete_strat_nopca\")"
   ]
  },
  {
   "cell_type": "markdown",
   "id": "b85670b6-0317-4458-b4de-3449bdff62c7",
   "metadata": {},
   "source": [
    "### Complete strategy  + 0.1 dropout"
   ]
  },
  {
   "cell_type": "markdown",
   "id": "0b3c2558-ba61-4d42-9f53-9b199b3f3530",
   "metadata": {},
   "source": [
    "We test the optimised model, i.e., trained without PCA and with 0.1 dropout, with the raw dataset to see how well it performs. "
   ]
  },
  {
   "cell_type": "code",
   "execution_count": 6,
   "id": "81eee4a8-d66c-4dee-b606-7d70bd1219fc",
   "metadata": {},
   "outputs": [
    {
     "name": "stdout",
     "output_type": "stream",
     "text": [
      "Model: \"sequential_1\"\n",
      "_________________________________________________________________\n",
      " Layer (type)                Output Shape              Param #   \n",
      "=================================================================\n",
      " dense_5 (Dense)             (None, 100)               2100      \n",
      "                                                                 \n",
      " dropout (Dropout)           (None, 100)               0         \n",
      "                                                                 \n",
      " dense_6 (Dense)             (None, 100)               10100     \n",
      "                                                                 \n",
      " dropout_1 (Dropout)         (None, 100)               0         \n",
      "                                                                 \n",
      " dense_7 (Dense)             (None, 100)               10100     \n",
      "                                                                 \n",
      " dropout_2 (Dropout)         (None, 100)               0         \n",
      "                                                                 \n",
      " dense_8 (Dense)             (None, 100)               10100     \n",
      "                                                                 \n",
      " dropout_3 (Dropout)         (None, 100)               0         \n",
      "                                                                 \n",
      " dense_9 (Dense)             (None, 3)                 303       \n",
      "                                                                 \n",
      "=================================================================\n",
      "Total params: 32,703\n",
      "Trainable params: 32,703\n",
      "Non-trainable params: 0\n",
      "_________________________________________________________________\n",
      "67/67 [==============================] - 0s 860us/step\n",
      "Accuracy: 0.94\n",
      "Recall: 0.88\n"
     ]
    },
    {
     "data": {
      "image/png": "[encoded data removed]",
      "text/plain": [
       "<Figure size 640x480 with 2 Axes>"
      ]
     },
     "metadata": {},
     "output_type": "display_data"
    }
   ],
   "source": [
    "model = Sequential()\n",
    "model.add(Dense(100, input_dim=X.shape[1], activation='relu')) # Hidden 1\n",
    "model.add(Dropout(0.1))\n",
    "model.add(Dense(100, activation='relu'))\n",
    "model.add(Dropout(0.1))\n",
    "model.add(Dense(100, activation='relu'))\n",
    "model.add(Dropout(0.1))\n",
    "model.add(Dense(100, activation='relu'))\n",
    "model.add(Dropout(0.1))\n",
    "model.add(Dense(y_cat.shape[1], activation='softmax')) # Output\n",
    "model.compile(loss='categorical_crossentropy', optimizer='adam', metrics=['accuracy'])\n",
    "model.summary() #note, only works if input shape specified, or Input layer given\n",
    "\n",
    "\n",
    "model_trace = model.fit(X_train,y_train, verbose=0,epochs=150, validation_data=(X_test, y_test))\n",
    "y_pred = model.predict(X_raw)\n",
    "\n",
    "y_pred = np.argmax(y_pred,axis=1)\n",
    "y_compare = np.argmax(y_cat_raw,axis=1)\n",
    "\n",
    "print(\"Accuracy: %.2f\"%accuracy_score(y_pred,y_compare))\n",
    "print(\"Recall: %.2f\"%recall_score(y_pred,y_compare,average=\"macro\"))\n",
    "\n",
    "cm = confusion_matrix(y_compare, y_pred, normalize=\"all\")\n",
    "disp = ConfusionMatrixDisplay(confusion_matrix=cm,display_labels=[\"1\",\"2\",\"3\"])\n",
    "disp.plot();\n",
    "\n",
    "plt.savefig(\"../results/complete_strat_pca\")"
   ]
  },
  {
   "cell_type": "markdown",
   "id": "40359e9f-f693-4a24-a998-84a766fee053",
   "metadata": {},
   "source": [
    "### PCA strategy"
   ]
  },
  {
   "cell_type": "markdown",
   "id": "578e15cb-b784-440e-b659-49cb645cfb2a",
   "metadata": {},
   "source": [
    "Apply PCA as done in notebook *4_NN_PCA*:"
   ]
  },
  {
   "cell_type": "code",
   "execution_count": 7,
   "id": "024805fa-493c-4205-a88b-c03e42310ab7",
   "metadata": {},
   "outputs": [],
   "source": [
    "pca = PCA(3) \n",
    "\n",
    "# Apply PCA to pre-processed data\n",
    "X3 = pca.fit_transform(X)\n",
    "\n",
    "# Apply PCA to real data\n",
    "X3_raw = pca.fit_transform(X_raw)\n",
    "\n",
    "# Split in train and test dataset\n",
    "X3_train, X3_test, y3_train, y3_test = train_test_split(X3, y_cat, random_state = 45, train_size = 0.8)"
   ]
  },
  {
   "cell_type": "code",
   "execution_count": 8,
   "id": "c88307a2-675c-4d18-b1db-98a72414d30e",
   "metadata": {},
   "outputs": [
    {
     "name": "stdout",
     "output_type": "stream",
     "text": [
      "Model: \"sequential_2\"\n",
      "_________________________________________________________________\n",
      " Layer (type)                Output Shape              Param #   \n",
      "=================================================================\n",
      " dense_10 (Dense)            (None, 100)               400       \n",
      "                                                                 \n",
      " dense_11 (Dense)            (None, 100)               10100     \n",
      "                                                                 \n",
      " dense_12 (Dense)            (None, 100)               10100     \n",
      "                                                                 \n",
      " dense_13 (Dense)            (None, 100)               10100     \n",
      "                                                                 \n",
      " dense_14 (Dense)            (None, 3)                 303       \n",
      "                                                                 \n",
      "=================================================================\n",
      "Total params: 31,003\n",
      "Trainable params: 31,003\n",
      "Non-trainable params: 0\n",
      "_________________________________________________________________\n",
      "67/67 [==============================] - 0s 896us/step\n",
      "Accuracy: 0.45\n",
      "Recall: 0.38\n"
     ]
    },
    {
     "data": {
      "image/png": "[encoded data removed]",
      "text/plain": [
       "<Figure size 640x480 with 2 Axes>"
      ]
     },
     "metadata": {},
     "output_type": "display_data"
    }
   ],
   "source": [
    "model = Sequential()\n",
    "model.add(Dense(100, input_dim=X3.shape[1], activation='relu'))\n",
    "model.add(Dense(100, activation='relu'))\n",
    "model.add(Dense(100, activation='relu'))\n",
    "model.add(Dense(100, activation='relu'))\n",
    "model.add(Dense(y_cat.shape[1],activation='softmax'))\n",
    "model.compile(loss='categorical_crossentropy', optimizer='adam', metrics=[\"accuracy\"])\n",
    "model.summary()\n",
    "\n",
    "model_trace = model.fit(X3_train,y3_train,verbose=0,epochs=150,validation_data=(X3_test, y3_test))\n",
    "y_pred = model.predict(X3_raw)\n",
    "\n",
    "y_pred = np.argmax(y_pred,axis=1)\n",
    "y_compare = np.argmax(y_cat_raw,axis=1)\n",
    "\n",
    "print(\"Accuracy: %.2f\"%accuracy_score(y_pred,y_compare))\n",
    "print(\"Recall: %.2f\"%recall_score(y_pred,y_compare,average=\"macro\"))\n",
    "\n",
    "cm = confusion_matrix(y_compare, y_pred, normalize=\"all\")\n",
    "disp = ConfusionMatrixDisplay(confusion_matrix=cm,display_labels=[\"1\",\"2\",\"3\"])\n",
    "disp.plot();\n",
    "\n",
    "plt.savefig(\"../results/pca_strat\")"
   ]
  }
 ],
 "metadata": {
  "kernelspec": {
   "display_name": "Python 3 (ipykernel)",
   "language": "python",
   "name": "python3"
  },
  "language_info": {
   "codemirror_mode": {
    "name": "ipython",
    "version": 3
   },
   "file_extension": ".py",
   "mimetype": "text/x-python",
   "name": "python",
   "nbconvert_exporter": "python",
   "pygments_lexer": "ipython3",
   "version": "3.9.12"
  },
  "toc-showcode": false
 },
 "nbformat": 4,
 "nbformat_minor": 5
}
